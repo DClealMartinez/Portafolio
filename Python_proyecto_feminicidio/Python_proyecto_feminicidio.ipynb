{
 "cells": [
  {
   "cell_type": "markdown",
   "metadata": {},
   "source": [
    "#  Analisis: Feminicido"
   ]
  },
  {
   "cell_type": "markdown",
   "metadata": {},
   "source": [
    "# Descripción del trabajo\n",
    "\n",
    "## Introducción \n",
    "\n",
    "La sentencia número SP 2190-2015 del 4 de marzo del 2015, que derivó en la ley 1761 del 2015, donde se declara el feminicidio como un delito, fue una sentencia histórica para la protección de los derechos para las mujeres, y un reconocimiento al homicidio del sexo femenino como un problema social al cual las instituciones públicas deberían de estar pendientes. En enero de este año, 20 mujeres, según la Procuraduría General de la Nación, fueron víctimas de feminicidio, y en el 2023 se declararon 848 alerta de tentativa de feminicidio. \n",
    "\n",
    "Con el presente proyecto se pretende hacer analisis cualitativo de textos y algunos datos sobre el feminicidio. Cabe aclarar que dado que es un tema delicado y complejo puede que requiera más información, para complementar el estudio."
   ]
  },
  {
   "cell_type": "markdown",
   "metadata": {},
   "source": [
    "## Pregunta principal:\n",
    "\n",
    "¿A que se le puede llamar femenincidio?\n",
    "\n",
    "### Preguntas claves:\n",
    "\n",
    "* ¿Cuáles son las deficiones existente?\n",
    "* ¿Qué se puede decir de la definición dada por la onu?\n",
    "* ¿Qué se puede decir de la ley 1761 del 2015?\n",
    "* ¿se Pueden analizar los datos con las de otras regiones?\n",
    "\n"
   ]
  },
  {
   "cell_type": "markdown",
   "metadata": {},
   "source": [
    "## Definición de feminicidio"
   ]
  },
  {
   "cell_type": "markdown",
   "metadata": {},
   "source": [
    "## ¿Qué definición de feminicidió se toma para realización de este proyecto?"
   ]
  },
  {
   "cell_type": "markdown",
   "metadata": {},
   "source": [
    "### Definición"
   ]
  },
  {
   "cell_type": "markdown",
   "metadata": {},
   "source": [
    "#### La onu define el feminicido como:\n",
    ">El feminicidio se refiere al asesinato de una mujer por el hecho de serlo, el final de un continuum de violencia y la manifestación más brutal de una sociedad patriarcal. Este fenómeno ha sido clasificado según la relación entre víctima y victimario en cuatro categorías:\n",
    "    \n",
    ">1. Feminicidio de pareja íntima.\n",
    ">2. Feminicidio de familiares.\n",
    ">3. Feminicidio por otros conocidos.\n",
    ">4. Feminicidio de extraños, todos estos atravesados por las diferentes opresiones que viven las mujeres día a día.\n",
    "    \n",
    "[ONUmujer](https://colombia.unwomen.org/es/como-trabajamos/fin-a-la-violencia-contra-las-mujeres/feminicidio#:~:text=El%20feminicidio%20se%20refiere%20al,brutal%20de%20una%20sociedad%20patriarcal.)\n",
    "\n",
    "[Comprender y abordar la violencia contra las mujeres](https://www.who.int/es/publications/i/item/WHO-RHR-12.37)\n"
   ]
  },
  {
   "cell_type": "markdown",
   "metadata": {},
   "source": [
    "#### Definición que aparece en la \"ley 1761 del 2015\":\n",
    "\n",
    ">Artículo 2°. La Ley 599 de 2000 tendrá un artículo 104A del siguiente tenor: Artículo 104A. Feminicidio. Quien causare la muerte a una mujer, por su \n",
    "condición de ser mujer o por motivos de su identidad de género o en donde haya concurrido o antecedido cualquiera de las siguientes circunstancias, \n",
    "incurrirá en prisión de dosdentos cincuenta (250) meses a quinientos (500) meses. \n",
    "\n",
    "\n",
    ">a) Tener o haber tenido una relación familiar, íntima o de convivencia con la víctima, de amistad, de compañerismo o de trabajo y ser perpetrador de un ciclo de violencia ñsica, sexual, psicológica o patrimonial que antecedió el crimen contra ella.\n",
    "    \n",
    ">b) Ejercer sobre el cuerpo y la vida de la mujer actos de instrumentalización de género o sexual o acciones de opresión y dominio sobre sus decisiones vitales y su sexualidad. \n",
    "    \n",
    ">c) Cometer el delito en aprovechamiento de las relaciones de poder ejercidas sobre la mujer, expresado en la jerarquización personal, económica, sexual, militar, política o sociocultural. \n",
    "    \n",
    ">d) Cometer el delito para generar terror o humillación a quien se considere enemigo. \n",
    "    \n",
    ">e) Que existan antecedentes o indicios de cualquier tipo de violencia o amenaza en el ámbito doméstico, familiar, laboral o escolar por parte del sujeto activo en contra de la víctima o de género cometida por el autor contra la victima, independiente de que el hecho haya sido denunciado o no.\n",
    "    \n",
    ">f) Que la víctima haya sido incomunicada o privada de su libertad de locomoción,cualquiera que sea el tiempo previo a la muerte de aquella.\n"
   ]
  },
  {
   "cell_type": "markdown",
   "metadata": {},
   "source": [
    "## Definición usada de Feminicidio en el presente trabajo "
   ]
  },
  {
   "cell_type": "markdown",
   "metadata": {},
   "source": [
    "Teniendo en cuenta las definiciones anteriores, podemos decir:\n",
    ">\"Que no todos asesinatos cometidos hacia las mujeres se pueden tomar como feminicidios,  como tal solo aquellos en los que se pueda determinar en los que allá odio hacia la mujer; estos \"posiblemente\" pueden ser cometidos por una persona cercanas, ya sea un pariente un familiar o un amigo\".\n",
    "\n",
    "Esta definición puntal puede llevar a varias interpretaciones, y lo que conlleva en discrepancias de los datos, entre organizaciones oficiales, gubernamentales y no gubernamentales. Por otra parte, el feminicidio está tipificado como un delito en Colombia  desde la ley 1761 del 2015, los delitos en Colombia, se someten a un proceso penal en el  que se tienen tres etapas indagación, investigación y juicio, y en cada etapa puede variar el termino en el que se refieren al asesinto de la mujer;  Por lo tanto, en el presente trabajo, se centra en la definicion dada por la ley colombiana, en caso de tomar datos de algun otra organización, y tomado en cuenta las discrepancias que puede haber respecto a la definición se referirá a la organización que lo dictamine como tal.\n"
   ]
  },
  {
   "cell_type": "code",
   "execution_count": 2,
   "metadata": {},
   "outputs": [],
   "source": [
    "#!pip install --upgrade pandas\n",
    "#!pip show pandas\n",
    "#!pip install sodapy"
   ]
  },
  {
   "cell_type": "markdown",
   "metadata": {},
   "source": [
    "# Librerias\n"
   ]
  },
  {
   "cell_type": "code",
   "execution_count": 3,
   "metadata": {},
   "outputs": [],
   "source": [
    "import pandas as pd\n",
    "import matplotlib.pyplot as plt\n",
    "import numpy as np\n",
    "import requests\n",
    "from bs4 import BeautifulSoup\n",
    "import networkx as nx\n",
    "from sodapy import Socrata\n",
    "from datetime import datetime\n",
    "import locale\n",
    "import seaborn as sns"
   ]
  },
  {
   "cell_type": "code",
   "execution_count": 4,
   "metadata": {},
   "outputs": [],
   "source": [
    "from wordcloud import WordCloud # libreria para hacer luvia de ideas\n"
   ]
  },
  {
   "cell_type": "code",
   "execution_count": 5,
   "metadata": {},
   "outputs": [],
   "source": [
    "#!pip install wordcloud"
   ]
  },
  {
   "cell_type": "code",
   "execution_count": 6,
   "metadata": {},
   "outputs": [],
   "source": [
    "from collections import Counter #para contar"
   ]
  },
  {
   "cell_type": "code",
   "execution_count": 7,
   "metadata": {},
   "outputs": [],
   "source": [
    "import re"
   ]
  },
  {
   "cell_type": "code",
   "execution_count": 8,
   "metadata": {},
   "outputs": [],
   "source": [
    "import string\n"
   ]
  },
  {
   "cell_type": "code",
   "execution_count": 9,
   "metadata": {},
   "outputs": [
    {
     "name": "stderr",
     "output_type": "stream",
     "text": [
      "[nltk_data] Downloading package punkt to\n",
      "[nltk_data]     C:\\Users\\USUARIO\\AppData\\Roaming\\nltk_data...\n",
      "[nltk_data]   Package punkt is already up-to-date!\n"
     ]
    },
    {
     "data": {
      "text/plain": [
       "True"
      ]
     },
     "execution_count": 9,
     "metadata": {},
     "output_type": "execute_result"
    }
   ],
   "source": [
    "import nltk\n",
    "nltk.download('punkt')"
   ]
  },
  {
   "cell_type": "code",
   "execution_count": 10,
   "metadata": {},
   "outputs": [
    {
     "name": "stderr",
     "output_type": "stream",
     "text": [
      "[nltk_data] Downloading package vader_lexicon to\n",
      "[nltk_data]     C:\\Users\\USUARIO\\AppData\\Roaming\\nltk_data...\n",
      "[nltk_data]   Package vader_lexicon is already up-to-date!\n"
     ]
    },
    {
     "data": {
      "text/plain": [
       "True"
      ]
     },
     "execution_count": 10,
     "metadata": {},
     "output_type": "execute_result"
    }
   ],
   "source": [
    "from nltk.sentiment.vader import SentimentIntensityAnalyzer\n",
    "nltk.download('vader_lexicon')"
   ]
  },
  {
   "cell_type": "code",
   "execution_count": 11,
   "metadata": {},
   "outputs": [],
   "source": [
    "from nltk.tokenize import word_tokenize\n",
    "from nltk.corpus import stopwords\n",
    "from nltk.corpus import treebank\n",
    "from nltk.probability import FreqDist\n",
    "from nltk import ngrams"
   ]
  },
  {
   "cell_type": "code",
   "execution_count": 12,
   "metadata": {},
   "outputs": [],
   "source": [
    "#!pip install spacy\n",
    "#!python -m spacy download es_core_news_sm\n",
    "#!pip install -U spacy\n",
    "#!python -m spacy download en_core_web_sm"
   ]
  },
  {
   "cell_type": "code",
   "execution_count": 13,
   "metadata": {},
   "outputs": [],
   "source": [
    "import spacy # libreria para obterner las entidades\n",
    "#nlp = spacy.load(\"es_core_news_sm\")\n",
    "import en_core_web_sm\n",
    "nlp = spacy.load(\"es_core_news_sm\")"
   ]
  },
  {
   "cell_type": "code",
   "execution_count": 14,
   "metadata": {},
   "outputs": [],
   "source": [
    "#!pip install textract"
   ]
  },
  {
   "cell_type": "code",
   "execution_count": 15,
   "metadata": {},
   "outputs": [],
   "source": [
    "import textract"
   ]
  },
  {
   "cell_type": "code",
   "execution_count": 16,
   "metadata": {},
   "outputs": [],
   "source": [
    "#!pip install tika"
   ]
  },
  {
   "cell_type": "code",
   "execution_count": 17,
   "metadata": {},
   "outputs": [],
   "source": [
    "import tika \n",
    "tika.initVM()\n",
    "from tika import parser #libreria para analisis de texto en pdf"
   ]
  },
  {
   "cell_type": "code",
   "execution_count": 18,
   "metadata": {},
   "outputs": [],
   "source": [
    "#!pip install PyPDF2"
   ]
  },
  {
   "cell_type": "code",
   "execution_count": 19,
   "metadata": {},
   "outputs": [],
   "source": [
    "import PyPDF2"
   ]
  },
  {
   "cell_type": "markdown",
   "metadata": {},
   "source": [
    "# Bases de datos"
   ]
  },
  {
   "cell_type": "markdown",
   "metadata": {},
   "source": [
    "## Extracción del texto"
   ]
  },
  {
   "cell_type": "markdown",
   "metadata": {
    "jp-MarkdownHeadingCollapsed": true
   },
   "source": [
    "### función de beutifullsoup  "
   ]
  },
  {
   "cell_type": "code",
   "execution_count": 20,
   "metadata": {},
   "outputs": [],
   "source": [
    "\n",
    "def legible(web):\n",
    "    \"\"\"\n",
    "    La función convierte el texto de un formato HTLM a un texto legible para Python\n",
    "    \"\"\"\n",
    "    url= requests.get(web)\n",
    "    html_content=url.text\n",
    "    \n",
    "    soup = BeautifulSoup(html_content, 'html.parser')\n",
    "    text= soup.get_text()\n",
    "   \n",
    "    return text"
   ]
  },
  {
   "cell_type": "markdown",
   "metadata": {},
   "source": [
    "### ley 1764 del 2015"
   ]
  },
  {
   "cell_type": "code",
   "execution_count": 21,
   "metadata": {},
   "outputs": [],
   "source": [
    "# Ley_1764 = legible(\"https://bibliotecadigital.ccb.org.co/server/api/core/bitstreams/9c796a42-f4b8-4189-b5c1-2b206c0674ad/content\")"
   ]
  },
  {
   "cell_type": "code",
   "execution_count": 22,
   "metadata": {},
   "outputs": [],
   "source": [
    "# se usa tika para traer el texto\n",
    "#file_path = \"ley 1761 del 2015.pdf\"\n",
    "#raw = parser.from_file(file_path)\n",
    "#Ley_1764 = raw['content']\n",
    "\n"
   ]
  },
  {
   "cell_type": "code",
   "execution_count": 23,
   "metadata": {},
   "outputs": [
    {
     "name": "stdout",
     "output_type": "stream",
     "text": [
      "l \n",
      "·;m=y;r'·'r=rrn=m=rmt\" \n",
      "-t~~d: 1761 6JUL2015 \n",
      "\"POR LA CUAL SE CREA EL TIPO PENAL DE FEMINICIDIO COMO \n",
      "DELITO AUTÓNOMO Y SE DICTAN OTRAS DISPOSICIONES\" \n",
      "(ROSA ELVIRA CELY) \n",
      "EL CONGRESO DE COLOMBIA \n",
      "DECRETA: \n",
      "Artículo 1°. Objeto de la ley. La presente ley tiene por objeto tipificar el t1 \n",
      "feminicidio como un delito autónomo, para garantizar la investigación y sanción \n",
      "de las violencias contra las mujeres por motivos de género y discriminación, así \n",
      "como prevenir y erradicar dichas violencias y adoptar estrategias de \n",
      "sensibilización de la sociedad colombiana, en orden a garantizar el acceso de las \n",
      "mujeres a una vida libre de violencias que favorezca su desarrollo integral y su ~ \n",
      "bienestar, de acuerdo con los principios de igualdad y no discriminación. [1 \n",
      "~ Artículo 2°. La Ley 599 de 2000 tendrá un artículo 104A del siguiente tenor: \n",
      "Artículo 104A. Feminicidio. Quien causare la muerte a una mujer, por su \n",
      "condición de ser mujer o por motivos de su identidad de género o en donde \n",
      "haya concurrido o antecedido cualquiera de las siguientes circunstancias, \n",
      "incurrirá en prisión de dosdentos cincuenta (250) meses a quinientos (500) \n",
      "meses. \n",
      "a) Tener o haber tenido una relación familiar, íntima o de convivencia con la \n",
      "víctima, de amistad, de compañerismo o de trabajo y ser perpetrador de un ciclo \n",
      "de violencia ñsica, sexual, psicológica o patrimonial que antecedió el crimen \n",
      "contra ella. \n",
      "b) Ejercer sobre el cuerpo y la vida de la mujer actos de instrumentalización de \n",
      "género o sexual o acciones de opresión y dominio sobre sus decisiones vitales y \n",
      "su sexualidad. \n",
      "c) Cometer el delito en aprovechamiento de las relaciones de poder ejercidas \n",
      "sobre la mujer, expresado en la jerarquización personal, económica, sexual, \n",
      "militar, política o sociocultural. \n",
      "d) Cometer el delito para generar terror o humillación a quien se considere \n",
      "enemigo. \n",
      "e) Que existan antecedentes o indicios de cualquier tipo de violencia o amenaza \n",
      "en el ámbito doméstico, familiar, laboral o escolar por parte del sujeto activo en \n",
      "contra de la víctima o de violencia de género cometida por el autor contra la \n",
      "víctima, independientemente de que el hecho haya sido denundado o no.,r f) Que la víctima haya sido incomunicada o privada de su libertad de locomoción, \n",
      "cualquiera que sea el tiempo previo a la muerte de aquella. \n",
      "Artículo 3°. La Ley 599 de 2000 tendrá un artículo 1046 del siguiente tenor: \n",
      "Artículo 1046. Circunstancias de agravación punitiva del feminicidio. La pena \n",
      "será de quinientos (500) meses a seiscientos (600) meses de prisión, si el i \n",
      "feminicidio se cometiere: \n",
      "a) Cuando el autor tenga la calidad de servidor público y desarrolle la conducta \n",
      "punible aprovechándose de esta calidad . \n",
      ". b) Cuando la conducta punible se cometiere en mujer menor de dieciocho (18) \n",
      "años o mayor de sesenta (60) o mujer en estado de embarazo. \n",
      "c) Cuando la conducta se cometiere con el concurso de otra u otras personas. \n",
      "d) Cuando se cometiere en una mujer en situación de discapacidad física, \n",
      "psíquica o sensorial o desplazamiento forzado, condición socioeconómica o por \n",
      "prejuicios relacionados con la condición étnica o la orientación sexual. \n",
      "e) Cuando la conducta punible fuere cometida en presencia de cualquier persona \n",
      "que integre la unidad doméstica de la víctima. \n",
      "f) Cuando se cometa el delito con posterioridad a una agresión sexual, a la \n",
      "realización de rituales, actos de mutilación genital o cualquier otro tipo de \n",
      "agresión o sufrimiento físico o psicológico. \n",
      "g) Por medio de las circunstancias de agravación punitiva descritas en los \n",
      "numerales 1, 3, S, 6, 7 Y 8 del artículo 104 de este Código. \n",
      "Artículo 4°. Modifíquese el segundo inciso del Artículo 119 del Código Penal ­\n",
      "Ley 599 de 2000, el cual quedará así: \n",
      "Cuando las conductas señaladas en los artículos anteriores se cometan en niños \n",
      "y niñas menores de catorce (14) años o en mujer por el hecho de ser mujer, las \n",
      "respectivas penas se aumentarán en el doble. \n",
      "Artículo 5°. Preacuerdos:· La persona que incurra en el delito de feminicidio solo \n",
      "se le podrá aplicar un medio del beneficio de que trata el artículo 351 de la Ley \n",
      "906 de 2004. Igualmente, no podrá celebrarse preacuerdos sobre los hechos \n",
      "imputados y sus consecuencias. \n",
      "Artículo 6°. Principios rectores de la debida diligencia en materia de \n",
      "investigación y juzgamiento del delito de feminicidio. Con el fin de garantizar la \n",
      "realización de una investigación técnica, especializada, exhaustiva, imparcial, \n",
      "ágil, oportuna y efectiva sobre la comisión de delito de feminicidio, así como el \n",
      "juzga miento sin dilaciones de los presuntos responsables, las autoridades \n",
      "jurisdiccionales competentes deberán actuar con la debida diligencia en todas y \n",
      "cada una de las actuaciones judiciales correspondientes, en acatamiento de los \n",
      "principios de competencia, independencia, imparcialidad, exhaustividad y \n",
      "oportunidad y con miras al respeto del derecho que tienen las víctimas y sus \n",
      "familiares o personas de su entorno social y/o comunitario, a participar y \n",
      "colaborar con la administración de justicia dentro de los procesos de \n",
      "7 investigación y juzgamiento de la comisión de las conductas punibles de las \n",
      "violencias en contra de las mujeres y, en particular del feminicidio. \n",
      "Artículo 70• Actuaciones jurisdiccionales dentro del principio de la diligencia \n",
      "debida para desarrollar las investigaciones y el juzgamiento del delito de \n",
      "feminicidio. Las autoridades jurisdiccionales competentes deberán obrar con la \n",
      "diligencia debida en todas y cada una de las actuaciones judiciales \n",
      "correspondientes, entre otras: \n",
      "I a) La búsqueda e identificación de la víctima o sus restos cuando haya sido \n",
      "1 :::t:::a::::~:::~:nl~:::::::::~:~:::ti:~~:::e~~~lenCias de que fue \n",
      "1 víctima la mujer antes de la muerte, aun cuando estos no hayan sido \n",
      "¡ denunciados. \n",
      "I c) La determinación de los elementos subjetivos del tipo penal relacionados conI las razones de género que motivaron la comisión del delito de feminicidio. \n",
      "d) La ejecución de las órdenes de captura y las medidas de detención preventiva \n",
      "contra él o los responsables del delito de feminicidio. \n",
      "e) El empleo de todos los medios al alcance para la obtención de las pruebas \n",
      "relevantes en orden a determinar las causas de la muerte violenta contra la \n",
      "mujer. \n",
      "f) La ubicación del contexto en el que se cometió el hecho punible y las \n",
      "peculiaridades de la situación y del tipo de violación que se esté investigando. \n",
      "g) La eliminación de los obstáculos y mecanismos de hecho y de derecho que \n",
      "conducen a la impunidad de la violencia feminicida. \n",
      "h) El otorgamiento de garantías de seguridad para los testigos, los familiares de \n",
      "las víctimas de la violencia feminicida, lo mismo que a los operadores de la \n",
      "justicia. \n",
      "i) La sanción a los responsables del delito de feminicidio mediante el uso \n",
      "eficiente y cuidadoso de los medios al alcance de la jurisdicción penal ordinaria o \n",
      "de las jurisdicciones especiales. \n",
      "j) La eliminación de los prejuicios basados en género en relación con las \n",
      "violencias contra las mujeres. \n",
      "Artículo 80• Obligatoriedad y características de la investigación del feminicidio. \n",
      "En los casos de evidencia clara o de sospecha fundada de perpetración de un \n",
      "feminicidio o de una tentativa de feminicidio, las investigaciones deberán ¡ \n",
      "iniciarse de oficio y llevarse a cabo inmediatamente y de modo exhaustivo por \n",
      "personal especializado, dotado de los medios logísticos y metodológicos ,1 \n",
      "suficientes e indispensables para conducir la identificación del o de los I \n",
      "responsables, su judicialización y sanción. \n",
      "El retiro de una denuncia por una presunta víctima no se constituirá en elemento ' \n",
      "determinante para el archivo del proceso. \n",
      "'t f ' \n",
      "3 Artículo 9°. Asistencia Técnico Legal. El Estado, a través de la Defensoría del \n",
      "Pueblo garantizará la orientación, asesoría y representación jurídica a mujeres \n",
      "víctimas de las violencias de género y en especial de la violencia feminicida de \n",
      "manera gratuita, inmediata, especializada y prioritaria desde la perspectiva de \n",
      "género y de los Derechos Humanos de las mujeres, a fin de garantizar su acceso \n",
      "a la administración de justicia, a un recurso judicial efectivo y al otorgamiento de \n",
      "las medidas de protección y atención consagradas en la Ley 1257 de 2008 y en \n",
      "otras instancias administrativas y jurisdiccionales. \n",
      "Esta asistencia técnico legal y la representación jurídica de las mujeres víctimas \n",
      "de las violencias de género la podrán realizar las entidades rectoras de políticas \n",
      "públicas para las mujeres y de equidad de género existentes en el ámbito \n",
      "nacional, departamental, distrital y municipal, de conformidad con sus \n",
      "competencias constitucionales, legales y reglamentarias. \n",
      "En las entidades territoriales donde no existan o no estén contempladas las \n",
      "instancias y los mecanismos de atención, protección y asistencia técnico legal \n",
      "para las mujeres víctimas de las violencias de género, de conformidad con sus \n",
      "competencias constitucionales, legales y reglamentarias, deberán crear las \n",
      "instancias y los mecanismos pertinentes al cumplimiento de lo previsto en el \n",
      "presente artículo, en concordancia con las disposiciones establecidas en el \n",
      "artículo 9° de la Ley 1257 de 2008. \n",
      "Parágrafo. El plazo para la creación de dichas instancias y los mecanismos de \n",
      "atención, protección y asistencia técnico legal para las mujeres víctimas de la \n",
      "violencia de género en las entidades territoriales no pod¡á superar el plazo de un \n",
      "(1) año, contado a partir de la promulgación de la presente ley. \n",
      "Artículo 10. Sobre la perspectiva de género en la educación preescolar, básica \n",
      "y media. A partir de la promulgación de la presente ley, el Ministerio de \n",
      "Educación Nacional dispondrá lo necesario para que las instituciones educativas \n",
      "de preescolar, básica y media incorporen a la malla curricular, la perspectiva de \n",
      "género y las reflexiones alrededor de la misma, centrándose en la protección de \n",
      "la mujer como base fundamental de la sociedad, en el marco del desarrollo de \n",
      "competencias básicas y ciudadanas, según el ciclo vital y educativo de los \n",
      "estudiantes. Dicha incorporación será realizada a través de proyectos \n",
      "pedagógicos transversales basados en principios de interdisciplinariedad, \n",
      "intersectorialidad, e interinstitucionalidad sin vulnerar al ideario religioso y ético \n",
      "de las instituciones educativas, así como el derecho de los padres a elegir la \n",
      "educación moral y religiosa para sus hijos. Ij \n",
      "Parágrafo 1°. El Ministerio de Educación Nacional, establecerá e implementará \n",
      "los mecanismos de monitoreo y evaluación permanente del proceso de \n",
      "incorporación del enfoque de género en los proyectos pedagógicos y sus \n",
      "resultados, sobre lo cual deberá entregar un informe anual a la Comisión Legal \n",
      "para la Equidad de la Mujer del Congreso de la República de Colombia y a las \n",
      "autoridades que lo requieran. \n",
      "Parágrafo 2°. El Ministerio de Educación Nacional tendrá un plazo de seis (6) \n",
      "meses contados a partir de la promulgación de la presente ley para iniciar el \n",
      "proceso de reglamentación que garantice la efectiva integración del enfoque de \n",
      "género a los procesos y proyectos pedagógicos en todas las instituciones \n",
      "educativas de preescolar, básica y media. 'ti \n",
      "~~~~~~~~~~~~~~~~~~~~~~~~~~~~ I Artículo 11. Formación de género, Derechos Humanos o Derecho Internacional \n",
      "Humanitario de los servidores públicos. A partir de la promulgación de la \n",
      "presente ley, los servidores públicos de la Rama Ejecutiva o Judicial en \n",
      "cualquiera de los órdenes que tengan funciones o competencias en la \n",
      "prevención, investigación, judicialización, sanción y reparación de todas las \n",
      "formas de violencia contra las mujeres, deberán recibir formación en género, \n",
      "Derechos Humanos y Derecho Internacional Humanitario, en los procesos de \n",
      "inducción y reinducción en los que deban participar, de acuerdo con las normas \n",
      "que regulen sus respectivos empleos. \n",
      "Artículo 12. Adopción de un Sistema Nacional de Estadísticas sobre Violencia \n",
      "Basada en Género. Dentro del año siguiente a la promulgación de la presente \n",
      "ley, el Departamento Nacional de Estadísticas (DANE), en coordinación con el \n",
      "Ministerio de Justicia y del Derecho y el Instituto de Medicina Legal y Ciencias \n",
      "Forenses (INMLCF), adoptarán un Sistema Nacional de Recopilación de Datos \n",
      "sobre los hechos relacionados con la violencia de género en el país, en orden a \n",
      "establecer los tipos, ámbitos, modalidades, frecuencia, medios utilizados para \n",
      "ejecutar la violencia, niveles de impacto personal y social, medidas otorgadas, \n",
      "servicios prestados y estado del proceso judicial, para la definición de políticas \n",
      "públicas de prevención, protección, atención y reparación de las víctimas de la \n",
      "violencia de género. \n",
      "Artículo 13. Vigencia. La presente ley rige a partir de su promulgación y \n",
      "deroga el numeral undécimo del artículo 104 del Código Penal -Ley 599 de \n",
      "2000, así como las demás disposiciones que le sean contrarias. \n",
      "/ \n",
      "El P1SIDE E DEL H. SqNAD DE lJ\\ REPUBllCA \n",
      "( v~ , \n",
      "; \n",
      "El SECRETARIO GEI\\lERAL DEL H. SENADO DE LA REPUBLICA \n",
      ": ; \n",
      "\"J , .> \n",
      "GREGORI~~ \n",
      "EL PRESIDENTE DE LA H. CÁMARA DE REPRESENTANTES \n",
      "G?l1 70 U le::J,\n",
      "FABIO RAUL AMIN SALEME \n",
      "EL SECRETARIO GENERAL DE LA H. CÁMARA DE REPRESENTANTES \n",
      "5 ------------------------\\ \n",
      "-·L~tjhk ' 1761 \n",
      "\"POR LA CUAL SE CREA EL TIPO PENAL DE FEMINICIDIO COMO DELITO \n",
      "AUTÓNOMO Y SE DICTAN OTRAS DISPOSICIONES\" \n",
      "(ROSA ELVIRA CEL Y) \n",
      "REPÚBLICA DE COLOMBIA -GOBIERNO NACIONAL \n",
      "PUBLíQUESE Y CÚMPLASE \n",
      "Dada en Bogotá, D.C., a los 6JUL 2015 \n",
      "EL MINISTRO DE JUSTICIA Y DEL DERECHO, \n",
      "~~/,/ \n",
      "YEjiC(RÉV(S ALVARADO \n",
      "LA MINISTRA DE EDUCACiÓN NACIONAL, \n",
      "COlrora1Jz ce)\"I \n",
      "GINA PARODY D'ECHEONi \n",
      "EL DIRECTOR DEL DEPARTAMENTO NACIONAL DE ESTADíSTICA -DANE, \n",
      "/)I\\I~C O M ¿)~ \n",
      "MAURICIO PERFETTI DEL CORRAL \n"
     ]
    }
   ],
   "source": [
    "file_path = \"ley 1761 del 2015.pdf\"\n",
    "\n",
    "with open(file_path, 'rb') as file:\n",
    "    reader = PyPDF2.PdfReader(file)\n",
    "    Ley_1764 = \"\"\n",
    "    for page in reader.pages:\n",
    "        Ley_1764 += page.extract_text()\n",
    "\n",
    "print(Ley_1764)"
   ]
  },
  {
   "cell_type": "markdown",
   "metadata": {},
   "source": [
    "### informe de ONU"
   ]
  },
  {
   "cell_type": "code",
   "execution_count": 24,
   "metadata": {},
   "outputs": [
    {
     "name": "stdout",
     "output_type": "stream",
     "text": [
      "Comprender y abordar la violencia \n",
      "contra las mujeres\n",
      "Femicidio\n",
      "La violencia contra las mujeres abarca una amplia gama de actos, \n",
      "desde el acoso verbal y otras formas de abuso emocional, al abuso físico o sexual cotidiano. En el extremo del espectro está el \n",
      "femicidio: el asesinato de una mujer ( 1,2).\n",
      "Si bien nuestra comprensión del problema del femicidio es limitada, sabemos \n",
      "que una gran proporción de femicidios se cometen contra mujeres involucradas en relaciones violentas y sus perpetradores son parejas actuales o anteriores de las víctimas ( recuadro 1 ) (3). \n",
      "RECUADRO 1. DEFINICIONES DE FEMICIDIO\n",
      "En general se entiende que el femicidio es el asesinato intencional de una mujer \n",
      "por el hecho de ser mujer, pero las definiciones más amplias abarcan todo asesinato de una niña o una mujer. \n",
      "Esta hoja informativa se centra en la definición restringida generalmente usada en \n",
      "las políticas, las leyes y la investigación: el asesinato intencional de una mujer. \n",
      "El femicidio es perpetrado generalmente por los hombres, pero a veces pueden \n",
      "estar involucradas mujeres integrantes de la familia. El femicidio difiere en formas específicas de los homicidios de hombres. Por ejemplo, la mayoría de los femicidios son cometidos por una pareja actual o anterior de la víctima e incluyen maltrato repetido en el hogar, amenazas o intimidación, violencia sexual o situaciones en las que las mujeres tienen menos poder o menos recursos que su pareja. \n",
      "La recopilación de datos correctos sobre el femicidio es un reto, en gran parte \n",
      "porque, en la mayoría de los países, la policía y los sistemas de recopilación de datos sanitarios que documentan los casos de homicidio a menudo no tienen la información necesaria o no se notifican la relación entre la víctima y el perpetrador o los motivos del homicidio, y mucho menos las motivaciones del asesinato \n",
      "relacionadas con el género ( 4-6). Sin embargo, los datos sobre la naturaleza y la \n",
      "prevalencia del femicidio están aumentando en todo el mundo, como revelan los \n",
      "siguientes resultados presentados en la bibliografía sobre el tema. \n",
      "Tipos y prevalencia de femicidio\n",
      "Femicidio íntimo\n",
      "El femicidio cometido por un esposo o enamorado actual o anterior se conoce \n",
      "como femicidio íntimo o asesinato por la pareja. Los resultados preliminares de \n",
      "2un estudio en curso realizado  por la OMS y la Escuela de Higiene y Medicina \n",
      "Tropical de Londres indican que más de 35% de todos los asesinatos de mujeres a nivel mundial son cometidos por un compañero íntimo ( 7). En comparación, el \n",
      "mismo estudio calcula que solo cerca de 5% de todos los asesinatos de hombres son cometidos por una pareja. Considerando todos los homicidios de hombres y \n",
      "mujeres, se informa que aproximadamente 15% son cometidos por una pareja \n",
      "(7). Estas cifras son conservadoras dada la elevada cantidad de datos que faltan, \n",
      "en particular en los países no industrializados. \n",
      "Además de la proporción de mujeres y hombres asesinados por su pareja, los \n",
      "datos también muestran que las mujeres que matan a sus compañeros íntimos varones a menudo actúan en defensa propia ante una violencia e intimidación persistente ( 8). Esto concuerda con los resultados obtenidos utilizando \n",
      "estadísticas nacionales del Canadá, según los cuales las mujeres tienen mayores probabilidades de asesinar a la pareja con la que mantienen una relación, mientras que los hombres tienen mayores probabilidades de matar a una pareja de la que están separados ( 9); asimismo, es más probable que las mujeres \n",
      "maten a su pareja como resultado de discusiones o riñas, mientras que es más probable que los hombres maten a su pareja motivados por los celos ( 10).\n",
      "Un grupo de mujeres que puede tener mayor riesgo de femicidio cometido por su pareja es el de las embarazadas, como reveló un examen de los registros policiales y médicos forenses en 11 ciudades de los Estados Unidos de América (11). (Para más información, véase la hoja informativa de la OMS titulada \n",
      "“Intimate partner violence during pregnancy”, en  http://www.who.int/reproductivehealth/publications/violence/rhr_11_35/en/). \n",
      "El femicidio íntimo no solo es la consecuencia más extrema de la violencia infligida \n",
      "por la pareja, sino que también tiene repercusiones profundas y prolongadas en el entorno que rodea a las mujeres. Por ejemplo, los hijos supervivientes de esas parejas sufren efectos duraderos porque pierden a su madre asesinada, su padre es \n",
      "encarcelado y ellos a menudo tienen que abandonar su hogar paterno y adaptarse a \n",
      "un ambiente donde quizá sean encasillados como hijos del asesino ( 12). Un estudio \n",
      "reciente efectuado en el Reino Unido destacó además que la pareja es rara vez la única víctima en los casos de femicidio íntimo. Quizá también sean asesinados hijos de la pareja; eventuales testigos no relacionados; personas percibidas por el perpetrador como aliados de la víctima, por ejemplo abogados, familiares, vecinos o amigos; o la nueva pareja de la víctima ( 13).\n",
      "Asesinatos en nombre del “honor” \n",
      "Los asesinatos relacionados con el “honor” son aquellos en los que una niña o una mujer muere a manos de un miembro masculino o femenino de la familia por una transgresión sexual o conductual supuesta o real, como adulterio, relaciones sexuales o embarazo extramatrimoniales, o incluso por haber sido violada ( 14). A \n",
      "menudo los autores del femicidio consideran que esta es una forma de proteger la reputación familiar, seguir la tradición o acatar exigencias religiosas interpretadas erróneamente. Los asesinatos en nombre del “honor” también pueden ser usados para encubrir casos de incesto ( 15) y hay informes sobre personas  que usan la \n",
      "“defensa del honor” como una manera de obtener la aceptación jurídica y de la comunidad de un asesinato no cometido por el “honor” ( 5).\n",
      "Cada año hay en todo el mundo unos 5.000 asesinatos en nombre del “honor”, pero se piensa que esta cifra es una subestimación ( 16). Estas muertes ocurren \n",
      "principalmente en partes de Oriente Medio y Asia Meridional, pero también en algunas comunidades migratorias, por ejemplo, en Australia, Europa y Norteamérica. Los estudios han informado sobre asesinatos por el “honor” 3cometidos con armas de fuego, hachas o herramientas cortantes, mediante \n",
      "estrangulación o a puñaladas, o quemando a la mujer, forzándola a ingerir un veneno o arrojándola desde una ventana ( 6,14).\n",
      "Los asesinatos de mujeres para “salvar el honor familiar” se cuentan entre \n",
      "las consecuencias más trágicas y ejemplos explícitos de una discriminación \n",
      "contra mujeres y niñas muy arraigada y culturalmente aceptada. A menudo son cometidos con impunidad debido a la aceptación generalizada de la práctica y a estatutos jurídicos y judiciales que protegen al asesino ( 5,17). En algunos casos, \n",
      "el asesinato puede ser fomentado o, incluso, inspirado por los deseos de otros miembros de la familia, incluidas mujeres ( 14).\n",
      "En el Reino Unido y Suecia, las investigaciones indican que los sistemas de justicia penal y de servicios sociales con frecuencia han caracterizado estos asesinatos como “tradiciones culturales”, en lugar de como formas extremas de violencia contra la mujer. Esta actitud, y un malentendido general de las cuestiones de género que sustentan estos crímenes, han conducido a una \n",
      "inadecuada protección jurídica y social de las niñas y las mujeres expuestas a la \n",
      "amenaza de crímenes relacionados con el “honor” en esos países ( 18,19 ). \n",
      "Femicidio relacionado con la dote\n",
      "Otra forma de asesinato de mujeres vinculada con prácticas culturales se relaciona con la dote. Se presenta principalmente en zonas del subcontinente \n",
      "indio y afecta a mujeres recién casadas que son asesinadas por miembros de su \n",
      "familia política a causa de conflictos relacionados con la dote, por ejemplo como consecuencia de traer ellas una dote insuficiente a la familia (4). La incidencia documentada de defunciones relacionadas con la dote varía enormemente. Por ejemplo, en el 2006 la Oficina Nacional de Registro de Delitos de la India notificó aproximadamente 7.600 defunciones relacionadas con la dote, mientras que otros cálculos señalan una cifra anual que duplica esa cantidad. Algunas fuentes han calculado que hasta 25.000 mujeres recién casadas mueren o son mutiladas cada año como consecuencia de violencia relacionada con la dote ( 4). \n",
      "Según un análisis de datos del estudio sobre la carga mundial de morbilidad, las mujeres enfrentan un riesgo mayor de muerte por quemaduras que los hombres y las quemaduras son a nivel mundial la séptima causa más frecuente de muerte entre las mujeres de 15 a 44 años de edad ( 20). Esto se debe en gran \n",
      "medida a que las mujeres pasan más tiempo cocinando, a menudo sobre fuegos al aire libre. Sin embargo, también se cree que algunas defunciones de mujeres jóvenes por acción del fuego se vinculan con violencia relacionada con la dote, \n",
      "la pareja o la familia, o con un suicidio forzado, en particular en el sur y el \n",
      "sudeste de Asia. En la Región de la OMS de Asia Sudoriental, las quemaduras fueron la tercera causa más frecuente de muerte entre las mujeres de 15 a 44 años de edad ( 20). En un análisis reciente de datos del 2001 provenientes de la \n",
      "India se calculó que hubo 163.000 defunciones relacionadas con fuego, una cifra \n",
      "seis veces superior a la documentada en las estadísticas nacionales de delitos, y \n",
      "que 65% de esas defunciones correspondieron a mujeres, en su mayoría de 15 a 34 años de edad ( 21).\n",
      "Femicidio no íntimo\n",
      "El femicidio cometido por alguien que no tiene una relación íntima con la víctima se conoce como femicidio no íntimo, y el femicidio que incluye agresión sexual a veces se denomina femicidio sexual. Esos asesinatos pueden ser aleatorios, pero hay perturbadores ejemplos de asesinatos sistemáticos de mujeres, en particular en América Latina.  4Por ejemplo, al menos 400 mujeres han sido asesinadas brutalmente durante \n",
      "el último decenio en Ciudad Juárez, en la frontera de México con los Estados Unidos ( 22,23). En el 2008, más de 700 mujeres fueron asesinadas en Guatemala; \n",
      "muchos de estos asesinatos fueron precedidos de abuso sexual brutal y tortura ( 24). Una campaña sobre derechos humanos efectuada en el 2009 \n",
      "informó que había habido más de 500 femicidios por año en Guatemala desde el 2001 ( 25). En los Estados Unidos, dos tiroteos masivos en escuelas en el \n",
      "2006 se caracterizaron por el hecho de que los asesinos atacaron solo a niñas y profesoras ( 26). En algunos entornos, el femicidio no íntimo también afecta \n",
      "desproporcionadamente a las mujeres involucradas en ocupaciones marginadas y estigmatizadas, como el trabajo sexual y el trabajo en bares y clubes nocturnos ( 23). \n",
      "¿Qué factores podrían aumentar o reducir el riesgo de femicidio? \n",
      "Las investigaciones comienzan a contribuir a aclarar los factores que aumentan el riesgo de las mujeres de ser asesinadas, especialmente por sus parejas, y los factores asociados con un mayor riesgo de que los hombres cometan un femicidio. La mayoría de los estudios se relacionan con el femicidio íntimo y, por consiguiente, no se pueden aplicar a otras formas de asesinato, como los \n",
      "cometidos en nombre del “honor”. \n",
      "El modelo más utilizado para entender cualquier forma de violencia es el \n",
      "modelo ecológico, según el cual la violencia está influenciada por factores que \n",
      "operan en cuatro niveles: individual, relacional o familiar, comunitario, y social o estructural (referente a las leyes, las políticas y las influencias sociales más generales). En el cuadro 1 se describen los factores de riesgo en cada nivel, tanto para los agresores como para las víctimas. \n",
      "¿Cuál es el mejor método para acabar con el femicidio? \n",
      "Fortalecer la vigilancia y la detección del femicidio y de la violencia  \n",
      "por parte de la pareja\n",
      "Es preciso intensificar la recopilación y el análisis de datos sobre mortalidad, \n",
      "desglosar esos datos por sexo y, en el caso de los asesinatos, garantizar la documentación de la relación entre la víctima y el perpetrador. Estos datos pueden ser complementados con información de otras fuentes (por ejemplo, la policía, las morgues, los tribunales y los médicos forenses) ( 4). \n",
      "En los países donde se dispone de escasos datos sobre el femicidio, la \n",
      "sensibilización y la promoción de la causa podrían fomentar la cooperación entre \n",
      "la policía, el personal médico y otros organismos pertinentes para recoger datos e informar sobre la relación entre la víctima y el perpetrador y la motivación para cometer el femicidio. También se deben tomar medidas para elaborar y fortalecer métodos de investigación que mejoren el conocimiento del contexto social del femicidio, incluidas las desigualdades por razón de género ( 4). \n",
      "Capacitar y sensibilizar al personal sanitario\n",
      "La capacitación y la sensibilización del personal sanitario, del personal de las morgues y de los médicos forenses podrían ayudarles a mejorar la documentación de los casos de femicidio y de las circunstancias que los rodean ( 4). Se requieren directrices basadas en la evidencia, en particular \n",
      "en lo concerniente a la clasificación de las relaciones entre las víctimas y los \n",
      "perpetradores e información sobre antecedentes de maltrato ( 4).5CUADRO 1\n",
      "Ejemplos de factores de riesgo y de protección respecto de la perpetración y la victimización \n",
      "relacionadas con el femicidio \n",
      "De perpetración de femicidio De ser víctima de femicidio \n",
      "Factores \n",
      "de riesgo Nivel individual \n",
      "• Desempleoa (3 ,4 ,11 )\n",
      "• Ser propietario de un arma de fuego \n",
      "(especialmente en los Estados Unidos, pero también en países con altos niveles de violencia con armas de fuego, como Sudáfrica, y en situaciones de conflicto y posteriores a conflictos) ( 3 ,4 ,11,29 )\n",
      "• Amenazas de matar con un arma ( 3 ,11) \n",
      "• Forzar a la pareja a tener relaciones sexuales (3 ,11) \n",
      "• Consumo problemático del alcohol y uso de  drogas ilícitas\n",
      "b (3,4)\n",
      "• Problemas de salud mentalb (3,30 ), \n",
      "(especialmente, la probabilidad de que el perpetrador masculino se suicide después de matar  a su pareja femenina) ( 30)• Estar embarazada y ser víctima de abuso durante el embarazo\n",
      "a (3 ,11,3 0 ). Se ha \n",
      "encontrado esta asociación principalmente en los Estados Unidos, pero los estudios en algunos otros países han vinculado la violencia infligida por la pareja con la mortalidad materna. Por ejemplo, un estudio en Mozambique descubrió que la violencia era la cuarta causa más frecuente de muerte materna en un hospital, y hasta 16% de la mortalidad materna era atribuible a la violencia infligida por la pareja en Maharashtra, India. \n",
      "Nivel familiar/relacional \n",
      "• Maltrato infligido anteriormente a la parejaa (en \n",
      "particular, a la mujer que mataron) ( 3 ,11)• Maltrato infligido anteriormente por el perpetrador\n",
      "a (32), especialmente maltrato \n",
      "grave en los 30 días precedentes, y abuso cada vez más frecuente\n",
      "a \n",
      "• Presencia de un niño nacido de una relación anterior (que no sea hijo biológico del perpetrador) ( 3 ,4 ,11 )\n",
      "• Distanciamiento de la pareja ( 3 ,11)\n",
      "• Abandono de una relación de maltrato (4,32 )\n",
      "Nivel social/estructural\n",
      "• Desigualdad por razón de género, incluido escaso número de mujeres entre los funcionarios gubernamentales elegidos\n",
      "b (33)\n",
      "• Reducciones de los gastos sociales del gobierno en áreas tales como la salud y la educación (es decir, de gastos de consumo final del gobierno) ( 33)\n",
      "Factores \n",
      "protectores Nivel individual \n",
      "• Educación universitaria (frente a una educación \n",
      "secundaria y preparatoria), incluso en los desempleados que están buscando trabajo ( 11)• Tener domicilio por separado ( 3)\n",
      "Nivel social/estructural\n",
      "• Mayor número de policías ( 34)\n",
      "• Legislación que restrinja el acceso a armas de fuego a los perpetradores de violencia infligida por la pareja ( 34)\n",
      "• Arresto obligatorio en caso de violación de órdenes de restricción relacionadas con la violencia infligida por la pareja ( 34)\n",
      "a Factor muy importante en todos los estudios \n",
      "b Los datos son equívocos o poco claros. 6Además, es necesario mejorar la capacidad de los prestadores de servicios de \n",
      "salud para identificar la violencia infligida por la pareja y el riesgo de femicidio. En algunos entornos, por ejemplo en los Estados Unidos, los estudios han revelado que muchas mujeres utilizaron servicios de salud en el año anterior a ser asesinadas por sus parejas ( 27). Se ha señalado que el mejoramiento \n",
      "de la detección en los sistemas de salud de la violencia grave infligida por la pareja, en particular durante el embarazo, es un medio de reducción del riesgo de femicidio ( 11). En los Estados Unidos se han creado varias herramientas \n",
      "de evaluación para detectar riesgos de violencia infligida por la pareja y de femicidio. Estas herramientas deberían ponerse a prueba en otros entornos. Uno de los métodos mejor probados es la escala de evaluación del peligro\n",
      "1, que evalúa \n",
      "específicamente el riesgo de que una mujer que busca atención de salud por la violencia infligida por la pareja sea posteriormente asesinada por esta ( 28). \n",
      "Capacitar y sensibilizar a la policía\n",
      "Como en el caso de los prestadores de servicios de salud, sería beneficioso que se capacitara y sensibilizara a la policía y a otros miembros del sistema de justicia penal para que identificaran y documentaran los casos de femicidio, incluida la notificación de las relaciones entre la víctima y el perpetrador. La capacitación del personal policial también debe incluir instrucción relacionada \n",
      "con la remoción de armas de fuego y con hacer cumplir las leyes sobre las \n",
      "armas de fuego en los casos de violencia familiar ( 3). \n",
      "Conjuntamente con los servicios de protección de los niños, mediante políticas y capacitación del personal de policía se podría facilitar la identificación y el apoyo de los niños afectados por la violencia infligida por la pareja y el femicidio (3), y las leyes podrían asegurar el procesamiento apropiado de los agresores ( 4).\n",
      "Incrementar las investigaciones sobre la prevención y las intervenciones\n",
      "En términos generales, la mejor manera de reducir el femicidio es disminuir la violencia infligida por la pareja. Se requieren investigaciones que hagan hincapié en los perpetradores y posibles perpetradores, por ejemplo en relación con los factores de riesgo y de protección. También se necesitan estudios que investiguen los casos de violencia casi mortal infligida por la pareja, no solo \n",
      "para conocer las necesidades de las supervivientes y las características de los \n",
      "perpetradores sino también para arrojar luz sobre los factores que pueden prevenir el femicidio ( 3).\n",
      "Teniendo en cuenta los indicios de que al dejar una relación una mujer puede ver aumentado su riesgo de ser asesinada por la pareja ( 11), las investigaciones sobre \n",
      "las intervenciones también deben dar a conocer y examinar los daños potenciales de las propias intervenciones y considerar medidas para mitigar estos efectos. \n",
      "Restringir la propiedad de armas de fuego y fortalecer las leyes sobre \n",
      "armas de fuego\n",
      "Los estudios revelan sistemáticamente una asociación entre la propiedad \n",
      "de armas de fuego, en particular pistolas, y la perpetración de femicidios íntimos ( 29). En investigaciones efectuadas en los Estados Unidos incluso se ha \n",
      "encontrado una asociación entre la adquisición de un arma de fuego por las mujeres para su propia protección y un mayor riesgo de femicidio a manos de \n",
      "1 Instrumento desarrollado por Jacquelyn Campbeld conocido en inglés como Danger \n",
      "Assessment Scale.7su pareja. Se estableció que era tres veces más probable que las mujeres fueran \n",
      "asesinadas si había un arma de fuego en su hogar ( 29).\n",
      "Hay recomendaciones de que la propiedad de armas de fuego esté restringida para todas las personas. Pero más específicamente, las investigaciones han \n",
      "encontrado que las leyes más estrictas sobre armas de fuego relacionadas con \n",
      "hombres que hayan comparecido ante un tribunal o hayan sido condenados por maltrato a sus parejas son de especial importancia para reducir las tasas de femicidios ( 34).\n",
      "Fortalecer la vigilancia, la investigación, las leyes y la concientización \n",
      "sobre el asesinato en nombre del “honor”\n",
      "Si bien todas las recomendaciones formuladas para acabar con el femicidio \n",
      "también se aplican a los entornos donde se cometen asesinatos en nombre del “honor”, se necesitan medidas adicionales. La vigilancia y la investigación sobre los crímenes de “honor” son escasas en la mayoría de los países, y la legislación, cuando existe, a menudo no se hace cumplir adecuadamente y es fácilmente \n",
      "eludida. Promover el cambio de las leyes que permiten estos tipos de crímenes \n",
      "es esencial. Quienes abogan por ese cambio han señalado los buenos resultados de la concientización del público y de las instancias normativas acerca de esos crímenes; a ese respecto se han recopilado y analizado los datos disponibles, los casos juzgados en los tribunales y los fallos de los jueces, y se ha hecho referencia a los instrumentos internacionales de derechos humanos pertinentes para la protección de los derechos de las mujeres ( 14). Estas medidas son un \n",
      "primer paso importante en los países donde se cometen femicidios en nombre del “honor”. \n",
      "Es también necesario fortalecer la concientización sobre los riesgos de asesinato \n",
      "en defensa del “honor” y la respuesta a ellos en los países donde posiblemente se cometan esos asesinatos, inclusive dentro de comunidades migratorias. El personal de salud y de los servicios sociales, así como los funcionarios del sistema de justicia penal, requieren capacitación y sensibilización para identificar a las niñas y las mujeres en riesgo de ser asesinadas por cuestiones de “honor” y a los hombres y otros miembros de la familia en riesgo de perpetrar esos femicidios. 8Referencias\n",
      "1. Consejo Centroamericano de Procuradores de Derechos Humanos. Informe \n",
      "Regional: situación y análisis del femicidio en la región centroamericana, IIDH, ASDI y \n",
      "DANIDA. San José, Costa Rica, Consejo Centroamericano de Procuradores de \n",
      "Derechos Humanos, 2006.\n",
      "2. Sagot M. Strengthening and organization of women and coordinated action between the \n",
      "state and civil society at the local level to prevent and address family violence – research protocol . San José, Costa Rica, Pan American Health Organization, 2002.\n",
      "3. Campbell J et al. Intimate partner homicide: review and implications of research \n",
      "and policy. Trauma, Violence, & Abuse , 2007, 8(3):246–69.\n",
      "4. Strengthening understanding of femicide . Seattle, Program for Appropriate \n",
      "Technology in Health, 2008.\n",
      "5. Patel S, Gadit AM. Karo-Kari: a form of honour killing in Pakistan. Transcultural \n",
      "Psychiatry , 2008, 45(4):683–94.\n",
      "6. Nasrullah M, Haqqi S, Cummings KJ. The epidemiological patterns of honour \n",
      "killing of women in Pakistan. European Journal of Public Health , 2009, 19(2):193–97.\n",
      "7. Stöckl H et al. The global prevalence of intimate partner homicide: a systematic review . \n",
      "(Forthcoming.)\n",
      "8. Daly M. & Wilson M. Homicide . New York, Aldine De Gruyter, 1988.\n",
      "9. Losing control: homicide risk in estranged and intact intimate relationships. \n",
      "Homicide Studies , 2003, 7(1):58–84.\n",
      "10. Hotton T. Spousal violence after marital separation . Ottawa, Canadian Centre for \n",
      "Justice Statistics, 2001.\n",
      "11. Campbell JC et al. Risk factors for femicide in abusive relationships: results from a \n",
      "multisite case control study. American Journal of Public Health , 2003, 93(7):1089–97.\n",
      "12. Lewandowski L et al. ‘He killed my mommy!’: murder or attempted murder of a \n",
      "child’s mother. Journal of Family Violence , 2004, 19:211–20.\n",
      "13. Dobash RP, Dobash RE. Who died? The murder of collaterals related to intimate \n",
      "partner conflict. Violence Against Women , 2012, 18(6):662–71.\n",
      "14. Khafagy F. Honour killing in Egypt . Cairo, UN Division for the Advancement of \n",
      "Women, 2005.\n",
      "15. Faqir F. Intrafamily femicide in defence of honour: the case of Jordan. Third World \n",
      "Quarterly , 2001, 22(1):65–82.\n",
      "16. UN. Impunity for domestic violence, ‘honour killings’ cannot continue – UN official . UN \n",
      "News Center, 2011, 15 February 2011.\n",
      "17. Naciones Unidas. Hacia la eliminación de los delitos de honor cometidos contra la mujer . \n",
      "Asamblea General de las Naciones Unidas, Quincuagésimo séptimo período de sesiones, A/57/169, 2002.\n",
      "18. Reddy R. Gender, culture and the law: approaches to ‘honour crimes’ in the UK. \n",
      "Feminist Legal Studies , 2008, 16(3):305–21.\n",
      "19. Schlytter A, Linell H. Girls with honour-related problems in a comparative \n",
      "perspective. International Journal of Social Welfare , 2010, 19(2):152–61.\n",
      "20. Ribeiro PS et al. Priorities for women’s health from the Global Burden of Disease \n",
      "study. International Journal of Gynecology & Obstetrics , 2008, 102(1):82–90.\n",
      "21. Sanghavi P, Bhalla K, Das V. Fire-related deaths in India in 2001: a retrospective \n",
      "analysis of data. Lancet , 2009, 373(9671):1282–88.\n",
      "22. Violence against women and girls, and sexual and reproductive rights. In: Mexico \n",
      "Annual Report . Amnesty International 2011. http://www.amnesty.org/en/region/\n",
      "mexico/report-2011#section-91-8 accessed 15 November 2012.\n",
      "23. Latin American and Caribbean Women’s Health Network. Dying because they are \n",
      "women femicide/feminicide: extreme gender violence . Latin American and Caribbean \n",
      "Women’s Health Network, \n",
      "Women’s Health Journal 2009 , 1.924. Human Rights Watch. World report 2010 – Guatemala . New York, NY, Human \n",
      "Rights Watch, 2010.\n",
      "25. Stop-Femicide. Femicide in Guatemala counts! Richmond, VA, Stop-Femicide, 2011.\n",
      "26. Herbert B. Why Aren’t We Shocked? New York Times , 16 October 2006, A19.\n",
      "27. Plichta SB. Interactions between victims of intimate partner violence against \n",
      "women and the health care system: policy and practice implications. Trauma, \n",
      "Violence & Abuse , 2007, 8(2):226–39.\n",
      "28. Campbell J. Assessing dangerousness in domestic violence cases: history, \n",
      "challenges and opportunities. Criminology & Public Policy , 2005, 4(4):653–72.\n",
      "29. Langley M. When men murder women: an analysis of 2006 homicide data – females \n",
      "murdered by males in single victim/single offender incidents . Washington, DC, Violence \n",
      "Policy Center, 2008. \n",
      "30. Campbell JC, Abrahams N, Martin L. Perpetration of violence against intimate \n",
      "partners: health care implications from global data. Canadian Medical Association \n",
      "Journal , 2008, 179(6):511–12. \n",
      "31. Martin SL et al. Pregnancy-associated violent deaths: the role of intimate partner \n",
      "violence. Trauma, Violence & Abuse , 2007, 135–48.\n",
      "32. Block CR. How can practitioners help an abused woman lower her risk of death? \n",
      "National Institute of Justice Journal , 2003, 250:4–7.\n",
      "33. Palma-Solis M, Vives-Cases C, Alvarez-Dardet C. Gender progress and \n",
      "government expenditure as determinants of femicide. Annals of Epidemiology , \n",
      "2008, 18(4):322–29.\n",
      "34. Zeoli AM, Webster DW. Effects of domestic violence policies, alcohol taxes and \n",
      "police staffing levels on intimate partner homicide in large US cities. Injury \n",
      "Prevention , 2010, 16(2):90–95.1011La serie completa de hojas informativas titulada “Comprender y abordar la \n",
      "violencia contra las mujeres” puede bajarse del sitio web del Departamento de Salud Reproductiva de la OMS, http:/ /www.who.int/reproductivehealth/publications/violence/en/index.html, y del sitio web de la Organización Panamericana de la Salud, http:/ /www.paho.org/violence\n",
      "Se puede encontrar más información en otras publicaciones de la OMS, como las \n",
      "siguientes: \n",
      "• Summary of the expert meeting on health-sector responses to violence against women, http:/ /whqlibdoc.who.int/publications/2010/9789241500630_eng.pdf\n",
      "• Estudio multipaís de la OMS sobre salud de la mujer y violencia doméstica contra la mujer: primeros resultados sobre prevalencia, eventos relativos a la salud y respuestas de las mujeres a dicha violencia , http:/ /www.\n",
      "who.int/gender/violence/who_multicountry_study/summary_report/summaryreportSpanishlow.pdf\n",
      "Agradecimientos\n",
      "Esta hoja informativa fue preparada por Claudia García-Moreno, Alessandra \n",
      "Guedes y Wendy Knerr como parte de una serie producida por la OMS y la OPS \n",
      "para reseñar la base de evidencia sobre aspectos de la violencia contra la mujer. \n",
      "Margarita Quintanilla y Heidi Stöckl actuaron como revisoras externas de esta hoja informativa. Sarah Ramsay es la editora de la serie.12Organización Panamericana de la Salud.\n",
      "Comprender y abordar la violencia contra las mujeres. Femicidio. Washington,DC : OPS , \n",
      "2013. WHO/RHR/12.35 1. Violencia contra la Mujer. 2. Género y Salud. 3. Violencia Sexual. I. Título. II. Organización Mundial de la Salud.  Clasificación NLM: WA309\n",
      "© Organización Mundial de la Salud, 2013. Todos los derechos reservados.\n",
      "La edición en español fue realizada por la Organización Panamericana de la Salud. Las solicitudes de autorización para reproducir, íntegramente o en parte, esta publicación deberán dirigirse al Departamento de Gestión de Conocimiento y Comunicación, Organización Panamericana de la Salud, Washington, D.C., EE. UU. (pubrights@paho.org). El Departamento de Familia, Género y Curso de Vida podrá proporcionar información sobre cambios introducidos en la obra, planes de reedición, y reimpresiones y traducciones ya disponibles.\n",
      "Las publicaciones de la Organización Panamericana de la Salud están acogidas a la protección prevista por las \n",
      "disposiciones sobre reproducción de originales del Protocolo 2 de la Convención Universal sobre Derecho de Autor.\n",
      "La Organización Panamericana de la Salud ha adoptado todas las precauciones razonables para verificar la \n",
      "información que figura en la presente publicación, no obstante lo cual, el material publicado se distribuye sin garantía de ningún tipo, ni explícita ni implícita. El lector es responsable de la interpretación y el uso que haga de ese material, y en ningún caso la Organización Panamericana de la Salud podrá ser considerada responsable de daño alguno causado por su utilización.WHO/RHR/12.38\n"
     ]
    }
   ],
   "source": [
    "file_path = \"20184_femicidio.pdf\"\n",
    "\n",
    "with open(file_path, 'rb') as file:\n",
    "    reader = PyPDF2.PdfReader(file)\n",
    "    informe_onu = \"\"\n",
    "    for page in reader.pages:\n",
    "        informe_onu += page.extract_text()\n",
    "\n",
    "print(informe_onu)"
   ]
  },
  {
   "cell_type": "markdown",
   "metadata": {},
   "source": [
    "## Base de datos del la cepal"
   ]
  },
  {
   "cell_type": "markdown",
   "metadata": {},
   "source": [
    "Acceso atra vez de sodapy"
   ]
  },
  {
   "cell_type": "code",
   "execution_count": 25,
   "metadata": {},
   "outputs": [],
   "source": [
    "# # URL base de la API de CEPAL\n",
    "# #base_url = \"https://statistics.cepal.org/portal/cepalstat/api/\"\n",
    "\n",
    "# # Configurar el cliente Socrata\n",
    "# client = Socrata(base_url, None)\n",
    "\n",
    "# params = {\n",
    "    # \"indicator_id\": \"2780\",  # Tasa de femicidio,\n",
    "#     \"lang\": \"en\", # Idioma en ingles\n",
    "#     \"format\": \"json\",# formato de el archivo\n",
    "#     \"limit\": \"1\" # El limite\n",
    "# }\n",
    "\n",
    "# feminicidios_cepal= client.get(resource, params=params) # base de datos\n"
   ]
  },
  {
   "cell_type": "markdown",
   "metadata": {},
   "source": [
    "como la base de datos era demaciado pesada, se accedio atravez del archivo"
   ]
  },
  {
   "cell_type": "code",
   "execution_count": 26,
   "metadata": {},
   "outputs": [
    {
     "data": {
      "text/html": [
       "<div>\n",
       "<style scoped>\n",
       "    .dataframe tbody tr th:only-of-type {\n",
       "        vertical-align: middle;\n",
       "    }\n",
       "\n",
       "    .dataframe tbody tr th {\n",
       "        vertical-align: top;\n",
       "    }\n",
       "\n",
       "    .dataframe thead th {\n",
       "        text-align: right;\n",
       "    }\n",
       "</style>\n",
       "<table border=\"1\" class=\"dataframe\">\n",
       "  <thead>\n",
       "    <tr style=\"text-align: right;\">\n",
       "      <th></th>\n",
       "      <th>indicator</th>\n",
       "      <th>Años__ESTANDAR</th>\n",
       "      <th>País__ESTANDAR</th>\n",
       "      <th>value</th>\n",
       "      <th>unit</th>\n",
       "      <th>notes_ids</th>\n",
       "      <th>source_id</th>\n",
       "    </tr>\n",
       "  </thead>\n",
       "  <tbody>\n",
       "    <tr>\n",
       "      <th>0</th>\n",
       "      <td>Número de femicidios o feminicidios</td>\n",
       "      <td>2005</td>\n",
       "      <td>Costa Rica</td>\n",
       "      <td>27,00</td>\n",
       "      <td>Número absoluto</td>\n",
       "      <td>NaN</td>\n",
       "      <td>1300.0</td>\n",
       "    </tr>\n",
       "    <tr>\n",
       "      <th>1</th>\n",
       "      <td>Número de femicidios o feminicidios</td>\n",
       "      <td>2006</td>\n",
       "      <td>Costa Rica</td>\n",
       "      <td>15,00</td>\n",
       "      <td>Número absoluto</td>\n",
       "      <td>NaN</td>\n",
       "      <td>1300.0</td>\n",
       "    </tr>\n",
       "    <tr>\n",
       "      <th>2</th>\n",
       "      <td>Número de femicidios o feminicidios</td>\n",
       "      <td>2007</td>\n",
       "      <td>Costa Rica</td>\n",
       "      <td>21,00</td>\n",
       "      <td>Número absoluto</td>\n",
       "      <td>NaN</td>\n",
       "      <td>1300.0</td>\n",
       "    </tr>\n",
       "    <tr>\n",
       "      <th>3</th>\n",
       "      <td>Número de femicidios o feminicidios</td>\n",
       "      <td>2008</td>\n",
       "      <td>Costa Rica</td>\n",
       "      <td>33,00</td>\n",
       "      <td>Número absoluto</td>\n",
       "      <td>NaN</td>\n",
       "      <td>1300.0</td>\n",
       "    </tr>\n",
       "    <tr>\n",
       "      <th>4</th>\n",
       "      <td>Número de femicidios o feminicidios</td>\n",
       "      <td>2009</td>\n",
       "      <td>Costa Rica</td>\n",
       "      <td>39,00</td>\n",
       "      <td>Número absoluto</td>\n",
       "      <td>NaN</td>\n",
       "      <td>1300.0</td>\n",
       "    </tr>\n",
       "  </tbody>\n",
       "</table>\n",
       "</div>"
      ],
      "text/plain": [
       "                             indicator  Años__ESTANDAR País__ESTANDAR  value  \\\n",
       "0  Número de femicidios o feminicidios            2005     Costa Rica  27,00   \n",
       "1  Número de femicidios o feminicidios            2006     Costa Rica  15,00   \n",
       "2  Número de femicidios o feminicidios            2007     Costa Rica  21,00   \n",
       "3  Número de femicidios o feminicidios            2008     Costa Rica  33,00   \n",
       "4  Número de femicidios o feminicidios            2009     Costa Rica  39,00   \n",
       "\n",
       "              unit  notes_ids  source_id  \n",
       "0  Número absoluto        NaN     1300.0  \n",
       "1  Número absoluto        NaN     1300.0  \n",
       "2  Número absoluto        NaN     1300.0  \n",
       "3  Número absoluto        NaN     1300.0  \n",
       "4  Número absoluto        NaN     1300.0  "
      ]
     },
     "execution_count": 26,
     "metadata": {},
     "output_type": "execute_result"
    }
   ],
   "source": [
    "feminicidios_cepal_latam=pd.read_csv('cepal/data_1716082212.csv', sep=\";\")\n",
    "feminicidios_cepal_latam.head()"
   ]
  },
  {
   "cell_type": "markdown",
   "metadata": {},
   "source": [
    "# Limpiesa de la base de datos"
   ]
  },
  {
   "cell_type": "markdown",
   "metadata": {},
   "source": [
    "## Bases de datos CEPAL"
   ]
  },
  {
   "cell_type": "code",
   "execution_count": 27,
   "metadata": {},
   "outputs": [
    {
     "name": "stdout",
     "output_type": "stream",
     "text": [
      "<class 'pandas.core.frame.DataFrame'>\n",
      "RangeIndex: 285 entries, 0 to 284\n",
      "Data columns (total 7 columns):\n",
      " #   Column          Non-Null Count  Dtype  \n",
      "---  ------          --------------  -----  \n",
      " 0   indicator       285 non-null    object \n",
      " 1   Años__ESTANDAR  285 non-null    int64  \n",
      " 2   País__ESTANDAR  285 non-null    object \n",
      " 3   value           285 non-null    object \n",
      " 4   unit            285 non-null    object \n",
      " 5   notes_ids       52 non-null     float64\n",
      " 6   source_id       281 non-null    float64\n",
      "dtypes: float64(2), int64(1), object(4)\n",
      "memory usage: 15.7+ KB\n"
     ]
    }
   ],
   "source": [
    "feminicidios_cepal_latam.info()"
   ]
  },
  {
   "cell_type": "code",
   "execution_count": 28,
   "metadata": {},
   "outputs": [
    {
     "name": "stderr",
     "output_type": "stream",
     "text": [
      "C:\\Users\\USUARIO\\AppData\\Local\\Temp\\ipykernel_7748\\1810662567.py:1: FutureWarning: DataFrame.applymap has been deprecated. Use DataFrame.map instead.\n",
      "  feminicidios_cepal_latam = feminicidios_cepal_latam.applymap(lambda x: x.replace(\",\", \".\") if isinstance(x, str) else x)\n"
     ]
    }
   ],
   "source": [
    "feminicidios_cepal_latam = feminicidios_cepal_latam.applymap(lambda x: x.replace(\",\", \".\") if isinstance(x, str) else x)"
   ]
  },
  {
   "cell_type": "code",
   "execution_count": 29,
   "metadata": {},
   "outputs": [],
   "source": [
    "feminicidios_cepal_latam[\"value\"] = pd.to_numeric(feminicidios_cepal_latam[\"value\"])\n",
    "feminicidios_cepal_latam[\"value\"] = feminicidios_cepal_latam[\"value\"].astype(float)"
   ]
  },
  {
   "cell_type": "code",
   "execution_count": 30,
   "metadata": {},
   "outputs": [],
   "source": [
    "feminicidios_cepal= feminicidios_cepal = feminicidios_cepal_latam.copy()"
   ]
  },
  {
   "cell_type": "code",
   "execution_count": 31,
   "metadata": {},
   "outputs": [],
   "source": [
    "feminicidios_cepal.drop(feminicidios_cepal.columns[[0, 4, 5,6]],inplace=True, axis=1) "
   ]
  },
  {
   "cell_type": "code",
   "execution_count": 32,
   "metadata": {},
   "outputs": [],
   "source": [
    "# Filtra y renombra las columnas para cada año\n",
    "data_cepal_2017 = feminicidios_cepal.loc[feminicidios_cepal[\"Años__ESTANDAR\"] == 2017].rename(columns={\"value\": \"2017\"})\n",
    "data_cepal_2018 = feminicidios_cepal.loc[feminicidios_cepal[\"Años__ESTANDAR\"] == 2018].rename(columns={\"value\": \"2018\"})\n",
    "data_cepal_2019 = feminicidios_cepal.loc[feminicidios_cepal[\"Años__ESTANDAR\"] == 2019].rename(columns={\"value\": \"2019\"})\n",
    "data_cepal_2020 = feminicidios_cepal.loc[feminicidios_cepal[\"Años__ESTANDAR\"] == 2020].rename(columns={\"value\": \"2020\"})\n",
    "data_cepal_2021 = feminicidios_cepal.loc[feminicidios_cepal[\"Años__ESTANDAR\"] == 2021].rename(columns={\"value\": \"2021\"})\n",
    "data_cepal_2022 = feminicidios_cepal.loc[feminicidios_cepal[\"Años__ESTANDAR\"] == 2022].rename(columns={\"value\": \"2022\"})\n",
    "\n",
    "# Selecciona solo las columnas necesarias para evitar duplicados después del merge\n",
    "data_cepal_2017 = data_cepal_2017[[\"País__ESTANDAR\", \"2017\"]]\n",
    "data_cepal_2018 = data_cepal_2018[[\"País__ESTANDAR\", \"2018\"]]\n",
    "data_cepal_2019 = data_cepal_2019[[\"País__ESTANDAR\", \"2019\"]]\n",
    "data_cepal_2020 = data_cepal_2020[[\"País__ESTANDAR\", \"2020\"]]\n",
    "data_cepal_2021 = data_cepal_2021[[\"País__ESTANDAR\", \"2021\"]]\n",
    "data_cepal_2022 = data_cepal_2022[[\"País__ESTANDAR\", \"2022\"]]\n",
    "\n",
    "# Unir todos los DataFrames en uno solo\n",
    "feminicidio_2017_2022 = data_cepal_2017.merge(data_cepal_2018, how='inner', on=\"País__ESTANDAR\") \\\n",
    "                                        .merge(data_cepal_2019, how='inner', on=\"País__ESTANDAR\") \\\n",
    "                                        .merge(data_cepal_2020, how='inner', on=\"País__ESTANDAR\") \\\n",
    "                                        .merge(data_cepal_2021, how='inner', on=\"País__ESTANDAR\") \\\n",
    "                                        .merge(data_cepal_2022, how='inner', on=\"País__ESTANDAR\")\n",
    "# Seleccionar la primera columna como indice\n",
    "\n",
    "feminicidio_2017_2022.set_index(feminicidio_2017_2022.iloc[:, 0], inplace=True)\n",
    "\n",
    "# Eliminar primera columna\n",
    "feminicidio_2017_2022.drop(feminicidio_2017_2022.columns[0], axis=1, inplace=True)\n"
   ]
  },
  {
   "cell_type": "code",
   "execution_count": 33,
   "metadata": {},
   "outputs": [],
   "source": [
    "# Eliminar datos de \"Anguila\", por el sesgo de los dato\n",
    "\n",
    "feminicidio_2017_2022.drop(index=\"Anguila\", inplace=True)"
   ]
  },
  {
   "cell_type": "code",
   "execution_count": 34,
   "metadata": {},
   "outputs": [
    {
     "name": "stdout",
     "output_type": "stream",
     "text": [
      "                                     2017    2018    2019    2020    2021  \\\n",
      "País__ESTANDAR                                                              \n",
      "Argentina                           251.0   255.0   252.0   251.0   231.0   \n",
      "Bolivia (Estado Plurinacional de)   110.0   130.0   117.0   113.0   108.0   \n",
      "Brasil                             1075.0  1229.0  1330.0  1354.0  1341.0   \n",
      "Costa Rica                           26.0    23.0    17.0    28.0    18.0   \n",
      "Ecuador                             101.0    68.0    70.0    77.0    71.0   \n",
      "\n",
      "                                     2022  \n",
      "País__ESTANDAR                             \n",
      "Argentina                           232.0  \n",
      "Bolivia (Estado Plurinacional de)    94.0  \n",
      "Brasil                             1437.0  \n",
      "Costa Rica                           19.0  \n",
      "Ecuador                              89.0  \n"
     ]
    }
   ],
   "source": [
    "# Verifica el resultado\n",
    "\n",
    "print(feminicidio_2017_2022.head())"
   ]
  },
  {
   "cell_type": "code",
   "execution_count": 35,
   "metadata": {},
   "outputs": [],
   "source": [
    "#feminicidio_2017_2022.to_csv('feminicidio_2017_2022.csv') # Exportar un csv"
   ]
  },
  {
   "cell_type": "markdown",
   "metadata": {},
   "source": [
    "# Analisis de texto"
   ]
  },
  {
   "cell_type": "markdown",
   "metadata": {},
   "source": [
    "## Funciones para analizar texto"
   ]
  },
  {
   "cell_type": "markdown",
   "metadata": {},
   "source": [
    "### Funciones para tokenizarción de texto\n"
   ]
  },
  {
   "cell_type": "markdown",
   "metadata": {},
   "source": [
    "#### Función de tokemización por palabras"
   ]
  },
  {
   "cell_type": "code",
   "execution_count": 36,
   "metadata": {},
   "outputs": [],
   "source": [
    "def tokenizar(texto):\n",
    "    \n",
    "    texto = re.sub(\"\\s+\", \" \", texto) # eliminar los espacios de el texto\n",
    "\n",
    "    texto = texto.lower() #pasar todo el texto a minusculas,\n",
    "    \n",
    "    texto = re.sub(\"[^0-9A-Za-záéíóúüÁÉÍÓÚÜñÑ ]\", \"\", texto) # eliminar los acetos\n",
    "    \n",
    "   \n",
    "    texto_limpio = \"\".join([i.lower() for i in texto if i not in string.punctuation]) # eliminar la puntuación\n",
    "    \n",
    "   \n",
    "    tokens = nltk.tokenize.word_tokenize(texto_limpio)\n",
    "    \n",
    "    nltk.download('stopwords') # Descarga las stop word\n",
    "    stopwords = nltk.corpus.stopwords.words('spanish') # las palbras vacias (stopword) en español\n",
    "    words_new = [word for word in tokens if word not in stopwords] # divide el texto en palabras, que no sean una stopword\n",
    "    \n",
    "    return words_new"
   ]
  },
  {
   "cell_type": "markdown",
   "metadata": {
    "jp-MarkdownHeadingCollapsed": true
   },
   "source": [
    "#### Función para tokemizar por frases"
   ]
  },
  {
   "cell_type": "code",
   "execution_count": 37,
   "metadata": {},
   "outputs": [],
   "source": [
    "def frases(texto):\n",
    "    \"\"\"\n",
    "    la función separa el texto en frases\n",
    "    \"\"\"\n",
    "    texto = re.sub(\"\\s+\", \" \", texto) # eliminar los espacios de el texto\n",
    "    texto = texto.lower() #pasar todo el texto a minusculas,\n",
    "    nltk.download('punkt', quiet=True) # descargar documentación necesaria\n",
    "    frase = nltk.sent_tokenize(texto) # Dividir (tokemizar) el texto en frase\n",
    "    \n",
    "    return frase\n",
    "    "
   ]
  },
  {
   "cell_type": "markdown",
   "metadata": {
    "jp-MarkdownHeadingCollapsed": true
   },
   "source": [
    "### Función para contruir una red"
   ]
  },
  {
   "cell_type": "code",
   "execution_count": 38,
   "metadata": {},
   "outputs": [],
   "source": [
    "def construir_red(tokens):\n",
    "    G = nx.Graph()\n",
    "    for i in range(len(tokens) - 1):\n",
    "        word1 = tokens[i]\n",
    "        word2 = tokens[i + 1]\n",
    "        if G.has_edge(word1, word2):\n",
    "            G[word1][word2]['weight'] += 1\n",
    "        else:\n",
    "            G.add_edge(word1, word2, weight=1)\n",
    "    return G"
   ]
  },
  {
   "cell_type": "markdown",
   "metadata": {},
   "source": [
    "### Función para analizar sentimientos"
   ]
  },
  {
   "cell_type": "markdown",
   "metadata": {},
   "source": [
    "#### Función para anlizar el texto en general"
   ]
  },
  {
   "cell_type": "code",
   "execution_count": 39,
   "metadata": {},
   "outputs": [],
   "source": [
    "def analisis_sentimiento(texto_tokens):\n",
    "    \"\"\"\n",
    "    Obtiene un analisis del documento en general\n",
    "    \"\"\"\n",
    "    texto = ' '.join(texto_tokens)  # Convertir los tokens en una cadena de texto\n",
    "    \n",
    "    \n",
    "    sia = SentimentIntensityAnalyzer() # Sentimientos a analizar\n",
    "    \n",
    "    \n",
    "    sentiment_score = sia.polarity_scores(texto) ## Obtener el puntaje de sentimiento\n",
    "    \n",
    "    return sentiment_score"
   ]
  },
  {
   "cell_type": "markdown",
   "metadata": {
    "jp-MarkdownHeadingCollapsed": true
   },
   "source": [
    "### Función para analizar el texto por frases"
   ]
  },
  {
   "cell_type": "code",
   "execution_count": 40,
   "metadata": {},
   "outputs": [],
   "source": [
    "def anilisis_sentimiento_tabla(frases_tokes):\n",
    "    \"\"\"\n",
    "    La función realiza un análisis de los sentimientos por frases y los exporta a un DataFrame de pandas.\n",
    "    \n",
    "    Args:\n",
    "    frases_tokes (list): Una lista de frases tokenizadas.\n",
    "    \n",
    "    Returns:\n",
    "    pandas.DataFrame: Un DataFrame de pandas que contiene las frases y la polaridad del sentimiento.\n",
    "    \"\"\"\n",
    "    frases = frases_tokes  # el texto tokenizado en frases\n",
    "    sia = SentimentIntensityAnalyzer()  # Análisis inteligente de las emociones\n",
    "    stop_words = set(stopwords.words('spanish'))  # lista de palabras vacías (stopwords) en español\n",
    "    \n",
    "    diccionario_sentimientos = {}  # Diccionario vacío para analizar \n",
    "    \n",
    "    for frase in frases:\n",
    "        words = word_tokenize(frase)  # Tokenizar palabras en las frases\n",
    "        filtered_words = [word.lower() for word in words if word.lower() not in stop_words and word.isalnum()]  # Filtrar palabras vacías\n",
    "        sentimientos = sia.polarity_scores(frase)['compound']  # Calcular la polaridad de los sentimientos\n",
    "        diccionario_sentimientos[frase] = sentimientos\n",
    "        \n",
    "    # Convertir el diccionario de polaridad del sentimiento en una lista de valores\n",
    "    sentiment_values = list(diccionario_sentimientos.values())\n",
    "    \n",
    "    # Crear un DataFrame de pandas con las frases y la polaridad del sentimiento\n",
    "    df = pd.DataFrame({'Frases': frases, 'Polaridad del Sentimiento': sentiment_values})\n",
    "    \n",
    "    return df\n",
    "        \n",
    "        "
   ]
  },
  {
   "cell_type": "markdown",
   "metadata": {
    "jp-MarkdownHeadingCollapsed": true
   },
   "source": [
    "## Función para identificar entidades "
   ]
  },
  {
   "cell_type": "code",
   "execution_count": 41,
   "metadata": {},
   "outputs": [],
   "source": [
    "def identificar_entidades(texto_tokens):\n",
    " \n",
    "    texto = ' '.join(texto_tokens)   # Convertir los tokens en una cadena de texto\n",
    "    \n",
    "   \n",
    "    doc = nlp(texto) # Procesar el texto con SpaCy\n",
    "    \n",
    "   \n",
    "    entidades = [(ent.text, ent.label_) for ent in doc.ents]  # Obtener las entidades nombradas del documento\n",
    "    \n",
    "    return entidades\n",
    "\n"
   ]
  },
  {
   "cell_type": "markdown",
   "metadata": {},
   "source": [
    "## Función red"
   ]
  },
  {
   "cell_type": "markdown",
   "metadata": {
    "jp-MarkdownHeadingCollapsed": true
   },
   "source": [
    "### visualizar"
   ]
  },
  {
   "cell_type": "code",
   "execution_count": 42,
   "metadata": {},
   "outputs": [],
   "source": [
    "def visualizar_red(grafo, titulo=\"red\"):\n",
    "    pos = nx.spring_layout(grafo) # Elegir un layout para la visualización\n",
    "    plt.figure(figsize=(10, 8))\n",
    "    pos = nx.spring_layout(grafo, seed=42)\n",
    "    nx.draw_networkx(grafo, pos, with_labels=True, node_size=1500, node_color='yellowgreen', font_size=8, font_weight='bold')\n",
    "    plt.title(titulo)\n",
    "    plt.show()"
   ]
  },
  {
   "cell_type": "markdown",
   "metadata": {},
   "source": [
    "### Construir"
   ]
  },
  {
   "cell_type": "code",
   "execution_count": 43,
   "metadata": {},
   "outputs": [],
   "source": [
    "def construir_red(entidades):\n",
    "    G = nx.Graph()\n",
    "    for entidad in entidades:\n",
    "        G.add_node(entidad)\n",
    "    for i in range(len(entidades)):\n",
    "        for j in range(i + 1, len(entidades)):\n",
    "            G.add_edge(entidades[i], entidades[j])\n",
    "    return G"
   ]
  },
  {
   "cell_type": "markdown",
   "metadata": {},
   "source": [
    "## Informe de la onu feminicidio"
   ]
  },
  {
   "cell_type": "markdown",
   "metadata": {},
   "source": [
    "### Tokenización del texto"
   ]
  },
  {
   "cell_type": "code",
   "execution_count": 44,
   "metadata": {},
   "outputs": [
    {
     "name": "stderr",
     "output_type": "stream",
     "text": [
      "[nltk_data] Downloading package stopwords to\n",
      "[nltk_data]     C:\\Users\\USUARIO\\AppData\\Roaming\\nltk_data...\n",
      "[nltk_data]   Package stopwords is already up-to-date!\n"
     ]
    }
   ],
   "source": [
    "#tokenizar por palabra\n",
    "onu_token=tokenizar(informe_onu)\n",
    "#onu_token"
   ]
  },
  {
   "cell_type": "code",
   "execution_count": 45,
   "metadata": {},
   "outputs": [
    {
     "data": {
      "text/plain": [
       "['comprender y abordar la violencia contra las mujeres femicidio la violencia contra las mujeres abarca una amplia gama de actos, desde el acoso verbal y otras formas de abuso emocional, al abuso físico o sexual cotidiano.',\n",
       " 'en el extremo del espectro está el femicidio: el asesinato de una mujer ( 1,2).',\n",
       " 'si bien nuestra comprensión del problema del femicidio es limitada, sabemos que una gran proporción de femicidios se cometen contra mujeres involucradas en relaciones violentas y sus perpetradores son parejas actuales o anteriores de las víctimas ( recuadro 1 ) (3).',\n",
       " 'recuadro 1. definiciones de femicidio en general se entiende que el femicidio es el asesinato intencional de una mujer por el hecho de ser mujer, pero las definiciones más amplias abarcan todo asesinato de una niña o una mujer.',\n",
       " 'esta hoja informativa se centra en la definición restringida generalmente usada en las políticas, las leyes y la investigación: el asesinato intencional de una mujer.',\n",
       " 'el femicidio es perpetrado generalmente por los hombres, pero a veces pueden estar involucradas mujeres integrantes de la familia.',\n",
       " 'el femicidio difiere en formas específicas de los homicidios de hombres.',\n",
       " 'por ejemplo, la mayoría de los femicidios son cometidos por una pareja actual o anterior de la víctima e incluyen maltrato repetido en el hogar, amenazas o intimidación, violencia sexual o situaciones en las que las mujeres tienen menos poder o menos recursos que su pareja.',\n",
       " 'la recopilación de datos correctos sobre el femicidio es un reto, en gran parte porque, en la mayoría de los países, la policía y los sistemas de recopilación de datos sanitarios que documentan los casos de homicidio a menudo no tienen la información necesaria o no se notifican la relación entre la víctima y el perpetrador o los motivos del homicidio, y mucho menos las motivaciones del asesinato relacionadas con el género ( 4-6).',\n",
       " 'sin embargo, los datos sobre la naturaleza y la prevalencia del femicidio están aumentando en todo el mundo, como revelan los siguientes resultados presentados en la bibliografía sobre el tema.',\n",
       " 'tipos y prevalencia de femicidio femicidio íntimo el femicidio cometido por un esposo o enamorado actual o anterior se conoce como femicidio íntimo o asesinato por la pareja.',\n",
       " 'los resultados preliminares de 2un estudio en curso realizado por la oms y la escuela de higiene y medicina tropical de londres indican que más de 35% de todos los asesinatos de mujeres a nivel mundial son cometidos por un compañero íntimo ( 7).',\n",
       " 'en comparación, el mismo estudio calcula que solo cerca de 5% de todos los asesinatos de hombres son cometidos por una pareja.',\n",
       " 'considerando todos los homicidios de hombres y mujeres, se informa que aproximadamente 15% son cometidos por una pareja (7).',\n",
       " 'estas cifras son conservadoras dada la elevada cantidad de datos que faltan, en particular en los países no industrializados.',\n",
       " 'además de la proporción de mujeres y hombres asesinados por su pareja, los datos también muestran que las mujeres que matan a sus compañeros íntimos varones a menudo actúan en defensa propia ante una violencia e intimidación persistente ( 8).',\n",
       " 'esto concuerda con los resultados obtenidos utilizando estadísticas nacionales del canadá, según los cuales las mujeres tienen mayores probabilidades de asesinar a la pareja con la que mantienen una relación, mientras que los hombres tienen mayores probabilidades de matar a una pareja de la que están separados ( 9); asimismo, es más probable que las mujeres maten a su pareja como resultado de discusiones o riñas, mientras que es más probable que los hombres maten a su pareja motivados por los celos ( 10).',\n",
       " 'un grupo de mujeres que puede tener mayor riesgo de femicidio cometido por su pareja es el de las embarazadas, como reveló un examen de los registros policiales y médicos forenses en 11 ciudades de los estados unidos de américa (11).',\n",
       " '(para más información, véase la hoja informativa de la oms titulada “intimate partner violence during pregnancy”, en http://www.who.int/reproductivehealth/publications/violence/rhr_11_35/en/).',\n",
       " 'el femicidio íntimo no solo es la consecuencia más extrema de la violencia infligida por la pareja, sino que también tiene repercusiones profundas y prolongadas en el entorno que rodea a las mujeres.',\n",
       " 'por ejemplo, los hijos supervivientes de esas parejas sufren efectos duraderos porque pierden a su madre asesinada, su padre es encarcelado y ellos a menudo tienen que abandonar su hogar paterno y adaptarse a un ambiente donde quizá sean encasillados como hijos del asesino ( 12).',\n",
       " 'un estudio reciente efectuado en el reino unido destacó además que la pareja es rara vez la única víctima en los casos de femicidio íntimo.',\n",
       " 'quizá también sean asesinados hijos de la pareja; eventuales testigos no relacionados; personas percibidas por el perpetrador como aliados de la víctima, por ejemplo abogados, familiares, vecinos o amigos; o la nueva pareja de la víctima ( 13).',\n",
       " 'asesinatos en nombre del “honor” los asesinatos relacionados con el “honor” son aquellos en los que una niña o una mujer muere a manos de un miembro masculino o femenino de la familia por una transgresión sexual o conductual supuesta o real, como adulterio, relaciones sexuales o embarazo extramatrimoniales, o incluso por haber sido violada ( 14).',\n",
       " 'a menudo los autores del femicidio consideran que esta es una forma de proteger la reputación familiar, seguir la tradición o acatar exigencias religiosas interpretadas erróneamente.',\n",
       " 'los asesinatos en nombre del “honor” también pueden ser usados para encubrir casos de incesto ( 15) y hay informes sobre personas que usan la “defensa del honor” como una manera de obtener la aceptación jurídica y de la comunidad de un asesinato no cometido por el “honor” ( 5).',\n",
       " 'cada año hay en todo el mundo unos 5.000 asesinatos en nombre del “honor”, pero se piensa que esta cifra es una subestimación ( 16).',\n",
       " 'estas muertes ocurren principalmente en partes de oriente medio y asia meridional, pero también en algunas comunidades migratorias, por ejemplo, en australia, europa y norteamérica.',\n",
       " 'los estudios han informado sobre asesinatos por el “honor” 3cometidos con armas de fuego, hachas o herramientas cortantes, mediante estrangulación o a puñaladas, o quemando a la mujer, forzándola a ingerir un veneno o arrojándola desde una ventana ( 6,14).',\n",
       " 'los asesinatos de mujeres para “salvar el honor familiar” se cuentan entre las consecuencias más trágicas y ejemplos explícitos de una discriminación contra mujeres y niñas muy arraigada y culturalmente aceptada.',\n",
       " 'a menudo son cometidos con impunidad debido a la aceptación generalizada de la práctica y a estatutos jurídicos y judiciales que protegen al asesino ( 5,17).',\n",
       " 'en algunos casos, el asesinato puede ser fomentado o, incluso, inspirado por los deseos de otros miembros de la familia, incluidas mujeres ( 14).',\n",
       " 'en el reino unido y suecia, las investigaciones indican que los sistemas de justicia penal y de servicios sociales con frecuencia han caracterizado estos asesinatos como “tradiciones culturales”, en lugar de como formas extremas de violencia contra la mujer.',\n",
       " 'esta actitud, y un malentendido general de las cuestiones de género que sustentan estos crímenes, han conducido a una inadecuada protección jurídica y social de las niñas y las mujeres expuestas a la amenaza de crímenes relacionados con el “honor” en esos países ( 18,19 ).',\n",
       " 'femicidio relacionado con la dote otra forma de asesinato de mujeres vinculada con prácticas culturales se relaciona con la dote.',\n",
       " 'se presenta principalmente en zonas del subcontinente indio y afecta a mujeres recién casadas que son asesinadas por miembros de su familia política a causa de conflictos relacionados con la dote, por ejemplo como consecuencia de traer ellas una dote insuficiente a la familia (4).',\n",
       " 'la incidencia documentada de defunciones relacionadas con la dote varía enormemente.',\n",
       " 'por ejemplo, en el 2006 la oficina nacional de registro de delitos de la india notificó aproximadamente 7.600 defunciones relacionadas con la dote, mientras que otros cálculos señalan una cifra anual que duplica esa cantidad.',\n",
       " 'algunas fuentes han calculado que hasta 25.000 mujeres recién casadas mueren o son mutiladas cada año como consecuencia de violencia relacionada con la dote ( 4).',\n",
       " 'según un análisis de datos del estudio sobre la carga mundial de morbilidad, las mujeres enfrentan un riesgo mayor de muerte por quemaduras que los hombres y las quemaduras son a nivel mundial la séptima causa más frecuente de muerte entre las mujeres de 15 a 44 años de edad ( 20).',\n",
       " 'esto se debe en gran medida a que las mujeres pasan más tiempo cocinando, a menudo sobre fuegos al aire libre.',\n",
       " 'sin embargo, también se cree que algunas defunciones de mujeres jóvenes por acción del fuego se vinculan con violencia relacionada con la dote, la pareja o la familia, o con un suicidio forzado, en particular en el sur y el sudeste de asia.',\n",
       " 'en la región de la oms de asia sudoriental, las quemaduras fueron la tercera causa más frecuente de muerte entre las mujeres de 15 a 44 años de edad ( 20).',\n",
       " 'en un análisis reciente de datos del 2001 provenientes de la india se calculó que hubo 163.000 defunciones relacionadas con fuego, una cifra seis veces superior a la documentada en las estadísticas nacionales de delitos, y que 65% de esas defunciones correspondieron a mujeres, en su mayoría de 15 a 34 años de edad ( 21).',\n",
       " 'femicidio no íntimo el femicidio cometido por alguien que no tiene una relación íntima con la víctima se conoce como femicidio no íntimo, y el femicidio que incluye agresión sexual a veces se denomina femicidio sexual.',\n",
       " 'esos asesinatos pueden ser aleatorios, pero hay perturbadores ejemplos de asesinatos sistemáticos de mujeres, en particular en américa latina.',\n",
       " '4por ejemplo, al menos 400 mujeres han sido asesinadas brutalmente durante el último decenio en ciudad juárez, en la frontera de méxico con los estados unidos ( 22,23).',\n",
       " 'en el 2008, más de 700 mujeres fueron asesinadas en guatemala; muchos de estos asesinatos fueron precedidos de abuso sexual brutal y tortura ( 24).',\n",
       " 'una campaña sobre derechos humanos efectuada en el 2009 informó que había habido más de 500 femicidios por año en guatemala desde el 2001 ( 25).',\n",
       " 'en los estados unidos, dos tiroteos masivos en escuelas en el 2006 se caracterizaron por el hecho de que los asesinos atacaron solo a niñas y profesoras ( 26).',\n",
       " 'en algunos entornos, el femicidio no íntimo también afecta desproporcionadamente a las mujeres involucradas en ocupaciones marginadas y estigmatizadas, como el trabajo sexual y el trabajo en bares y clubes nocturnos ( 23).',\n",
       " '¿qué factores podrían aumentar o reducir el riesgo de femicidio?',\n",
       " 'las investigaciones comienzan a contribuir a aclarar los factores que aumentan el riesgo de las mujeres de ser asesinadas, especialmente por sus parejas, y los factores asociados con un mayor riesgo de que los hombres cometan un femicidio.',\n",
       " 'la mayoría de los estudios se relacionan con el femicidio íntimo y, por consiguiente, no se pueden aplicar a otras formas de asesinato, como los cometidos en nombre del “honor”.',\n",
       " 'el modelo más utilizado para entender cualquier forma de violencia es el modelo ecológico, según el cual la violencia está influenciada por factores que operan en cuatro niveles: individual, relacional o familiar, comunitario, y social o estructural (referente a las leyes, las políticas y las influencias sociales más generales).',\n",
       " 'en el cuadro 1 se describen los factores de riesgo en cada nivel, tanto para los agresores como para las víctimas.',\n",
       " '¿cuál es el mejor método para acabar con el femicidio?',\n",
       " 'fortalecer la vigilancia y la detección del femicidio y de la violencia por parte de la pareja es preciso intensificar la recopilación y el análisis de datos sobre mortalidad, desglosar esos datos por sexo y, en el caso de los asesinatos, garantizar la documentación de la relación entre la víctima y el perpetrador.',\n",
       " 'estos datos pueden ser complementados con información de otras fuentes (por ejemplo, la policía, las morgues, los tribunales y los médicos forenses) ( 4).',\n",
       " 'en los países donde se dispone de escasos datos sobre el femicidio, la sensibilización y la promoción de la causa podrían fomentar la cooperación entre la policía, el personal médico y otros organismos pertinentes para recoger datos e informar sobre la relación entre la víctima y el perpetrador y la motivación para cometer el femicidio.',\n",
       " 'también se deben tomar medidas para elaborar y fortalecer métodos de investigación que mejoren el conocimiento del contexto social del femicidio, incluidas las desigualdades por razón de género ( 4).',\n",
       " 'capacitar y sensibilizar al personal sanitario la capacitación y la sensibilización del personal sanitario, del personal de las morgues y de los médicos forenses podrían ayudarles a mejorar la documentación de los casos de femicidio y de las circunstancias que los rodean ( 4).',\n",
       " 'se requieren directrices basadas en la evidencia, en particular en lo concerniente a la clasificación de las relaciones entre las víctimas y los perpetradores e información sobre antecedentes de maltrato ( 4).5cuadro 1 ejemplos de factores de riesgo y de protección respecto de la perpetración y la victimización relacionadas con el femicidio de perpetración de femicidio de ser víctima de femicidio factores de riesgo nivel individual • desempleoa (3 ,4 ,11 ) • ser propietario de un arma de fuego (especialmente en los estados unidos, pero también en países con altos niveles de violencia con armas de fuego, como sudáfrica, y en situaciones de conflicto y posteriores a conflictos) ( 3 ,4 ,11,29 ) • amenazas de matar con un arma ( 3 ,11) • forzar a la pareja a tener relaciones sexuales (3 ,11) • consumo problemático del alcohol y uso de drogas ilícitas b (3,4) • problemas de salud mentalb (3,30 ), (especialmente, la probabilidad de que el perpetrador masculino se suicide después de matar a su pareja femenina) ( 30)• estar embarazada y ser víctima de abuso durante el embarazo a (3 ,11,3 0 ).',\n",
       " 'se ha encontrado esta asociación principalmente en los estados unidos, pero los estudios en algunos otros países han vinculado la violencia infligida por la pareja con la mortalidad materna.',\n",
       " 'por ejemplo, un estudio en mozambique descubrió que la violencia era la cuarta causa más frecuente de muerte materna en un hospital, y hasta 16% de la mortalidad materna era atribuible a la violencia infligida por la pareja en maharashtra, india.',\n",
       " 'nivel familiar/relacional • maltrato infligido anteriormente a la parejaa (en particular, a la mujer que mataron) ( 3 ,11)• maltrato infligido anteriormente por el perpetrador a (32), especialmente maltrato grave en los 30 días precedentes, y abuso cada vez más frecuente a • presencia de un niño nacido de una relación anterior (que no sea hijo biológico del perpetrador) ( 3 ,4 ,11 ) • distanciamiento de la pareja ( 3 ,11) • abandono de una relación de maltrato (4,32 ) nivel social/estructural • desigualdad por razón de género, incluido escaso número de mujeres entre los funcionarios gubernamentales elegidos b (33) • reducciones de los gastos sociales del gobierno en áreas tales como la salud y la educación (es decir, de gastos de consumo final del gobierno) ( 33) factores protectores nivel individual • educación universitaria (frente a una educación secundaria y preparatoria), incluso en los desempleados que están buscando trabajo ( 11)• tener domicilio por separado ( 3) nivel social/estructural • mayor número de policías ( 34) • legislación que restrinja el acceso a armas de fuego a los perpetradores de violencia infligida por la pareja ( 34) • arresto obligatorio en caso de violación de órdenes de restricción relacionadas con la violencia infligida por la pareja ( 34) a factor muy importante en todos los estudios b los datos son equívocos o poco claros.',\n",
       " '6además, es necesario mejorar la capacidad de los prestadores de servicios de salud para identificar la violencia infligida por la pareja y el riesgo de femicidio.',\n",
       " 'en algunos entornos, por ejemplo en los estados unidos, los estudios han revelado que muchas mujeres utilizaron servicios de salud en el año anterior a ser asesinadas por sus parejas ( 27).',\n",
       " 'se ha señalado que el mejoramiento de la detección en los sistemas de salud de la violencia grave infligida por la pareja, en particular durante el embarazo, es un medio de reducción del riesgo de femicidio ( 11).',\n",
       " 'en los estados unidos se han creado varias herramientas de evaluación para detectar riesgos de violencia infligida por la pareja y de femicidio.',\n",
       " 'estas herramientas deberían ponerse a prueba en otros entornos.',\n",
       " 'uno de los métodos mejor probados es la escala de evaluación del peligro 1, que evalúa específicamente el riesgo de que una mujer que busca atención de salud por la violencia infligida por la pareja sea posteriormente asesinada por esta ( 28).',\n",
       " 'capacitar y sensibilizar a la policía como en el caso de los prestadores de servicios de salud, sería beneficioso que se capacitara y sensibilizara a la policía y a otros miembros del sistema de justicia penal para que identificaran y documentaran los casos de femicidio, incluida la notificación de las relaciones entre la víctima y el perpetrador.',\n",
       " 'la capacitación del personal policial también debe incluir instrucción relacionada con la remoción de armas de fuego y con hacer cumplir las leyes sobre las armas de fuego en los casos de violencia familiar ( 3).',\n",
       " 'conjuntamente con los servicios de protección de los niños, mediante políticas y capacitación del personal de policía se podría facilitar la identificación y el apoyo de los niños afectados por la violencia infligida por la pareja y el femicidio (3), y las leyes podrían asegurar el procesamiento apropiado de los agresores ( 4).',\n",
       " 'incrementar las investigaciones sobre la prevención y las intervenciones en términos generales, la mejor manera de reducir el femicidio es disminuir la violencia infligida por la pareja.',\n",
       " 'se requieren investigaciones que hagan hincapié en los perpetradores y posibles perpetradores, por ejemplo en relación con los factores de riesgo y de protección.',\n",
       " 'también se necesitan estudios que investiguen los casos de violencia casi mortal infligida por la pareja, no solo para conocer las necesidades de las supervivientes y las características de los perpetradores sino también para arrojar luz sobre los factores que pueden prevenir el femicidio ( 3).',\n",
       " 'teniendo en cuenta los indicios de que al dejar una relación una mujer puede ver aumentado su riesgo de ser asesinada por la pareja ( 11), las investigaciones sobre las intervenciones también deben dar a conocer y examinar los daños potenciales de las propias intervenciones y considerar medidas para mitigar estos efectos.',\n",
       " 'restringir la propiedad de armas de fuego y fortalecer las leyes sobre armas de fuego los estudios revelan sistemáticamente una asociación entre la propiedad de armas de fuego, en particular pistolas, y la perpetración de femicidios íntimos ( 29).',\n",
       " 'en investigaciones efectuadas en los estados unidos incluso se ha encontrado una asociación entre la adquisición de un arma de fuego por las mujeres para su propia protección y un mayor riesgo de femicidio a manos de 1 instrumento desarrollado por jacquelyn campbeld conocido en inglés como danger assessment scale.7su pareja.',\n",
       " 'se estableció que era tres veces más probable que las mujeres fueran asesinadas si había un arma de fuego en su hogar ( 29).',\n",
       " 'hay recomendaciones de que la propiedad de armas de fuego esté restringida para todas las personas.',\n",
       " 'pero más específicamente, las investigaciones han encontrado que las leyes más estrictas sobre armas de fuego relacionadas con hombres que hayan comparecido ante un tribunal o hayan sido condenados por maltrato a sus parejas son de especial importancia para reducir las tasas de femicidios ( 34).',\n",
       " 'fortalecer la vigilancia, la investigación, las leyes y la concientización sobre el asesinato en nombre del “honor” si bien todas las recomendaciones formuladas para acabar con el femicidio también se aplican a los entornos donde se cometen asesinatos en nombre del “honor”, se necesitan medidas adicionales.',\n",
       " 'la vigilancia y la investigación sobre los crímenes de “honor” son escasas en la mayoría de los países, y la legislación, cuando existe, a menudo no se hace cumplir adecuadamente y es fácilmente eludida.',\n",
       " 'promover el cambio de las leyes que permiten estos tipos de crímenes es esencial.',\n",
       " 'quienes abogan por ese cambio han señalado los buenos resultados de la concientización del público y de las instancias normativas acerca de esos crímenes; a ese respecto se han recopilado y analizado los datos disponibles, los casos juzgados en los tribunales y los fallos de los jueces, y se ha hecho referencia a los instrumentos internacionales de derechos humanos pertinentes para la protección de los derechos de las mujeres ( 14).',\n",
       " 'estas medidas son un primer paso importante en los países donde se cometen femicidios en nombre del “honor”.',\n",
       " 'es también necesario fortalecer la concientización sobre los riesgos de asesinato en defensa del “honor” y la respuesta a ellos en los países donde posiblemente se cometan esos asesinatos, inclusive dentro de comunidades migratorias.',\n",
       " 'el personal de salud y de los servicios sociales, así como los funcionarios del sistema de justicia penal, requieren capacitación y sensibilización para identificar a las niñas y las mujeres en riesgo de ser asesinadas por cuestiones de “honor” y a los hombres y otros miembros de la familia en riesgo de perpetrar esos femicidios.',\n",
       " '8referencias 1. consejo centroamericano de procuradores de derechos humanos.',\n",
       " 'informe regional: situación y análisis del femicidio en la región centroamericana, iidh, asdi y danida.',\n",
       " 'san josé, costa rica, consejo centroamericano de procuradores de derechos humanos, 2006.',\n",
       " '2. sagot m. strengthening and organization of women and coordinated action between the state and civil society at the local level to prevent and address family violence – research protocol .',\n",
       " 'san josé, costa rica, pan american health organization, 2002.',\n",
       " '3. campbell j et al.',\n",
       " 'intimate partner homicide: review and implications of research and policy.',\n",
       " 'trauma, violence, & abuse , 2007, 8(3):246–69.',\n",
       " '4. strengthening understanding of femicide .',\n",
       " 'seattle, program for appropriate technology in health, 2008.',\n",
       " '5. patel s, gadit am.',\n",
       " 'karo-kari: a form of honour killing in pakistan.',\n",
       " 'transcultural psychiatry , 2008, 45(4):683–94.',\n",
       " '6. nasrullah m, haqqi s, cummings kj.',\n",
       " 'the epidemiological patterns of honour killing of women in pakistan.',\n",
       " 'european journal of public health , 2009, 19(2):193–97.',\n",
       " '7. stöckl h et al.',\n",
       " 'the global prevalence of intimate partner homicide: a systematic review .',\n",
       " '(forthcoming.)',\n",
       " '8. daly m. & wilson m. homicide .',\n",
       " 'new york, aldine de gruyter, 1988.',\n",
       " '9. losing control: homicide risk in estranged and intact intimate relationships.',\n",
       " 'homicide studies , 2003, 7(1):58–84.',\n",
       " '10. hotton t. spousal violence after marital separation .',\n",
       " 'ottawa, canadian centre for justice statistics, 2001.',\n",
       " '11. campbell jc et al.',\n",
       " 'risk factors for femicide in abusive relationships: results from a multisite case control study.',\n",
       " 'american journal of public health , 2003, 93(7):1089–97.',\n",
       " '12. lewandowski l et al.',\n",
       " '‘he killed my mommy!’: murder or attempted murder of a child’s mother.',\n",
       " 'journal of family violence , 2004, 19:211–20.',\n",
       " '13. dobash rp, dobash re.',\n",
       " 'who died?',\n",
       " 'the murder of collaterals related to intimate partner conflict.',\n",
       " 'violence against women , 2012, 18(6):662–71.',\n",
       " '14. khafagy f. honour killing in egypt .',\n",
       " 'cairo, un division for the advancement of women, 2005.',\n",
       " '15. faqir f. intrafamily femicide in defence of honour: the case of jordan.',\n",
       " 'third world quarterly , 2001, 22(1):65–82.',\n",
       " '16. un.',\n",
       " 'impunity for domestic violence, ‘honour killings’ cannot continue – un official .',\n",
       " 'un news center, 2011, 15 february 2011.',\n",
       " '17. naciones unidas.',\n",
       " 'hacia la eliminación de los delitos de honor cometidos contra la mujer .',\n",
       " 'asamblea general de las naciones unidas, quincuagésimo séptimo período de sesiones, a/57/169, 2002.',\n",
       " '18. reddy r. gender, culture and the law: approaches to ‘honour crimes’ in the uk.',\n",
       " 'feminist legal studies , 2008, 16(3):305–21.',\n",
       " '19. schlytter a, linell h. girls with honour-related problems in a comparative perspective.',\n",
       " 'international journal of social welfare , 2010, 19(2):152–61.',\n",
       " '20. ribeiro ps et al.',\n",
       " 'priorities for women’s health from the global burden of disease study.',\n",
       " 'international journal of gynecology & obstetrics , 2008, 102(1):82–90.',\n",
       " '21. sanghavi p, bhalla k, das v. fire-related deaths in india in 2001: a retrospective analysis of data.',\n",
       " 'lancet , 2009, 373(9671):1282–88.',\n",
       " '22. violence against women and girls, and sexual and reproductive rights.',\n",
       " 'in: mexico annual report .',\n",
       " 'amnesty international 2011. http://www.amnesty.org/en/region/ mexico/report-2011#section-91-8 accessed 15 november 2012.',\n",
       " '23. latin american and caribbean women’s health network.',\n",
       " 'dying because they are women femicide/feminicide: extreme gender violence .',\n",
       " 'latin american and caribbean women’s health network, women’s health journal 2009 , 1.924. human rights watch.',\n",
       " 'world report 2010 – guatemala .',\n",
       " 'new york, ny, human rights watch, 2010.',\n",
       " '25. stop-femicide.',\n",
       " 'femicide in guatemala counts!',\n",
       " 'richmond, va, stop-femicide, 2011.',\n",
       " '26. herbert b. why aren’t we shocked?',\n",
       " 'new york times , 16 october 2006, a19.',\n",
       " '27. plichta sb.',\n",
       " 'interactions between victims of intimate partner violence against women and the health care system: policy and practice implications.',\n",
       " 'trauma, violence & abuse , 2007, 8(2):226–39.',\n",
       " '28. campbell j. assessing dangerousness in domestic violence cases: history, challenges and opportunities.',\n",
       " 'criminology & public policy , 2005, 4(4):653–72.',\n",
       " '29. langley m. when men murder women: an analysis of 2006 homicide data – females murdered by males in single victim/single offender incidents .',\n",
       " 'washington, dc, violence policy center, 2008.',\n",
       " '30. campbell jc, abrahams n, martin l. perpetration of violence against intimate partners: health care implications from global data.',\n",
       " 'canadian medical association journal , 2008, 179(6):511–12.',\n",
       " '31. martin sl et al.',\n",
       " 'pregnancy-associated violent deaths: the role of intimate partner violence.',\n",
       " 'trauma, violence & abuse , 2007, 135–48.',\n",
       " '32. block cr.',\n",
       " 'how can practitioners help an abused woman lower her risk of death?',\n",
       " 'national institute of justice journal , 2003, 250:4–7.',\n",
       " '33. palma-solis m, vives-cases c, alvarez-dardet c. gender progress and government expenditure as determinants of femicide.',\n",
       " 'annals of epidemiology , 2008, 18(4):322–29.',\n",
       " '34. zeoli am, webster dw.',\n",
       " 'effects of domestic violence policies, alcohol taxes and police staffing levels on intimate partner homicide in large us cities.',\n",
       " 'injury prevention , 2010, 16(2):90–95.1011la serie completa de hojas informativas titulada “comprender y abordar la violencia contra las mujeres” puede bajarse del sitio web del departamento de salud reproductiva de la oms, http:/ /www.who.int/reproductivehealth/publications/violence/en/index.html, y del sitio web de la organización panamericana de la salud, http:/ /www.paho.org/violence se puede encontrar más información en otras publicaciones de la oms, como las siguientes: • summary of the expert meeting on health-sector responses to violence against women, http:/ /whqlibdoc.who.int/publications/2010/9789241500630_eng.pdf • estudio multipaís de la oms sobre salud de la mujer y violencia doméstica contra la mujer: primeros resultados sobre prevalencia, eventos relativos a la salud y respuestas de las mujeres a dicha violencia , http:/ /www.',\n",
       " 'who.int/gender/violence/who_multicountry_study/summary_report/summaryreportspanishlow.pdf agradecimientos esta hoja informativa fue preparada por claudia garcía-moreno, alessandra guedes y wendy knerr como parte de una serie producida por la oms y la ops para reseñar la base de evidencia sobre aspectos de la violencia contra la mujer.',\n",
       " 'margarita quintanilla y heidi stöckl actuaron como revisoras externas de esta hoja informativa.',\n",
       " 'sarah ramsay es la editora de la serie.12organización panamericana de la salud.',\n",
       " 'comprender y abordar la violencia contra las mujeres.',\n",
       " 'femicidio.',\n",
       " 'washington,dc : ops , 2013. who/rhr/12.35 1. violencia contra la mujer.',\n",
       " '2. género y salud.',\n",
       " '3. violencia sexual.',\n",
       " 'i. título.',\n",
       " 'ii.',\n",
       " 'organización mundial de la salud.',\n",
       " 'clasificación nlm: wa309 © organización mundial de la salud, 2013. todos los derechos reservados.',\n",
       " 'la edición en español fue realizada por la organización panamericana de la salud.',\n",
       " 'las solicitudes de autorización para reproducir, íntegramente o en parte, esta publicación deberán dirigirse al departamento de gestión de conocimiento y comunicación, organización panamericana de la salud, washington, d.c., ee.',\n",
       " 'uu.',\n",
       " '(pubrights@paho.org).',\n",
       " 'el departamento de familia, género y curso de vida podrá proporcionar información sobre cambios introducidos en la obra, planes de reedición, y reimpresiones y traducciones ya disponibles.',\n",
       " 'las publicaciones de la organización panamericana de la salud están acogidas a la protección prevista por las disposiciones sobre reproducción de originales del protocolo 2 de la convención universal sobre derecho de autor.',\n",
       " 'la organización panamericana de la salud ha adoptado todas las precauciones razonables para verificar la información que figura en la presente publicación, no obstante lo cual, el material publicado se distribuye sin garantía de ningún tipo, ni explícita ni implícita.',\n",
       " 'el lector es responsable de la interpretación y el uso que haga de ese material, y en ningún caso la organización panamericana de la salud podrá ser considerada responsable de daño alguno causado por su utilización.who/rhr/12.38']"
      ]
     },
     "execution_count": 45,
     "metadata": {},
     "output_type": "execute_result"
    }
   ],
   "source": [
    "#tokenizar por frases\n",
    "onu_frases=frases(informe_onu)\n",
    "onu_frases"
   ]
  },
  {
   "cell_type": "markdown",
   "metadata": {},
   "source": [
    "## Palabras comunes"
   ]
  },
  {
   "cell_type": "code",
   "execution_count": 46,
   "metadata": {},
   "outputs": [],
   "source": [
    "## palabras comunes\n",
    "contar_palabras_onu= Counter(onu_token) #contar palabras\n",
    "palabras_comunes_onu= contar_palabras_onu.most_common (10)\n",
    "## Selección de elementos\n",
    "palabras_onu = [w [0] for w in palabras_comunes_onu]\n",
    "frecuencia_onu = [w [1] for w in palabras_comunes_onu]\n",
    "frecuencia, palabras = zip (*sorted (zip (frecuencia_onu, palabras_onu)))"
   ]
  },
  {
   "cell_type": "code",
   "execution_count": 47,
   "metadata": {},
   "outputs": [
    {
     "data": {
      "image/png": "[encoded data removed]",
      "text/plain": [
       "<Figure size 640x480 with 1 Axes>"
      ]
     },
     "metadata": {},
     "output_type": "display_data"
    }
   ],
   "source": [
    "#Visualización de datos en NLP\n",
    "plt.barh (palabras_onu, frecuencia_onu, color = \"darkseagreen\",edgecolor = \"olive\", linewidth = 1)\n",
    "plt.title('Grafica de la frecuencia aparición de las palabras en el texto')  \n",
    "plt.show ()"
   ]
  },
  {
   "cell_type": "code",
   "execution_count": 86,
   "metadata": {},
   "outputs": [
    {
     "data": {
      "text/plain": [
       "<Figure size 640x480 with 0 Axes>"
      ]
     },
     "metadata": {},
     "output_type": "display_data"
    }
   ],
   "source": [
    "plt.savefig(\"ouput1.png\", bbox_inches='tight')"
   ]
  },
  {
   "cell_type": "code",
   "execution_count": 49,
   "metadata": {},
   "outputs": [
    {
     "data": {
      "image/png": "[encoded data removed]",
      "text/plain": [
       "<Figure size 640x480 with 1 Axes>"
      ]
     },
     "metadata": {},
     "output_type": "display_data"
    }
   ],
   "source": [
    "x, y = np.ogrid[:300, :300]\n",
    "mask = (x - 150) ** 2 + (y - 150) ** 2 > 130 ** 2\n",
    "mask = 255 * mask.astype(int)\n",
    "\n",
    "wc = WordCloud(background_color = \"black\", repeat = True, mask = mask)\n",
    "wc.generate(str(palabras_onu))\n",
    "\n",
    "plt.axis(\"off\")\n",
    "plt.imshow(wc, interpolation = \"bilinear\")\n",
    "plt.show ()"
   ]
  },
  {
   "cell_type": "markdown",
   "metadata": {},
   "source": [
    "### Bigramas y trigramas"
   ]
  },
  {
   "cell_type": "code",
   "execution_count": 50,
   "metadata": {},
   "outputs": [],
   "source": [
    "#agrupar en dos\n",
    "bigrama_onu = list (ngrams (onu_token, 2))\n",
    "#agrupar en tres\n",
    "trigrama_onu = list (ngrams (onu_token, 3))\n",
    "\n"
   ]
  },
  {
   "cell_type": "code",
   "execution_count": 51,
   "metadata": {},
   "outputs": [
    {
     "data": {
      "text/html": [
       "<div>\n",
       "<style scoped>\n",
       "    .dataframe tbody tr th:only-of-type {\n",
       "        vertical-align: middle;\n",
       "    }\n",
       "\n",
       "    .dataframe tbody tr th {\n",
       "        vertical-align: top;\n",
       "    }\n",
       "\n",
       "    .dataframe thead th {\n",
       "        text-align: right;\n",
       "    }\n",
       "</style>\n",
       "<table border=\"1\" class=\"dataframe\">\n",
       "  <thead>\n",
       "    <tr style=\"text-align: right;\">\n",
       "      <th></th>\n",
       "      <th>palabras_relacionadas</th>\n",
       "      <th>frecuencia</th>\n",
       "    </tr>\n",
       "  </thead>\n",
       "  <tbody>\n",
       "    <tr>\n",
       "      <th>0</th>\n",
       "      <td>(asesinatos, nombre)</td>\n",
       "      <td>4</td>\n",
       "    </tr>\n",
       "    <tr>\n",
       "      <th>1</th>\n",
       "      <td>(hoja, informativa)</td>\n",
       "      <td>4</td>\n",
       "    </tr>\n",
       "    <tr>\n",
       "      <th>2</th>\n",
       "      <td>(violencia, mujeres)</td>\n",
       "      <td>4</td>\n",
       "    </tr>\n",
       "    <tr>\n",
       "      <th>3</th>\n",
       "      <td>(víctima, perpetrador)</td>\n",
       "      <td>4</td>\n",
       "    </tr>\n",
       "    <tr>\n",
       "      <th>4</th>\n",
       "      <td>(journal, of)</td>\n",
       "      <td>5</td>\n",
       "    </tr>\n",
       "    <tr>\n",
       "      <th>5</th>\n",
       "      <td>(riesgo, femicidio)</td>\n",
       "      <td>5</td>\n",
       "    </tr>\n",
       "    <tr>\n",
       "      <th>6</th>\n",
       "      <td>(violence, against)</td>\n",
       "      <td>5</td>\n",
       "    </tr>\n",
       "    <tr>\n",
       "      <th>7</th>\n",
       "      <td>(organización, panamericana)</td>\n",
       "      <td>6</td>\n",
       "    </tr>\n",
       "    <tr>\n",
       "      <th>8</th>\n",
       "      <td>(intimate, partner)</td>\n",
       "      <td>7</td>\n",
       "    </tr>\n",
       "    <tr>\n",
       "      <th>9</th>\n",
       "      <td>(nombre, honor)</td>\n",
       "      <td>7</td>\n",
       "    </tr>\n",
       "    <tr>\n",
       "      <th>10</th>\n",
       "      <td>(panamericana, salud)</td>\n",
       "      <td>7</td>\n",
       "    </tr>\n",
       "    <tr>\n",
       "      <th>11</th>\n",
       "      <td>(femicidio, íntimo)</td>\n",
       "      <td>8</td>\n",
       "    </tr>\n",
       "    <tr>\n",
       "      <th>12</th>\n",
       "      <td>(armas, fuego)</td>\n",
       "      <td>10</td>\n",
       "    </tr>\n",
       "    <tr>\n",
       "      <th>13</th>\n",
       "      <td>(violencia, infligida)</td>\n",
       "      <td>10</td>\n",
       "    </tr>\n",
       "    <tr>\n",
       "      <th>14</th>\n",
       "      <td>(infligida, pareja)</td>\n",
       "      <td>12</td>\n",
       "    </tr>\n",
       "  </tbody>\n",
       "</table>\n",
       "</div>"
      ],
      "text/plain": [
       "           palabras_relacionadas  frecuencia\n",
       "0           (asesinatos, nombre)           4\n",
       "1            (hoja, informativa)           4\n",
       "2           (violencia, mujeres)           4\n",
       "3         (víctima, perpetrador)           4\n",
       "4                  (journal, of)           5\n",
       "5            (riesgo, femicidio)           5\n",
       "6            (violence, against)           5\n",
       "7   (organización, panamericana)           6\n",
       "8            (intimate, partner)           7\n",
       "9                (nombre, honor)           7\n",
       "10         (panamericana, salud)           7\n",
       "11           (femicidio, íntimo)           8\n",
       "12                (armas, fuego)          10\n",
       "13        (violencia, infligida)          10\n",
       "14           (infligida, pareja)          12"
      ]
     },
     "execution_count": 51,
     "metadata": {},
     "output_type": "execute_result"
    }
   ],
   "source": [
    "#creacion del bigrama\n",
    "bigrama_freq_onu = FreqDist (bigrama_onu) #frecuencia distribución\n",
    "bigramas_comunes_onu= bigrama_freq_onu.most_common(15) # 15 más comunes\n",
    "palabras_bi_onu = [w [0][0:2] for w in bigramas_comunes_onu] #el primer elemento son la palabras\n",
    "frecuencia_bi_onu = [w [1] for w in bigramas_comunes_onu] # el segundo el elemento la frecuencia\n",
    "frecuencia_bi_onu, palabras_bi_onu = zip (*sorted (zip (frecuencia_bi_onu, palabras_bi_onu))) # se agrupan en zip\n",
    "tabla_bigrama_onu= pd.DataFrame({\"palabras_relacionadas\": palabras_bi_onu, \"frecuencia\": frecuencia_bi_onu})\n",
    "tabla_bigrama_onu"
   ]
  },
  {
   "cell_type": "code",
   "execution_count": 52,
   "metadata": {},
   "outputs": [
    {
     "data": {
      "image/png": "[encoded data removed]",
      "text/plain": [
       "<Figure size 640x480 with 1 Axes>"
      ]
     },
     "metadata": {},
     "output_type": "display_data"
    }
   ],
   "source": [
    "#se grafica el bigrama\n",
    "sns.barplot(y = tabla_bigrama_onu[\"palabras_relacionadas\"], x = tabla_bigrama_onu[\"frecuencia\"],\n",
    "            palette = \"Blues_d\")\n",
    "plt.title('Grafica de bigramas')  \n",
    "plt.show ()"
   ]
  },
  {
   "cell_type": "code",
   "execution_count": 53,
   "metadata": {},
   "outputs": [
    {
     "data": {
      "text/html": [
       "<div>\n",
       "<style scoped>\n",
       "    .dataframe tbody tr th:only-of-type {\n",
       "        vertical-align: middle;\n",
       "    }\n",
       "\n",
       "    .dataframe tbody tr th {\n",
       "        vertical-align: top;\n",
       "    }\n",
       "\n",
       "    .dataframe thead th {\n",
       "        text-align: right;\n",
       "    }\n",
       "</style>\n",
       "<table border=\"1\" class=\"dataframe\">\n",
       "  <thead>\n",
       "    <tr style=\"text-align: right;\">\n",
       "      <th></th>\n",
       "      <th>palabras_relacionadas</th>\n",
       "      <th>frecuencia</th>\n",
       "    </tr>\n",
       "  </thead>\n",
       "  <tbody>\n",
       "    <tr>\n",
       "      <th>0</th>\n",
       "      <td>(abordar, violencia, mujeres)</td>\n",
       "      <td>3</td>\n",
       "    </tr>\n",
       "    <tr>\n",
       "      <th>1</th>\n",
       "      <td>(causa, frecuente, muerte)</td>\n",
       "      <td>3</td>\n",
       "    </tr>\n",
       "    <tr>\n",
       "      <th>2</th>\n",
       "      <td>(comprender, abordar, violencia)</td>\n",
       "      <td>3</td>\n",
       "    </tr>\n",
       "    <tr>\n",
       "      <th>3</th>\n",
       "      <td>(femicidio, íntimo, femicidio)</td>\n",
       "      <td>3</td>\n",
       "    </tr>\n",
       "    <tr>\n",
       "      <th>4</th>\n",
       "      <td>(intimate, partner, violence)</td>\n",
       "      <td>3</td>\n",
       "    </tr>\n",
       "    <tr>\n",
       "      <th>5</th>\n",
       "      <td>(relación, víctima, perpetrador)</td>\n",
       "      <td>3</td>\n",
       "    </tr>\n",
       "    <tr>\n",
       "      <th>6</th>\n",
       "      <td>(asesinatos, nombre, honor)</td>\n",
       "      <td>4</td>\n",
       "    </tr>\n",
       "    <tr>\n",
       "      <th>7</th>\n",
       "      <td>(violence, against, women)</td>\n",
       "      <td>4</td>\n",
       "    </tr>\n",
       "    <tr>\n",
       "      <th>8</th>\n",
       "      <td>(organización, panamericana, salud)</td>\n",
       "      <td>6</td>\n",
       "    </tr>\n",
       "    <tr>\n",
       "      <th>9</th>\n",
       "      <td>(violencia, infligida, pareja)</td>\n",
       "      <td>10</td>\n",
       "    </tr>\n",
       "  </tbody>\n",
       "</table>\n",
       "</div>"
      ],
      "text/plain": [
       "                 palabras_relacionadas  frecuencia\n",
       "0        (abordar, violencia, mujeres)           3\n",
       "1           (causa, frecuente, muerte)           3\n",
       "2     (comprender, abordar, violencia)           3\n",
       "3       (femicidio, íntimo, femicidio)           3\n",
       "4        (intimate, partner, violence)           3\n",
       "5     (relación, víctima, perpetrador)           3\n",
       "6          (asesinatos, nombre, honor)           4\n",
       "7           (violence, against, women)           4\n",
       "8  (organización, panamericana, salud)           6\n",
       "9       (violencia, infligida, pareja)          10"
      ]
     },
     "execution_count": 53,
     "metadata": {},
     "output_type": "execute_result"
    }
   ],
   "source": [
    "# se crea el trigrama\n",
    "\n",
    "trigrama_freg_onu = FreqDist (trigrama_onu) #frecuencia distribución\n",
    "trigramas_comunes_onu =trigrama_freg_onu.most_common(10)# las 10 más comunes\n",
    "palabras_tri_onu = [w [0] for w in trigramas_comunes_onu]# el primer elemento son la las palabras\n",
    "frecuencia_tri_onu = [w [1] for w in trigramas_comunes_onu]\n",
    "frecuencia_tri_onu, palabras_tri_onu = zip (*sorted (zip (frecuencia_tri_onu, palabras_tri_onu)))\n",
    "#ta tabla de frecuencia\n",
    "tabla_trigrama_onu= pd.DataFrame({\"palabras_relacionadas\": palabras_tri_onu, \"frecuencia\": frecuencia_tri_onu})\n",
    "tabla_trigrama_onu"
   ]
  },
  {
   "cell_type": "code",
   "execution_count": 54,
   "metadata": {},
   "outputs": [
    {
     "data": {
      "image/png": "[encoded data removed]",
      "text/plain": [
       "<Figure size 640x480 with 1 Axes>"
      ]
     },
     "metadata": {},
     "output_type": "display_data"
    }
   ],
   "source": [
    "#se crea un grafico\n",
    "sns.barplot(y = tabla_trigrama_onu[\"palabras_relacionadas\"], x = tabla_trigrama_onu[\"frecuencia\"])\n",
    "sns.color_palette(\"flare\")\n",
    "plt.title('Grafica de trigramas: \\n informe onu')  \n",
    "plt.show ()"
   ]
  },
  {
   "cell_type": "code",
   "execution_count": null,
   "metadata": {},
   "outputs": [],
   "source": []
  },
  {
   "cell_type": "markdown",
   "metadata": {},
   "source": [
    "## Analisis de sentimientos "
   ]
  },
  {
   "cell_type": "code",
   "execution_count": 55,
   "metadata": {},
   "outputs": [
    {
     "data": {
      "text/html": [
       "<div>\n",
       "<style scoped>\n",
       "    .dataframe tbody tr th:only-of-type {\n",
       "        vertical-align: middle;\n",
       "    }\n",
       "\n",
       "    .dataframe tbody tr th {\n",
       "        vertical-align: top;\n",
       "    }\n",
       "\n",
       "    .dataframe thead th {\n",
       "        text-align: right;\n",
       "    }\n",
       "</style>\n",
       "<table border=\"1\" class=\"dataframe\">\n",
       "  <thead>\n",
       "    <tr style=\"text-align: right;\">\n",
       "      <th></th>\n",
       "      <th>Frases</th>\n",
       "      <th>Polaridad del Sentimiento</th>\n",
       "    </tr>\n",
       "  </thead>\n",
       "  <tbody>\n",
       "    <tr>\n",
       "      <th>0</th>\n",
       "      <td>comprender y abordar la violencia contra las m...</td>\n",
       "      <td>0.0000</td>\n",
       "    </tr>\n",
       "    <tr>\n",
       "      <th>1</th>\n",
       "      <td>en el extremo del espectro está el femicidio: ...</td>\n",
       "      <td>0.0000</td>\n",
       "    </tr>\n",
       "    <tr>\n",
       "      <th>2</th>\n",
       "      <td>si bien nuestra comprensión del problema del f...</td>\n",
       "      <td>0.0000</td>\n",
       "    </tr>\n",
       "    <tr>\n",
       "      <th>3</th>\n",
       "      <td>recuadro 1. definiciones de femicidio en gener...</td>\n",
       "      <td>0.0000</td>\n",
       "    </tr>\n",
       "    <tr>\n",
       "      <th>4</th>\n",
       "      <td>esta hoja informativa se centra en la definici...</td>\n",
       "      <td>0.0000</td>\n",
       "    </tr>\n",
       "    <tr>\n",
       "      <th>...</th>\n",
       "      <td>...</td>\n",
       "      <td>...</td>\n",
       "    </tr>\n",
       "    <tr>\n",
       "      <th>193</th>\n",
       "      <td>(pubrights@paho.org).</td>\n",
       "      <td>0.0000</td>\n",
       "    </tr>\n",
       "    <tr>\n",
       "      <th>194</th>\n",
       "      <td>el departamento de familia, género y curso de ...</td>\n",
       "      <td>0.0000</td>\n",
       "    </tr>\n",
       "    <tr>\n",
       "      <th>195</th>\n",
       "      <td>las publicaciones de la organización panameric...</td>\n",
       "      <td>0.0000</td>\n",
       "    </tr>\n",
       "    <tr>\n",
       "      <th>196</th>\n",
       "      <td>la organización panamericana de la salud ha ad...</td>\n",
       "      <td>-0.5267</td>\n",
       "    </tr>\n",
       "    <tr>\n",
       "      <th>197</th>\n",
       "      <td>el lector es responsable de la interpretación ...</td>\n",
       "      <td>0.0000</td>\n",
       "    </tr>\n",
       "  </tbody>\n",
       "</table>\n",
       "<p>198 rows × 2 columns</p>\n",
       "</div>"
      ],
      "text/plain": [
       "                                                Frases  \\\n",
       "0    comprender y abordar la violencia contra las m...   \n",
       "1    en el extremo del espectro está el femicidio: ...   \n",
       "2    si bien nuestra comprensión del problema del f...   \n",
       "3    recuadro 1. definiciones de femicidio en gener...   \n",
       "4    esta hoja informativa se centra en la definici...   \n",
       "..                                                 ...   \n",
       "193                              (pubrights@paho.org).   \n",
       "194  el departamento de familia, género y curso de ...   \n",
       "195  las publicaciones de la organización panameric...   \n",
       "196  la organización panamericana de la salud ha ad...   \n",
       "197  el lector es responsable de la interpretación ...   \n",
       "\n",
       "     Polaridad del Sentimiento  \n",
       "0                       0.0000  \n",
       "1                       0.0000  \n",
       "2                       0.0000  \n",
       "3                       0.0000  \n",
       "4                       0.0000  \n",
       "..                         ...  \n",
       "193                     0.0000  \n",
       "194                     0.0000  \n",
       "195                     0.0000  \n",
       "196                    -0.5267  \n",
       "197                     0.0000  \n",
       "\n",
       "[198 rows x 2 columns]"
      ]
     },
     "execution_count": 55,
     "metadata": {},
     "output_type": "execute_result"
    }
   ],
   "source": [
    "# con la funnción de tokenizar frases\n",
    "onu_frases= frases(informe_onu)\n",
    "# con la función de analisis de sentimientos mencionada anteriormente\n",
    "tabla_onu=anilisis_sentimiento_tabla(onu_frases)\n",
    "tabla_onu"
   ]
  },
  {
   "cell_type": "code",
   "execution_count": 56,
   "metadata": {},
   "outputs": [
    {
     "data": {
      "image/png": "[encoded data removed]",
      "text/plain": [
       "<Figure size 640x480 with 1 Axes>"
      ]
     },
     "metadata": {},
     "output_type": "display_data"
    }
   ],
   "source": [
    "fig, ax = plt.subplots()\n",
    "ax.violinplot(tabla_onu[\"Polaridad del Sentimiento\"])\n",
    "plt.title('Analisis sentimiento \"informe de la onu\"')  \n",
    "plt.show()"
   ]
  },
  {
   "cell_type": "markdown",
   "metadata": {},
   "source": [
    "# analisis de las entidades"
   ]
  },
  {
   "cell_type": "code",
   "execution_count": 57,
   "metadata": {},
   "outputs": [],
   "source": [
    "entidades_onu = identificar_entidades(onu_frases)\n",
    "#print(\"Entidades identificadas:\", entidades_onu)"
   ]
  },
  {
   "cell_type": "code",
   "execution_count": 58,
   "metadata": {},
   "outputs": [
    {
     "data": {
      "text/html": [
       "<div>\n",
       "<style scoped>\n",
       "    .dataframe tbody tr th:only-of-type {\n",
       "        vertical-align: middle;\n",
       "    }\n",
       "\n",
       "    .dataframe tbody tr th {\n",
       "        vertical-align: top;\n",
       "    }\n",
       "\n",
       "    .dataframe thead th {\n",
       "        text-align: right;\n",
       "    }\n",
       "</style>\n",
       "<table border=\"1\" class=\"dataframe\">\n",
       "  <thead>\n",
       "    <tr style=\"text-align: right;\">\n",
       "      <th></th>\n",
       "      <th>Entidad</th>\n",
       "      <th>tipo de entidad</th>\n",
       "    </tr>\n",
       "  </thead>\n",
       "  <tbody>\n",
       "    <tr>\n",
       "      <th>0</th>\n",
       "      <td>recuadro 1</td>\n",
       "      <td>MISC</td>\n",
       "    </tr>\n",
       "    <tr>\n",
       "      <th>1</th>\n",
       "      <td>recuadro 1</td>\n",
       "      <td>MISC</td>\n",
       "    </tr>\n",
       "    <tr>\n",
       "      <th>2</th>\n",
       "      <td>la bibliografía</td>\n",
       "      <td>LOC</td>\n",
       "    </tr>\n",
       "    <tr>\n",
       "      <th>3</th>\n",
       "      <td>oms</td>\n",
       "      <td>ORG</td>\n",
       "    </tr>\n",
       "    <tr>\n",
       "      <th>4</th>\n",
       "      <td>londres</td>\n",
       "      <td>LOC</td>\n",
       "    </tr>\n",
       "    <tr>\n",
       "      <th>...</th>\n",
       "      <td>...</td>\n",
       "      <td>...</td>\n",
       "    </tr>\n",
       "    <tr>\n",
       "      <th>178</th>\n",
       "      <td>pubrights@paho.org</td>\n",
       "      <td>LOC</td>\n",
       "    </tr>\n",
       "    <tr>\n",
       "      <th>179</th>\n",
       "      <td>departamento de familia</td>\n",
       "      <td>LOC</td>\n",
       "    </tr>\n",
       "    <tr>\n",
       "      <th>180</th>\n",
       "      <td>ningún tipo</td>\n",
       "      <td>PER</td>\n",
       "    </tr>\n",
       "    <tr>\n",
       "      <th>181</th>\n",
       "      <td>daño</td>\n",
       "      <td>PER</td>\n",
       "    </tr>\n",
       "    <tr>\n",
       "      <th>182</th>\n",
       "      <td>utilización.who/rhr/12.38</td>\n",
       "      <td>MISC</td>\n",
       "    </tr>\n",
       "  </tbody>\n",
       "</table>\n",
       "<p>183 rows × 2 columns</p>\n",
       "</div>"
      ],
      "text/plain": [
       "                       Entidad tipo de entidad\n",
       "0                   recuadro 1            MISC\n",
       "1                   recuadro 1            MISC\n",
       "2              la bibliografía             LOC\n",
       "3                          oms             ORG\n",
       "4                      londres             LOC\n",
       "..                         ...             ...\n",
       "178         pubrights@paho.org             LOC\n",
       "179    departamento de familia             LOC\n",
       "180                ningún tipo             PER\n",
       "181                       daño             PER\n",
       "182  utilización.who/rhr/12.38            MISC\n",
       "\n",
       "[183 rows x 2 columns]"
      ]
     },
     "execution_count": 58,
     "metadata": {},
     "output_type": "execute_result"
    }
   ],
   "source": [
    "entidad_onu =[w [0] for w in entidades_onu]\n",
    "tipo_entidad_onu =[w [1] for w in entidades_onu]\n",
    "tabla_entidad_onu= pd.DataFrame({\"Entidad\": entidad_onu, \"tipo de entidad\":tipo_entidad_onu })\n",
    "tabla_entidad_onu"
   ]
  },
  {
   "cell_type": "code",
   "execution_count": 59,
   "metadata": {},
   "outputs": [],
   "source": [
    "#dado que hay muchas entidades se reviza la frecuencia\n",
    "contar_entidades_onu= Counter(entidades_onu)"
   ]
  },
  {
   "cell_type": "code",
   "execution_count": 60,
   "metadata": {},
   "outputs": [
    {
     "data": {
      "text/plain": [
       "Counter({('“', 'MISC'): 16,\n",
       "         ('oms', 'ORG'): 7,\n",
       "         ('los estados unidos', 'LOC'): 6,\n",
       "         ('washington', 'LOC'): 3,\n",
       "         ('recuadro 1', 'MISC'): 2,\n",
       "         ('“', 'LOC'): 2,\n",
       "         ('año', 'MISC'): 2,\n",
       "         ('la india', 'LOC'): 2,\n",
       "         ('asia', 'LOC'): 2,\n",
       "         ('guatemala', 'LOC'): 2,\n",
       "         ('también', 'PER'): 2,\n",
       "         ('san josé', 'PER'): 2,\n",
       "         ('costa rica', 'LOC'): 2,\n",
       "         ('new york', 'LOC'): 2,\n",
       "         ('campbell jc', 'PER'): 2,\n",
       "         ('human rights watch', 'ORG'): 2,\n",
       "         ('dc', 'LOC'): 2,\n",
       "         ('la bibliografía', 'LOC'): 1,\n",
       "         ('londres', 'LOC'): 1,\n",
       "         ('8)', 'PER'): 1,\n",
       "         ('los estados unidos de américa', 'LOC'): 1,\n",
       "         ('“intimate', 'MISC'): 1,\n",
       "         ('el reino unido destacó además', 'LOC'): 1,\n",
       "         ('asia meridional', 'LOC'): 1,\n",
       "         ('australia', 'LOC'): 1,\n",
       "         ('europa', 'LOC'): 1,\n",
       "         ('3cometidos', 'MISC'): 1,\n",
       "         ('reino unido', 'LOC'): 1,\n",
       "         ('suecia', 'LOC'): 1,\n",
       "         ('oficina nacional de registro', 'ORG'): 1,\n",
       "         ('también', 'LOC'): 1,\n",
       "         ('estados unidos', 'LOC'): 1,\n",
       "         ('mozambique descubrió', 'LOC'): 1,\n",
       "         ('maharashtra', 'LOC'): 1,\n",
       "         ('india', 'LOC'): 1,\n",
       "         ('6además', 'PER'): 1,\n",
       "         ('jacquelyn campbeld', 'PER'): 1,\n",
       "         ('scale.7su pareja', 'PER'): 1,\n",
       "         ('8referencias 1', 'MISC'): 1,\n",
       "         ('asdi', 'ORG'): 1,\n",
       "         ('sagot m. strengthening and organization of women and coordinated action between',\n",
       "          'MISC'): 1,\n",
       "         ('the state and civil society at the local level to prevent and address family',\n",
       "          'ORG'): 1,\n",
       "         ('– research protocol', 'ORG'): 1,\n",
       "         ('pan american health organization', 'ORG'): 1,\n",
       "         ('and implications of research and policy', 'MISC'): 1,\n",
       "         ('8(3):246–69', 'MISC'): 1,\n",
       "         ('seattle', 'LOC'): 1,\n",
       "         ('program for appropriate technology in health', 'MISC'): 1,\n",
       "         ('gadit am.', 'ORG'): 1,\n",
       "         ('form of honour killing in pakistan', 'MISC'): 1,\n",
       "         ('the epidemiological patterns of honour killing of women in pakistan',\n",
       "          'MISC'): 1,\n",
       "         ('european journal of public health', 'ORG'): 1,\n",
       "         ('the global prevalence of intimate', 'MISC'): 1,\n",
       "         ('systematic review', 'PER'): 1,\n",
       "         ('forthcoming', 'ORG'): 1,\n",
       "         ('aldine de gruyter', 'PER'): 1,\n",
       "         ('after marital separation', 'ORG'): 1,\n",
       "         ('ottawa', 'LOC'): 1,\n",
       "         ('canadian centre for justice statistics', 'ORG'): 1,\n",
       "         ('risk factors for femicide in', 'ORG'): 1,\n",
       "         ('american journal of public health', 'ORG'): 1,\n",
       "         ('‘', 'ORG'): 1,\n",
       "         ('journal of family violence', 'ORG'): 1,\n",
       "         ('dobash', 'MISC'): 1,\n",
       "         ('dobash re', 'MISC'): 1,\n",
       "         ('the murder of collaterals related to intimate', 'MISC'): 1,\n",
       "         ('violence against women', 'ORG'): 1,\n",
       "         ('khafagy f. honour killing in egypt', 'MISC'): 1,\n",
       "         ('the advancement of women', 'MISC'): 1,\n",
       "         ('the case of jordan', 'MISC'): 1,\n",
       "         ('world quarterly', 'ORG'): 1,\n",
       "         ('‘honour killings', 'MISC'): 1,\n",
       "         ('’', 'MISC'): 1,\n",
       "         ('naciones unidas', 'ORG'): 1,\n",
       "         ('asamblea general de las naciones unidas', 'ORG'): 1,\n",
       "         ('reddy r. gender', 'PER'): 1,\n",
       "         ('culture and the law', 'MISC'): 1,\n",
       "         ('’ in the uk', 'MISC'): 1,\n",
       "         ('linell h. girls with honour-related', 'PER'): 1,\n",
       "         ('international journal of social welfare', 'ORG'): 1,\n",
       "         ('for women’s health from the global', 'MISC'): 1,\n",
       "         ('international journal of gynecology & obstetrics', 'ORG'): 1,\n",
       "         ('sanghavi', 'MISC'): 1,\n",
       "         ('in india in 2001', 'MISC'): 1,\n",
       "         ('against women and girls', 'ORG'): 1,\n",
       "         ('report-2011#section-91-8', 'MISC'): 1,\n",
       "         ('women’s health network', 'MISC'): 1,\n",
       "         ('extreme gender violence', 'PER'): 1,\n",
       "         ('latin american and caribbean women’s health network', 'MISC'): 1,\n",
       "         ('women’s health journal 2009', 'MISC'): 1,\n",
       "         ('guatemala .', 'LOC'): 1,\n",
       "         ('ny', 'LOC'): 1,\n",
       "         ('femicide in guatemala counts! richmond', 'LOC'): 1,\n",
       "         ('herbert b. why', 'PER'): 1,\n",
       "         ('new york times', 'ORG'): 1,\n",
       "         ('plichta sb', 'PER'): 1,\n",
       "         ('interactions between victims of intimate', 'MISC'): 1,\n",
       "         ('against women and the health', 'ORG'): 1,\n",
       "         ('and practice implications', 'MISC'): 1,\n",
       "         ('trauma', 'PER'): 1,\n",
       "         ('campbell j. assessing', 'PER'): 1,\n",
       "         ('history', 'LOC'): 1,\n",
       "         ('langley', 'PER'): 1,\n",
       "         ('offender incidents', 'MISC'): 1,\n",
       "         ('violence policy center', 'LOC'): 1,\n",
       "         ('abrahams n', 'ORG'): 1,\n",
       "         ('martin l. perpetration of', 'PER'): 1,\n",
       "         ('against intimate partners', 'ORG'): 1,\n",
       "         ('implications from global', 'MISC'): 1,\n",
       "         ('canadian medical association journal', 'ORG'): 1,\n",
       "         ('martin', 'PER'): 1,\n",
       "         ('pregnancy-associated violent deaths', 'PER'): 1,\n",
       "         ('the role of intimate', 'MISC'): 1,\n",
       "         ('help an', 'PER'): 1,\n",
       "         ('woman lower her risk of death?', 'MISC'): 1,\n",
       "         ('national institute of justice journal', 'ORG'): 1,\n",
       "         ('gender progress and government expenditure', 'ORG'): 1,\n",
       "         ('annals of epidemiology', 'MISC'): 1,\n",
       "         ('webster dw.', 'ORG'): 1,\n",
       "         ('us cities', 'MISC'): 1,\n",
       "         ('http:/', 'MISC'): 1,\n",
       "         ('reproductivehealth/publications/violence/', 'ORG'): 1,\n",
       "         ('against women', 'PER'): 1,\n",
       "         ('publications/2010/9789241500630_eng.pdf', 'MISC'): 1,\n",
       "         ('who.int/gender/violence/who_multicountry_study/summary_report/summaryreportspanishlow.pdf',\n",
       "          'MISC'): 1,\n",
       "         ('wendy knerr', 'PER'): 1,\n",
       "         ('ops', 'ORG'): 1,\n",
       "         ('margarita quintanilla', 'PER'): 1,\n",
       "         ('heidi', 'MISC'): 1,\n",
       "         ('sarah ramsay', 'PER'): 1,\n",
       "         ('ops', 'MISC'): 1,\n",
       "         ('who/rhr/12.35 1', 'ORG'): 1,\n",
       "         ('organización mundial de la salud', 'MISC'): 1,\n",
       "         ('wa309', 'MISC'): 1,\n",
       "         ('gestión', 'LOC'): 1,\n",
       "         ('d.c.', 'LOC'): 1,\n",
       "         ('ee.', 'LOC'): 1,\n",
       "         ('pubrights@paho.org', 'LOC'): 1,\n",
       "         ('departamento de familia', 'LOC'): 1,\n",
       "         ('ningún tipo', 'PER'): 1,\n",
       "         ('daño', 'PER'): 1,\n",
       "         ('utilización.who/rhr/12.38', 'MISC'): 1})"
      ]
     },
     "execution_count": 60,
     "metadata": {},
     "output_type": "execute_result"
    }
   ],
   "source": [
    "contar_entidades_onu"
   ]
  },
  {
   "cell_type": "markdown",
   "metadata": {},
   "source": [
    "## conclución del informe onu\n",
    "\n",
    "Aunque con errores de ortografía, la palabra más mencionada en el texto es el feminicidio, haciendo referencia a la temática del texto en concreto, refiriendose a este como _*El feminicidio se refiere al asesinato de una mujer por el hecho de serlo, el final de un continuum de violencia y la manifestación más brutal de una sociedad patriarcal.*_ ; las palabras que proceden al feminicidio son de mujeres y pareja, mujer aparece seguido porqué es el asesinato de una mujer(por el hecho de serlo) y pareja por lo que es el más posible agresor. Más adelante en el bigrama, se observa que la tupla más frecuente es la de (infligida, paraje), en el texto se menciona que la violencia es muchas veces ocasionada por la pareja; la siguiente tupla más mencionada es la (violencia, infligida), el texto esta relacionada con la anterior tupla; la siguiente, es la de (armas, fuego), en el texto se menciona que la tenencia de armas de fuego aumenta el riesgo de feminicidio. En el trigrama que se encuentra a posterior, encontramos que el conjunto de tres palabras más mencionado es el de (violencia, infligida ,pareja), como se mencionó anteriormente, son palabras muy relacionadas en el texto; el siguiente trio de palabras hace referencia a la organización panamericana de la salud, que fue una de las organizaciones responsables del texto; entre el trio de palabras más curiosos esta (asesinato, nombre ,honor) , en el texto se menciona que el asesinato por honor, tiene escasa información en la mayoría de países, además que tiene escasa legislación, se requiere capacitación y sensibilización al respecto por parte de los organismos judiciales debido a que la mujer puede estar en riesgo por familiares. En el análisis de sentimientos, se observa que la mayor parte del texto tiende a ser neutro, aunque hay una pequeña hay una pequeña curvatura en emociones negativas, esta no es tan pronunciada, posiblemente es de debido a que se trate de un informe, y trata de mantener la mayor neutralidad posible. Las entidades más mencionas son: la OMS (organización mundial de la salud), mucha de la información del informe se basa en datos otorgados por esta organización; los estados unidos, muchos de los casos mencionados en el texto hacen referencia a este país (tasas de feminicidio, crimen de honor, asesinato de arma de fuego)."
   ]
  },
  {
   "cell_type": "markdown",
   "metadata": {},
   "source": [
    "## \"Ley 1764 del 2015\""
   ]
  },
  {
   "cell_type": "markdown",
   "metadata": {},
   "source": [
    "### Tokemización del texto"
   ]
  },
  {
   "cell_type": "code",
   "execution_count": 61,
   "metadata": {},
   "outputs": [
    {
     "name": "stderr",
     "output_type": "stream",
     "text": [
      "[nltk_data] Downloading package stopwords to\n",
      "[nltk_data]     C:\\Users\\USUARIO\\AppData\\Roaming\\nltk_data...\n",
      "[nltk_data]   Package stopwords is already up-to-date!\n"
     ]
    }
   ],
   "source": [
    "Ley_1764_token =tokenizar(Ley_1764)\n",
    "# print(Ley_1764_token)"
   ]
  },
  {
   "cell_type": "code",
   "execution_count": 62,
   "metadata": {},
   "outputs": [],
   "source": [
    "Ley_1764_frases =frases(Ley_1764)\n"
   ]
  },
  {
   "cell_type": "markdown",
   "metadata": {},
   "source": [
    "### Palabras comunes"
   ]
  },
  {
   "cell_type": "code",
   "execution_count": 63,
   "metadata": {},
   "outputs": [],
   "source": [
    "## palabras comunes\n",
    "contar_palabras= Counter (Ley_1764_token)\n",
    "palabras_comunes= contar_palabras.most_common (25)\n",
    "## Visulización\n",
    "palabras_ley = [w [0] for w in palabras_comunes]\n",
    "frecuencia_ley = [w [1] for w in palabras_comunes]\n",
    "frecuencia_ley, palabras_ley = zip (*sorted (zip (frecuencia_ley, palabras_ley)))"
   ]
  },
  {
   "cell_type": "code",
   "execution_count": 88,
   "metadata": {},
   "outputs": [
    {
     "data": {
      "image/png": "[encoded data removed]",
      "text/plain": [
       "<Figure size 640x480 with 1 Axes>"
      ]
     },
     "metadata": {},
     "output_type": "display_data"
    },
    {
     "data": {
      "text/plain": [
       "<Figure size 640x480 with 0 Axes>"
      ]
     },
     "metadata": {},
     "output_type": "display_data"
    }
   ],
   "source": [
    "#Visualización de datos en NLP\n",
    "plt.barh (palabras_ley, frecuencia_ley, color = \"darkseagreen\",edgecolor = \"olive\", linewidth = 1)\n",
    "plt.title('Grafica de la frecuencia aparición de las palabras en el texto')  \n",
    "plt.show ()\n"
   ]
  },
  {
   "cell_type": "code",
   "execution_count": 89,
   "metadata": {},
   "outputs": [
    {
     "data": {
      "text/plain": [
       "<Figure size 640x480 with 0 Axes>"
      ]
     },
     "metadata": {},
     "output_type": "display_data"
    }
   ],
   "source": []
  },
  {
   "cell_type": "code",
   "execution_count": 65,
   "metadata": {},
   "outputs": [
    {
     "data": {
      "image/png": "[encoded data removed]",
      "text/plain": [
       "<Figure size 640x480 with 1 Axes>"
      ]
     },
     "metadata": {},
     "output_type": "display_data"
    }
   ],
   "source": [
    "x, y = np.ogrid[:300, :300]\n",
    "mask = (x - 150) ** 2 + (y - 150) ** 2 > 130 ** 2\n",
    "mask = 255 * mask.astype(int)\n",
    "\n",
    "wc = WordCloud(background_color = \"white\", repeat = True, mask = mask)\n",
    "wc.generate(str(palabras_ley))\n",
    "\n",
    "plt.axis(\"off\")\n",
    "plt.imshow(wc, interpolation = \"bilinear\")\n",
    "plt.show ()"
   ]
  },
  {
   "cell_type": "markdown",
   "metadata": {},
   "source": [
    "### Bigramas y trigramas"
   ]
  },
  {
   "cell_type": "code",
   "execution_count": 66,
   "metadata": {},
   "outputs": [],
   "source": [
    "bigrama = list (ngrams (Ley_1764_token, 2))\n",
    "trigrama = list (ngrams (Ley_1764_token, 3))"
   ]
  },
  {
   "cell_type": "code",
   "execution_count": 67,
   "metadata": {},
   "outputs": [],
   "source": [
    "# bigrama [5:15]"
   ]
  },
  {
   "cell_type": "code",
   "execution_count": 68,
   "metadata": {},
   "outputs": [],
   "source": [
    "# trigrama[5:15]"
   ]
  },
  {
   "cell_type": "code",
   "execution_count": 69,
   "metadata": {},
   "outputs": [
    {
     "data": {
      "text/html": [
       "<div>\n",
       "<style scoped>\n",
       "    .dataframe tbody tr th:only-of-type {\n",
       "        vertical-align: middle;\n",
       "    }\n",
       "\n",
       "    .dataframe tbody tr th {\n",
       "        vertical-align: top;\n",
       "    }\n",
       "\n",
       "    .dataframe thead th {\n",
       "        text-align: right;\n",
       "    }\n",
       "</style>\n",
       "<table border=\"1\" class=\"dataframe\">\n",
       "  <thead>\n",
       "    <tr style=\"text-align: right;\">\n",
       "      <th></th>\n",
       "      <th>palabras_relacionadas</th>\n",
       "      <th>frecuencia</th>\n",
       "    </tr>\n",
       "  </thead>\n",
       "  <tbody>\n",
       "    <tr>\n",
       "      <th>0</th>\n",
       "      <td>(delito, autónomo)</td>\n",
       "      <td>3</td>\n",
       "    </tr>\n",
       "    <tr>\n",
       "      <th>1</th>\n",
       "      <td>(feminicidio, delito)</td>\n",
       "      <td>3</td>\n",
       "    </tr>\n",
       "    <tr>\n",
       "      <th>2</th>\n",
       "      <td>(tipo, penal)</td>\n",
       "      <td>3</td>\n",
       "    </tr>\n",
       "    <tr>\n",
       "      <th>3</th>\n",
       "      <td>(violencias, mujeres)</td>\n",
       "      <td>3</td>\n",
       "    </tr>\n",
       "    <tr>\n",
       "      <th>4</th>\n",
       "      <td>(599, 2000)</td>\n",
       "      <td>4</td>\n",
       "    </tr>\n",
       "    <tr>\n",
       "      <th>5</th>\n",
       "      <td>(asistencia, técnico)</td>\n",
       "      <td>4</td>\n",
       "    </tr>\n",
       "    <tr>\n",
       "      <th>6</th>\n",
       "      <td>(educación, nacional)</td>\n",
       "      <td>4</td>\n",
       "    </tr>\n",
       "    <tr>\n",
       "      <th>7</th>\n",
       "      <td>(ley, 599)</td>\n",
       "      <td>4</td>\n",
       "    </tr>\n",
       "    <tr>\n",
       "      <th>8</th>\n",
       "      <td>(mujeres, víctimas)</td>\n",
       "      <td>4</td>\n",
       "    </tr>\n",
       "    <tr>\n",
       "      <th>9</th>\n",
       "      <td>(técnico, legal)</td>\n",
       "      <td>4</td>\n",
       "    </tr>\n",
       "    <tr>\n",
       "      <th>10</th>\n",
       "      <td>(violencia, género)</td>\n",
       "      <td>4</td>\n",
       "    </tr>\n",
       "    <tr>\n",
       "      <th>11</th>\n",
       "      <td>(partir, promulgación)</td>\n",
       "      <td>5</td>\n",
       "    </tr>\n",
       "    <tr>\n",
       "      <th>12</th>\n",
       "      <td>(promulgación, presente)</td>\n",
       "      <td>5</td>\n",
       "    </tr>\n",
       "    <tr>\n",
       "      <th>13</th>\n",
       "      <td>(delito, feminicidio)</td>\n",
       "      <td>7</td>\n",
       "    </tr>\n",
       "    <tr>\n",
       "      <th>14</th>\n",
       "      <td>(presente, ley)</td>\n",
       "      <td>7</td>\n",
       "    </tr>\n",
       "  </tbody>\n",
       "</table>\n",
       "</div>"
      ],
      "text/plain": [
       "       palabras_relacionadas  frecuencia\n",
       "0         (delito, autónomo)           3\n",
       "1      (feminicidio, delito)           3\n",
       "2              (tipo, penal)           3\n",
       "3      (violencias, mujeres)           3\n",
       "4                (599, 2000)           4\n",
       "5      (asistencia, técnico)           4\n",
       "6      (educación, nacional)           4\n",
       "7                 (ley, 599)           4\n",
       "8        (mujeres, víctimas)           4\n",
       "9           (técnico, legal)           4\n",
       "10       (violencia, género)           4\n",
       "11    (partir, promulgación)           5\n",
       "12  (promulgación, presente)           5\n",
       "13     (delito, feminicidio)           7\n",
       "14           (presente, ley)           7"
      ]
     },
     "execution_count": 69,
     "metadata": {},
     "output_type": "execute_result"
    }
   ],
   "source": [
    "#creación del bigrama\n",
    "bigrama_freq = FreqDist (bigrama)\n",
    "bigramas_comunes= bigrama_freq.most_common(15)\n",
    "palabras_bi = [w [0][0:2] for w in bigramas_comunes]\n",
    "frecuencia_bi = [w [1] for w in bigramas_comunes]\n",
    "frecuencia_bi, palabras_bi = zip (*sorted (zip (frecuencia_bi, palabras_bi)))\n",
    "#creación de la tabla\n",
    "tabla_bigrama= pd.DataFrame({\"palabras_relacionadas\": palabras_bi, \"frecuencia\": frecuencia_bi})\n",
    "tabla_bigrama"
   ]
  },
  {
   "cell_type": "code",
   "execution_count": 70,
   "metadata": {},
   "outputs": [
    {
     "data": {
      "image/png": "[encoded data removed]",
      "text/plain": [
       "<Figure size 640x480 with 1 Axes>"
      ]
     },
     "metadata": {},
     "output_type": "display_data"
    }
   ],
   "source": [
    "# vizualización\n",
    "sns.barplot(y = tabla_bigrama[\"palabras_relacionadas\"], x = tabla_bigrama[\"frecuencia\"],\n",
    "            palette = \"Blues_d\")\n",
    "plt.title('Grafica de bigramas')  \n",
    "plt.show ()"
   ]
  },
  {
   "cell_type": "code",
   "execution_count": 71,
   "metadata": {},
   "outputs": [],
   "source": [
    "#se crea el trigrama\n",
    "trigrama_freg = FreqDist (trigrama)\n",
    "trigramas_comunes =trigrama_freg.most_common(10)\n",
    "palabras_tri = [w [0] for w in trigramas_comunes]\n",
    "frecuencia_tri = [w [1] for w in trigramas_comunes]\n",
    "frecuencia_tri, palabras_tri = zip (*sorted (zip (frecuencia_tri, palabras_tri)))"
   ]
  },
  {
   "cell_type": "code",
   "execution_count": 72,
   "metadata": {},
   "outputs": [
    {
     "data": {
      "text/html": [
       "<div>\n",
       "<style scoped>\n",
       "    .dataframe tbody tr th:only-of-type {\n",
       "        vertical-align: middle;\n",
       "    }\n",
       "\n",
       "    .dataframe tbody tr th {\n",
       "        vertical-align: top;\n",
       "    }\n",
       "\n",
       "    .dataframe thead th {\n",
       "        text-align: right;\n",
       "    }\n",
       "</style>\n",
       "<table border=\"1\" class=\"dataframe\">\n",
       "  <thead>\n",
       "    <tr style=\"text-align: right;\">\n",
       "      <th></th>\n",
       "      <th>palabras_relacionadas</th>\n",
       "      <th>frecuencia</th>\n",
       "    </tr>\n",
       "  </thead>\n",
       "  <tbody>\n",
       "    <tr>\n",
       "      <th>0</th>\n",
       "      <td>(feminicidio, delito, autónomo)</td>\n",
       "      <td>3</td>\n",
       "    </tr>\n",
       "    <tr>\n",
       "      <th>1</th>\n",
       "      <td>(género, derechos, humanos)</td>\n",
       "      <td>3</td>\n",
       "    </tr>\n",
       "    <tr>\n",
       "      <th>2</th>\n",
       "      <td>(ministerio, educación, nacional)</td>\n",
       "      <td>3</td>\n",
       "    </tr>\n",
       "    <tr>\n",
       "      <th>3</th>\n",
       "      <td>(mujeres, víctimas, violencias)</td>\n",
       "      <td>3</td>\n",
       "    </tr>\n",
       "    <tr>\n",
       "      <th>4</th>\n",
       "      <td>(preescolar, básica, media)</td>\n",
       "      <td>3</td>\n",
       "    </tr>\n",
       "    <tr>\n",
       "      <th>5</th>\n",
       "      <td>(víctimas, violencias, género)</td>\n",
       "      <td>3</td>\n",
       "    </tr>\n",
       "    <tr>\n",
       "      <th>6</th>\n",
       "      <td>(asistencia, técnico, legal)</td>\n",
       "      <td>4</td>\n",
       "    </tr>\n",
       "    <tr>\n",
       "      <th>7</th>\n",
       "      <td>(ley, 599, 2000)</td>\n",
       "      <td>4</td>\n",
       "    </tr>\n",
       "    <tr>\n",
       "      <th>8</th>\n",
       "      <td>(partir, promulgación, presente)</td>\n",
       "      <td>4</td>\n",
       "    </tr>\n",
       "    <tr>\n",
       "      <th>9</th>\n",
       "      <td>(promulgación, presente, ley)</td>\n",
       "      <td>5</td>\n",
       "    </tr>\n",
       "  </tbody>\n",
       "</table>\n",
       "</div>"
      ],
      "text/plain": [
       "               palabras_relacionadas  frecuencia\n",
       "0    (feminicidio, delito, autónomo)           3\n",
       "1        (género, derechos, humanos)           3\n",
       "2  (ministerio, educación, nacional)           3\n",
       "3    (mujeres, víctimas, violencias)           3\n",
       "4        (preescolar, básica, media)           3\n",
       "5     (víctimas, violencias, género)           3\n",
       "6       (asistencia, técnico, legal)           4\n",
       "7                   (ley, 599, 2000)           4\n",
       "8   (partir, promulgación, presente)           4\n",
       "9      (promulgación, presente, ley)           5"
      ]
     },
     "execution_count": 72,
     "metadata": {},
     "output_type": "execute_result"
    }
   ],
   "source": [
    "tabla_trigrama= pd.DataFrame({\"palabras_relacionadas\": palabras_tri, \"frecuencia\": frecuencia_tri})\n",
    "tabla_trigrama"
   ]
  },
  {
   "cell_type": "code",
   "execution_count": 73,
   "metadata": {},
   "outputs": [
    {
     "data": {
      "image/png": "[encoded data removed]",
      "text/plain": [
       "<Figure size 640x480 with 1 Axes>"
      ]
     },
     "metadata": {},
     "output_type": "display_data"
    }
   ],
   "source": [
    "sns.barplot(y = tabla_trigrama[\"palabras_relacionadas\"], x = tabla_trigrama[\"frecuencia\"])\n",
    "sns.color_palette(\"tab10\")\n",
    "plt.title('Grafica de trigramas')  \n",
    "plt.show ()"
   ]
  },
  {
   "cell_type": "markdown",
   "metadata": {},
   "source": [
    "### Analisis de sentimientos"
   ]
  },
  {
   "cell_type": "code",
   "execution_count": 74,
   "metadata": {},
   "outputs": [
    {
     "name": "stdout",
     "output_type": "stream",
     "text": [
      "Puntaje de sentimiento: {'neg': 0.003, 'neu': 0.986, 'pos': 0.01, 'compound': 0.4215}\n"
     ]
    }
   ],
   "source": [
    "score = analisis_sentimiento(Ley_1764_token)\n",
    "print(\"Puntaje de sentimiento:\", score)"
   ]
  },
  {
   "cell_type": "code",
   "execution_count": 75,
   "metadata": {},
   "outputs": [
    {
     "data": {
      "text/html": [
       "<div>\n",
       "<style scoped>\n",
       "    .dataframe tbody tr th:only-of-type {\n",
       "        vertical-align: middle;\n",
       "    }\n",
       "\n",
       "    .dataframe tbody tr th {\n",
       "        vertical-align: top;\n",
       "    }\n",
       "\n",
       "    .dataframe thead th {\n",
       "        text-align: right;\n",
       "    }\n",
       "</style>\n",
       "<table border=\"1\" class=\"dataframe\">\n",
       "  <thead>\n",
       "    <tr style=\"text-align: right;\">\n",
       "      <th></th>\n",
       "      <th>Frases</th>\n",
       "      <th>Polaridad del Sentimiento</th>\n",
       "    </tr>\n",
       "  </thead>\n",
       "  <tbody>\n",
       "    <tr>\n",
       "      <th>0</th>\n",
       "      <td>l ·;m=y;r'·'r=rrn=m=rmt\" -t~~d: 1761 6jul2015 ...</td>\n",
       "      <td>0.000</td>\n",
       "    </tr>\n",
       "    <tr>\n",
       "      <th>1</th>\n",
       "      <td>objeto de la ley.</td>\n",
       "      <td>0.000</td>\n",
       "    </tr>\n",
       "    <tr>\n",
       "      <th>2</th>\n",
       "      <td>la presente ley tiene por objeto tipificar el ...</td>\n",
       "      <td>-0.296</td>\n",
       "    </tr>\n",
       "    <tr>\n",
       "      <th>3</th>\n",
       "      <td>[1 ~ artículo 2°.</td>\n",
       "      <td>0.000</td>\n",
       "    </tr>\n",
       "    <tr>\n",
       "      <th>4</th>\n",
       "      <td>la ley 599 de 2000 tendrá un artículo 104a del...</td>\n",
       "      <td>0.000</td>\n",
       "    </tr>\n",
       "    <tr>\n",
       "      <th>...</th>\n",
       "      <td>...</td>\n",
       "      <td>...</td>\n",
       "    </tr>\n",
       "    <tr>\n",
       "      <th>57</th>\n",
       "      <td>artículo 12. adopción de un sistema nacional d...</td>\n",
       "      <td>0.000</td>\n",
       "    </tr>\n",
       "    <tr>\n",
       "      <th>58</th>\n",
       "      <td>dentro del año siguiente a la promulgación de ...</td>\n",
       "      <td>0.128</td>\n",
       "    </tr>\n",
       "    <tr>\n",
       "      <th>59</th>\n",
       "      <td>artículo 13. vigencia.</td>\n",
       "      <td>0.000</td>\n",
       "    </tr>\n",
       "    <tr>\n",
       "      <th>60</th>\n",
       "      <td>la presente ley rige a partir de su promulgaci...</td>\n",
       "      <td>0.000</td>\n",
       "    </tr>\n",
       "    <tr>\n",
       "      <th>61</th>\n",
       "      <td>/ el p1side e del h. sqnad de lj\\ republlca ( ...</td>\n",
       "      <td>0.000</td>\n",
       "    </tr>\n",
       "  </tbody>\n",
       "</table>\n",
       "<p>62 rows × 2 columns</p>\n",
       "</div>"
      ],
      "text/plain": [
       "                                               Frases  \\\n",
       "0   l ·;m=y;r'·'r=rrn=m=rmt\" -t~~d: 1761 6jul2015 ...   \n",
       "1                                   objeto de la ley.   \n",
       "2   la presente ley tiene por objeto tipificar el ...   \n",
       "3                                   [1 ~ artículo 2°.   \n",
       "4   la ley 599 de 2000 tendrá un artículo 104a del...   \n",
       "..                                                ...   \n",
       "57  artículo 12. adopción de un sistema nacional d...   \n",
       "58  dentro del año siguiente a la promulgación de ...   \n",
       "59                             artículo 13. vigencia.   \n",
       "60  la presente ley rige a partir de su promulgaci...   \n",
       "61  / el p1side e del h. sqnad de lj\\ republlca ( ...   \n",
       "\n",
       "    Polaridad del Sentimiento  \n",
       "0                       0.000  \n",
       "1                       0.000  \n",
       "2                      -0.296  \n",
       "3                       0.000  \n",
       "4                       0.000  \n",
       "..                        ...  \n",
       "57                      0.000  \n",
       "58                      0.128  \n",
       "59                      0.000  \n",
       "60                      0.000  \n",
       "61                      0.000  \n",
       "\n",
       "[62 rows x 2 columns]"
      ]
     },
     "execution_count": 75,
     "metadata": {},
     "output_type": "execute_result"
    }
   ],
   "source": [
    "tabla_score =anilisis_sentimiento_tabla(Ley_1764_frases)\n",
    "tabla_score"
   ]
  },
  {
   "cell_type": "code",
   "execution_count": 76,
   "metadata": {},
   "outputs": [
    {
     "data": {
      "image/png": "[encoded data removed]",
      "text/plain": [
       "<Figure size 640x480 with 1 Axes>"
      ]
     },
     "metadata": {},
     "output_type": "display_data"
    }
   ],
   "source": [
    "fig, ax = plt.subplots()\n",
    "ax.violinplot(tabla_score[\"Polaridad del Sentimiento\"])\n",
    "plt.title('Polaridad de los sentimientos ley') \n",
    "plt.show()"
   ]
  },
  {
   "cell_type": "code",
   "execution_count": 77,
   "metadata": {},
   "outputs": [
    {
     "data": {
      "text/html": [
       "<div>\n",
       "<style scoped>\n",
       "    .dataframe tbody tr th:only-of-type {\n",
       "        vertical-align: middle;\n",
       "    }\n",
       "\n",
       "    .dataframe tbody tr th {\n",
       "        vertical-align: top;\n",
       "    }\n",
       "\n",
       "    .dataframe thead th {\n",
       "        text-align: right;\n",
       "    }\n",
       "</style>\n",
       "<table border=\"1\" class=\"dataframe\">\n",
       "  <thead>\n",
       "    <tr style=\"text-align: right;\">\n",
       "      <th></th>\n",
       "      <th>Polaridad del Sentimiento</th>\n",
       "    </tr>\n",
       "  </thead>\n",
       "  <tbody>\n",
       "    <tr>\n",
       "      <th>count</th>\n",
       "      <td>62.000000</td>\n",
       "    </tr>\n",
       "    <tr>\n",
       "      <th>mean</th>\n",
       "      <td>-0.042513</td>\n",
       "    </tr>\n",
       "    <tr>\n",
       "      <th>std</th>\n",
       "      <td>0.157645</td>\n",
       "    </tr>\n",
       "    <tr>\n",
       "      <th>min</th>\n",
       "      <td>-0.557400</td>\n",
       "    </tr>\n",
       "    <tr>\n",
       "      <th>25%</th>\n",
       "      <td>0.000000</td>\n",
       "    </tr>\n",
       "    <tr>\n",
       "      <th>50%</th>\n",
       "      <td>0.000000</td>\n",
       "    </tr>\n",
       "    <tr>\n",
       "      <th>75%</th>\n",
       "      <td>0.000000</td>\n",
       "    </tr>\n",
       "    <tr>\n",
       "      <th>max</th>\n",
       "      <td>0.296000</td>\n",
       "    </tr>\n",
       "  </tbody>\n",
       "</table>\n",
       "</div>"
      ],
      "text/plain": [
       "       Polaridad del Sentimiento\n",
       "count                  62.000000\n",
       "mean                   -0.042513\n",
       "std                     0.157645\n",
       "min                    -0.557400\n",
       "25%                     0.000000\n",
       "50%                     0.000000\n",
       "75%                     0.000000\n",
       "max                     0.296000"
      ]
     },
     "execution_count": 77,
     "metadata": {},
     "output_type": "execute_result"
    }
   ],
   "source": [
    "tabla_score.describe()"
   ]
  },
  {
   "cell_type": "markdown",
   "metadata": {},
   "source": [
    "### Entidades"
   ]
  },
  {
   "cell_type": "code",
   "execution_count": 78,
   "metadata": {},
   "outputs": [
    {
     "name": "stdout",
     "output_type": "stream",
     "text": [
      "Entidades identificadas: [('rosa elvira cely', 'PER'), ('congreso de colombia', 'LOC'), ('t:::a::::~:::~:nl~:::::::::~:~:::ti:~~:::e~~~lencias', 'MISC'), ('sanción', 'LOC'), ('perpetración', 'LOC'), ('judicialización', 'LOC'), ('sanción', 'LOC'), ('pod¡á', 'MISC'), ('año', 'MISC'), ('de colombia', 'LOC'), ('investigación', 'PER'), ('judicialización', 'LOC'), ('sanción', 'LOC'), ('reparación', 'LOC'), ('año', 'MISC'), ('dane', 'LOC'), ('v~', 'LOC'), ('gregori~~', 'PER'), ('fabio raul amin', 'PER'), ('rosa elvira', 'PER'), ('de colombia', 'LOC'), ('d.c.', 'ORG'), ('~~/,/ yejic(rév(s', 'PER'), ('colrora1jz', 'PER')]\n"
     ]
    }
   ],
   "source": [
    "entidades = identificar_entidades(Ley_1764_frases)\n",
    "print(\"Entidades identificadas:\", entidades)"
   ]
  },
  {
   "cell_type": "code",
   "execution_count": 79,
   "metadata": {},
   "outputs": [
    {
     "name": "stdout",
     "output_type": "stream",
     "text": [
      "Counter({'LOC': 12, 'PER': 7, 'MISC': 4, 'ORG': 1})\n"
     ]
    }
   ],
   "source": [
    "counts = Counter( tag for word,  tag in entidades)\n",
    "print(counts)"
   ]
  },
  {
   "cell_type": "code",
   "execution_count": 80,
   "metadata": {},
   "outputs": [],
   "source": [
    "entidad_ley =[w [0] for w in entidades]\n",
    "tipo_entidad_ley =[w [1] for w in entidades]"
   ]
  },
  {
   "cell_type": "code",
   "execution_count": 81,
   "metadata": {},
   "outputs": [
    {
     "data": {
      "text/html": [
       "<div>\n",
       "<style scoped>\n",
       "    .dataframe tbody tr th:only-of-type {\n",
       "        vertical-align: middle;\n",
       "    }\n",
       "\n",
       "    .dataframe tbody tr th {\n",
       "        vertical-align: top;\n",
       "    }\n",
       "\n",
       "    .dataframe thead th {\n",
       "        text-align: right;\n",
       "    }\n",
       "</style>\n",
       "<table border=\"1\" class=\"dataframe\">\n",
       "  <thead>\n",
       "    <tr style=\"text-align: right;\">\n",
       "      <th></th>\n",
       "      <th>Entidad</th>\n",
       "      <th>tipo de entidad</th>\n",
       "    </tr>\n",
       "  </thead>\n",
       "  <tbody>\n",
       "    <tr>\n",
       "      <th>0</th>\n",
       "      <td>rosa elvira cely</td>\n",
       "      <td>PER</td>\n",
       "    </tr>\n",
       "    <tr>\n",
       "      <th>1</th>\n",
       "      <td>congreso de colombia</td>\n",
       "      <td>LOC</td>\n",
       "    </tr>\n",
       "    <tr>\n",
       "      <th>2</th>\n",
       "      <td>t:::a::::~:::~:nl~:::::::::~:~:::ti:~~:::e~~~l...</td>\n",
       "      <td>MISC</td>\n",
       "    </tr>\n",
       "    <tr>\n",
       "      <th>3</th>\n",
       "      <td>sanción</td>\n",
       "      <td>LOC</td>\n",
       "    </tr>\n",
       "    <tr>\n",
       "      <th>4</th>\n",
       "      <td>perpetración</td>\n",
       "      <td>LOC</td>\n",
       "    </tr>\n",
       "    <tr>\n",
       "      <th>5</th>\n",
       "      <td>judicialización</td>\n",
       "      <td>LOC</td>\n",
       "    </tr>\n",
       "    <tr>\n",
       "      <th>6</th>\n",
       "      <td>sanción</td>\n",
       "      <td>LOC</td>\n",
       "    </tr>\n",
       "    <tr>\n",
       "      <th>7</th>\n",
       "      <td>pod¡á</td>\n",
       "      <td>MISC</td>\n",
       "    </tr>\n",
       "    <tr>\n",
       "      <th>8</th>\n",
       "      <td>año</td>\n",
       "      <td>MISC</td>\n",
       "    </tr>\n",
       "    <tr>\n",
       "      <th>9</th>\n",
       "      <td>de colombia</td>\n",
       "      <td>LOC</td>\n",
       "    </tr>\n",
       "    <tr>\n",
       "      <th>10</th>\n",
       "      <td>investigación</td>\n",
       "      <td>PER</td>\n",
       "    </tr>\n",
       "    <tr>\n",
       "      <th>11</th>\n",
       "      <td>judicialización</td>\n",
       "      <td>LOC</td>\n",
       "    </tr>\n",
       "    <tr>\n",
       "      <th>12</th>\n",
       "      <td>sanción</td>\n",
       "      <td>LOC</td>\n",
       "    </tr>\n",
       "    <tr>\n",
       "      <th>13</th>\n",
       "      <td>reparación</td>\n",
       "      <td>LOC</td>\n",
       "    </tr>\n",
       "    <tr>\n",
       "      <th>14</th>\n",
       "      <td>año</td>\n",
       "      <td>MISC</td>\n",
       "    </tr>\n",
       "    <tr>\n",
       "      <th>15</th>\n",
       "      <td>dane</td>\n",
       "      <td>LOC</td>\n",
       "    </tr>\n",
       "    <tr>\n",
       "      <th>16</th>\n",
       "      <td>v~</td>\n",
       "      <td>LOC</td>\n",
       "    </tr>\n",
       "    <tr>\n",
       "      <th>17</th>\n",
       "      <td>gregori~~</td>\n",
       "      <td>PER</td>\n",
       "    </tr>\n",
       "    <tr>\n",
       "      <th>18</th>\n",
       "      <td>fabio raul amin</td>\n",
       "      <td>PER</td>\n",
       "    </tr>\n",
       "    <tr>\n",
       "      <th>19</th>\n",
       "      <td>rosa elvira</td>\n",
       "      <td>PER</td>\n",
       "    </tr>\n",
       "    <tr>\n",
       "      <th>20</th>\n",
       "      <td>de colombia</td>\n",
       "      <td>LOC</td>\n",
       "    </tr>\n",
       "    <tr>\n",
       "      <th>21</th>\n",
       "      <td>d.c.</td>\n",
       "      <td>ORG</td>\n",
       "    </tr>\n",
       "    <tr>\n",
       "      <th>22</th>\n",
       "      <td>~~/,/ yejic(rév(s</td>\n",
       "      <td>PER</td>\n",
       "    </tr>\n",
       "    <tr>\n",
       "      <th>23</th>\n",
       "      <td>colrora1jz</td>\n",
       "      <td>PER</td>\n",
       "    </tr>\n",
       "  </tbody>\n",
       "</table>\n",
       "</div>"
      ],
      "text/plain": [
       "                                              Entidad tipo de entidad\n",
       "0                                    rosa elvira cely             PER\n",
       "1                                congreso de colombia             LOC\n",
       "2   t:::a::::~:::~:nl~:::::::::~:~:::ti:~~:::e~~~l...            MISC\n",
       "3                                             sanción             LOC\n",
       "4                                        perpetración             LOC\n",
       "5                                     judicialización             LOC\n",
       "6                                             sanción             LOC\n",
       "7                                               pod¡á            MISC\n",
       "8                                                 año            MISC\n",
       "9                                         de colombia             LOC\n",
       "10                                      investigación             PER\n",
       "11                                    judicialización             LOC\n",
       "12                                            sanción             LOC\n",
       "13                                         reparación             LOC\n",
       "14                                                año            MISC\n",
       "15                                               dane             LOC\n",
       "16                                                 v~             LOC\n",
       "17                                          gregori~~             PER\n",
       "18                                    fabio raul amin             PER\n",
       "19                                        rosa elvira             PER\n",
       "20                                        de colombia             LOC\n",
       "21                                               d.c.             ORG\n",
       "22                                  ~~/,/ yejic(rév(s             PER\n",
       "23                                         colrora1jz             PER"
      ]
     },
     "execution_count": 81,
     "metadata": {},
     "output_type": "execute_result"
    }
   ],
   "source": [
    "tabla_entidad= pd.DataFrame({\"Entidad\": entidad_ley, \"tipo de entidad\":tipo_entidad_ley })\n",
    "tabla_entidad"
   ]
  },
  {
   "cell_type": "code",
   "execution_count": 82,
   "metadata": {},
   "outputs": [],
   "source": [
    "tabla_entidad.drop(index=2, inplace=True) \n",
    "tabla_entidad.drop(index=16, inplace=True) \n",
    "tabla_entidad.drop(index=22, inplace=True)\n",
    "tabla_entidad.drop(index=23, inplace=True) \n",
    "tabla_entidad.drop(index=19, inplace=True) \n",
    "\n",
    "tabla_entidad.reset_index(drop=True, inplace=True)"
   ]
  },
  {
   "cell_type": "code",
   "execution_count": 83,
   "metadata": {},
   "outputs": [
    {
     "name": "stdout",
     "output_type": "stream",
     "text": [
      "['mujeres', 'mujer', 'violencia']\n"
     ]
    }
   ],
   "source": [
    "# encontrar palabras comunes en las tres definiciones\n",
    "onu_set = set(palabras_onu)\n",
    "ley_set = set(palabras_ley)\n",
    "\n",
    "definition = list(ley_set.intersection(onu_set ))\n",
    "\n",
    "print(definition)\n"
   ]
  },
  {
   "cell_type": "markdown",
   "metadata": {},
   "source": [
    "## Conclusiones ley \n",
    "\n",
    "La palabra más mencionada en el texto es “artículo”, al tratarse de una ley esta compuesta por estos; la siguiente en la lista es la de género, en la ley se menciona mucho la violencia de género, así como la identidad, así como las sanciones por las agresiones cometidas por discriminaciones por genero; la siguiente, el feminicidio, lógico al tratarse de lo que consiste la la ley. En el bigrama, la frecuencia de las tuplas tiene una connotación con un lenguaje más técnico legal, en las que resalta (delito, feminicidio) al mencionar el feminicidio como un delito. En el trigrama, cobra un poco de más de sentido las tuplas del inciso anterior, el trio de palabras (promulgación, presente ley), se menciona en el texto a menudo, al mencionar lo mecanismo por lo que se utilizan para la promulgación de ley, como la educación de genero en la educación prescolar, básica, y media; la combinación (ley,599,2000), hace referencia a la ley 599 del año 2000, que aborda los delitos y acciones penales, entre otros aspectos legal penal. En el análisis de sentimiento encontramos una polaridad de sentimientos, en su mayoría neutra, al tratarse de una ley, tiende a tener un lenguaje más formal. En el análisis de la entidades, se encuentra “Rosa elvira Cely”, es la sentencia de su caso  en la que se basa la presente ley; otra entidad menciona es “congreso de Colombia” organismo de la rama legislativa, que se encarga de hacer la leyes en el país; otra entidad “DANE” como el organismo encargado de la promulgación de las estadistas en Colombia, según la ley, con coordinación del ministerio de justicia y el instinto de medicina legal, en la adopción de un sistema de recopilación de datos sobre los hechos relacionados con violencia de género.\n"
   ]
  },
  {
   "cell_type": "markdown",
   "metadata": {},
   "source": [
    "## Comparación de los textos:\n",
    "En ambos textos feminicidio, se encuentra entre las palabras más comunes, además que en ambos textos se puede encontrar las palabras, mujeres, mujer, violencia y victima; en el primere texto al tratarse de un informe, hace más referencia a casos y hechos puntuales que pueden llevar al feminicidio; mientras que la ley, hace referencia a sanciones y formas de promulgación de la ley.\n"
   ]
  },
  {
   "cell_type": "markdown",
   "metadata": {
    "jp-MarkdownHeadingCollapsed": true
   },
   "source": [
    "# ¿Cuáles son las tasas de feminicidios comparadas con otros paises de la region?"
   ]
  },
  {
   "cell_type": "markdown",
   "metadata": {},
   "source": [
    "Los Primeros datos de feminicidio que aparecen registrados en la base de la CEPAL en Colombia aparecen el 2017 y aparecen en la base de datos __CEPALSTAT__ hasta el año 2022, y los datos están basados en los datos públicos de cada país. La base de datos **feminicidio_2017_2022** cuenta con los datos de 16 países, entre los años 2017 y 2022. Cabe destacar que según el mismo organismo es difícil compara los datos de un país con los otros de la misma región."
   ]
  },
  {
   "cell_type": "code",
   "execution_count": 84,
   "metadata": {},
   "outputs": [
    {
     "data": {
      "text/html": [
       "<div>\n",
       "<style scoped>\n",
       "    .dataframe tbody tr th:only-of-type {\n",
       "        vertical-align: middle;\n",
       "    }\n",
       "\n",
       "    .dataframe tbody tr th {\n",
       "        vertical-align: top;\n",
       "    }\n",
       "\n",
       "    .dataframe thead th {\n",
       "        text-align: right;\n",
       "    }\n",
       "</style>\n",
       "<table border=\"1\" class=\"dataframe\">\n",
       "  <thead>\n",
       "    <tr style=\"text-align: right;\">\n",
       "      <th></th>\n",
       "      <th>2017</th>\n",
       "      <th>2018</th>\n",
       "      <th>2019</th>\n",
       "      <th>2020</th>\n",
       "      <th>2021</th>\n",
       "      <th>2022</th>\n",
       "    </tr>\n",
       "  </thead>\n",
       "  <tbody>\n",
       "    <tr>\n",
       "      <th>count</th>\n",
       "      <td>16.000000</td>\n",
       "      <td>16.00000</td>\n",
       "      <td>16.000000</td>\n",
       "      <td>16.000000</td>\n",
       "      <td>16.000000</td>\n",
       "      <td>16.000000</td>\n",
       "    </tr>\n",
       "    <tr>\n",
       "      <th>mean</th>\n",
       "      <td>222.875000</td>\n",
       "      <td>242.37500</td>\n",
       "      <td>241.437500</td>\n",
       "      <td>234.687500</td>\n",
       "      <td>240.187500</td>\n",
       "      <td>247.062500</td>\n",
       "    </tr>\n",
       "    <tr>\n",
       "      <th>std</th>\n",
       "      <td>287.205588</td>\n",
       "      <td>335.40401</td>\n",
       "      <td>366.227246</td>\n",
       "      <td>372.274938</td>\n",
       "      <td>378.193111</td>\n",
       "      <td>393.038839</td>\n",
       "    </tr>\n",
       "    <tr>\n",
       "      <th>min</th>\n",
       "      <td>15.000000</td>\n",
       "      <td>19.00000</td>\n",
       "      <td>17.000000</td>\n",
       "      <td>19.000000</td>\n",
       "      <td>18.000000</td>\n",
       "      <td>19.000000</td>\n",
       "    </tr>\n",
       "    <tr>\n",
       "      <th>25%</th>\n",
       "      <td>46.750000</td>\n",
       "      <td>51.75000</td>\n",
       "      <td>34.000000</td>\n",
       "      <td>34.750000</td>\n",
       "      <td>32.750000</td>\n",
       "      <td>41.250000</td>\n",
       "    </tr>\n",
       "    <tr>\n",
       "      <th>50%</th>\n",
       "      <td>125.000000</td>\n",
       "      <td>152.50000</td>\n",
       "      <td>131.500000</td>\n",
       "      <td>115.500000</td>\n",
       "      <td>123.000000</td>\n",
       "      <td>92.500000</td>\n",
       "    </tr>\n",
       "    <tr>\n",
       "      <th>75%</th>\n",
       "      <td>239.000000</td>\n",
       "      <td>229.00000</td>\n",
       "      <td>195.750000</td>\n",
       "      <td>197.000000</td>\n",
       "      <td>215.250000</td>\n",
       "      <td>219.250000</td>\n",
       "    </tr>\n",
       "    <tr>\n",
       "      <th>max</th>\n",
       "      <td>1075.000000</td>\n",
       "      <td>1229.00000</td>\n",
       "      <td>1330.000000</td>\n",
       "      <td>1354.000000</td>\n",
       "      <td>1341.000000</td>\n",
       "      <td>1437.000000</td>\n",
       "    </tr>\n",
       "  </tbody>\n",
       "</table>\n",
       "</div>"
      ],
      "text/plain": [
       "              2017        2018         2019         2020         2021  \\\n",
       "count    16.000000    16.00000    16.000000    16.000000    16.000000   \n",
       "mean    222.875000   242.37500   241.437500   234.687500   240.187500   \n",
       "std     287.205588   335.40401   366.227246   372.274938   378.193111   \n",
       "min      15.000000    19.00000    17.000000    19.000000    18.000000   \n",
       "25%      46.750000    51.75000    34.000000    34.750000    32.750000   \n",
       "50%     125.000000   152.50000   131.500000   115.500000   123.000000   \n",
       "75%     239.000000   229.00000   195.750000   197.000000   215.250000   \n",
       "max    1075.000000  1229.00000  1330.000000  1354.000000  1341.000000   \n",
       "\n",
       "              2022  \n",
       "count    16.000000  \n",
       "mean    247.062500  \n",
       "std     393.038839  \n",
       "min      19.000000  \n",
       "25%      41.250000  \n",
       "50%      92.500000  \n",
       "75%     219.250000  \n",
       "max    1437.000000  "
      ]
     },
     "execution_count": 84,
     "metadata": {},
     "output_type": "execute_result"
    }
   ],
   "source": [
    "feminicidio_2017_2022.describe(include='all')"
   ]
  },
  {
   "cell_type": "code",
   "execution_count": 85,
   "metadata": {},
   "outputs": [
    {
     "data": {
      "text/html": [
       "<div>\n",
       "<style scoped>\n",
       "    .dataframe tbody tr th:only-of-type {\n",
       "        vertical-align: middle;\n",
       "    }\n",
       "\n",
       "    .dataframe tbody tr th {\n",
       "        vertical-align: top;\n",
       "    }\n",
       "\n",
       "    .dataframe thead th {\n",
       "        text-align: right;\n",
       "    }\n",
       "</style>\n",
       "<table border=\"1\" class=\"dataframe\">\n",
       "  <thead>\n",
       "    <tr style=\"text-align: right;\">\n",
       "      <th>País__ESTANDAR</th>\n",
       "      <th>Argentina</th>\n",
       "      <th>Bolivia (Estado Plurinacional de)</th>\n",
       "      <th>Brasil</th>\n",
       "      <th>Costa Rica</th>\n",
       "      <th>Ecuador</th>\n",
       "      <th>El Salvador</th>\n",
       "      <th>Guatemala</th>\n",
       "      <th>Panamá</th>\n",
       "      <th>Paraguay</th>\n",
       "      <th>Perú</th>\n",
       "      <th>República Dominicana</th>\n",
       "      <th>Trinidad y Tabago</th>\n",
       "      <th>Uruguay</th>\n",
       "      <th>Honduras</th>\n",
       "      <th>México</th>\n",
       "      <th>Colombia</th>\n",
       "    </tr>\n",
       "  </thead>\n",
       "  <tbody>\n",
       "    <tr>\n",
       "      <th>count</th>\n",
       "      <td>6.000000</td>\n",
       "      <td>6.000000</td>\n",
       "      <td>6.000000</td>\n",
       "      <td>6.000000</td>\n",
       "      <td>6.000000</td>\n",
       "      <td>6.000000</td>\n",
       "      <td>6.000000</td>\n",
       "      <td>6.000000</td>\n",
       "      <td>6.000000</td>\n",
       "      <td>6.000000</td>\n",
       "      <td>6.000000</td>\n",
       "      <td>6.000000</td>\n",
       "      <td>6.000000</td>\n",
       "      <td>6.000000</td>\n",
       "      <td>6.000000</td>\n",
       "      <td>6.000000</td>\n",
       "    </tr>\n",
       "    <tr>\n",
       "      <th>mean</th>\n",
       "      <td>245.333333</td>\n",
       "      <td>112.000000</td>\n",
       "      <td>1294.333333</td>\n",
       "      <td>21.833333</td>\n",
       "      <td>79.333333</td>\n",
       "      <td>137.000000</td>\n",
       "      <td>138.000000</td>\n",
       "      <td>21.166667</td>\n",
       "      <td>42.666667</td>\n",
       "      <td>142.333333</td>\n",
       "      <td>147.166667</td>\n",
       "      <td>25.500000</td>\n",
       "      <td>26.000000</td>\n",
       "      <td>253.000000</td>\n",
       "      <td>919.833333</td>\n",
       "      <td>204.166667</td>\n",
       "    </tr>\n",
       "    <tr>\n",
       "      <th>std</th>\n",
       "      <td>10.819735</td>\n",
       "      <td>11.781341</td>\n",
       "      <td>126.284863</td>\n",
       "      <td>4.535049</td>\n",
       "      <td>13.063945</td>\n",
       "      <td>91.605677</td>\n",
       "      <td>30.744105</td>\n",
       "      <td>5.382069</td>\n",
       "      <td>10.519823</td>\n",
       "      <td>7.366591</td>\n",
       "      <td>17.702166</td>\n",
       "      <td>8.689074</td>\n",
       "      <td>3.847077</td>\n",
       "      <td>38.693669</td>\n",
       "      <td>95.898731</td>\n",
       "      <td>18.798050</td>\n",
       "    </tr>\n",
       "    <tr>\n",
       "      <th>min</th>\n",
       "      <td>231.000000</td>\n",
       "      <td>94.000000</td>\n",
       "      <td>1075.000000</td>\n",
       "      <td>17.000000</td>\n",
       "      <td>68.000000</td>\n",
       "      <td>53.000000</td>\n",
       "      <td>91.000000</td>\n",
       "      <td>15.000000</td>\n",
       "      <td>35.000000</td>\n",
       "      <td>131.000000</td>\n",
       "      <td>119.000000</td>\n",
       "      <td>20.000000</td>\n",
       "      <td>19.000000</td>\n",
       "      <td>218.000000</td>\n",
       "      <td>742.000000</td>\n",
       "      <td>177.000000</td>\n",
       "    </tr>\n",
       "    <tr>\n",
       "      <th>25%</th>\n",
       "      <td>236.750000</td>\n",
       "      <td>108.500000</td>\n",
       "      <td>1254.250000</td>\n",
       "      <td>18.250000</td>\n",
       "      <td>70.250000</td>\n",
       "      <td>74.750000</td>\n",
       "      <td>123.000000</td>\n",
       "      <td>19.000000</td>\n",
       "      <td>36.000000</td>\n",
       "      <td>138.000000</td>\n",
       "      <td>138.000000</td>\n",
       "      <td>21.250000</td>\n",
       "      <td>25.250000</td>\n",
       "      <td>228.750000</td>\n",
       "      <td>906.000000</td>\n",
       "      <td>192.250000</td>\n",
       "    </tr>\n",
       "    <tr>\n",
       "      <th>50%</th>\n",
       "      <td>251.000000</td>\n",
       "      <td>111.500000</td>\n",
       "      <td>1335.500000</td>\n",
       "      <td>21.000000</td>\n",
       "      <td>74.000000</td>\n",
       "      <td>96.500000</td>\n",
       "      <td>142.000000</td>\n",
       "      <td>20.000000</td>\n",
       "      <td>36.500000</td>\n",
       "      <td>144.000000</td>\n",
       "      <td>151.000000</td>\n",
       "      <td>22.500000</td>\n",
       "      <td>27.000000</td>\n",
       "      <td>234.500000</td>\n",
       "      <td>946.500000</td>\n",
       "      <td>209.000000</td>\n",
       "    </tr>\n",
       "    <tr>\n",
       "      <th>75%</th>\n",
       "      <td>251.750000</td>\n",
       "      <td>116.000000</td>\n",
       "      <td>1350.750000</td>\n",
       "      <td>25.250000</td>\n",
       "      <td>86.000000</td>\n",
       "      <td>202.250000</td>\n",
       "      <td>152.750000</td>\n",
       "      <td>21.750000</td>\n",
       "      <td>49.000000</td>\n",
       "      <td>147.750000</td>\n",
       "      <td>160.250000</td>\n",
       "      <td>23.750000</td>\n",
       "      <td>28.000000</td>\n",
       "      <td>280.000000</td>\n",
       "      <td>969.000000</td>\n",
       "      <td>213.750000</td>\n",
       "    </tr>\n",
       "    <tr>\n",
       "      <th>max</th>\n",
       "      <td>255.000000</td>\n",
       "      <td>130.000000</td>\n",
       "      <td>1437.000000</td>\n",
       "      <td>28.000000</td>\n",
       "      <td>101.000000</td>\n",
       "      <td>271.000000</td>\n",
       "      <td>180.000000</td>\n",
       "      <td>31.000000</td>\n",
       "      <td>59.000000</td>\n",
       "      <td>150.000000</td>\n",
       "      <td>165.000000</td>\n",
       "      <td>43.000000</td>\n",
       "      <td>30.000000</td>\n",
       "      <td>309.000000</td>\n",
       "      <td>1015.000000</td>\n",
       "      <td>228.000000</td>\n",
       "    </tr>\n",
       "  </tbody>\n",
       "</table>\n",
       "</div>"
      ],
      "text/plain": [
       "País__ESTANDAR   Argentina  Bolivia (Estado Plurinacional de)       Brasil  \\\n",
       "count             6.000000                           6.000000     6.000000   \n",
       "mean            245.333333                         112.000000  1294.333333   \n",
       "std              10.819735                          11.781341   126.284863   \n",
       "min             231.000000                          94.000000  1075.000000   \n",
       "25%             236.750000                         108.500000  1254.250000   \n",
       "50%             251.000000                         111.500000  1335.500000   \n",
       "75%             251.750000                         116.000000  1350.750000   \n",
       "max             255.000000                         130.000000  1437.000000   \n",
       "\n",
       "País__ESTANDAR  Costa Rica     Ecuador  El Salvador   Guatemala     Panamá  \\\n",
       "count             6.000000    6.000000     6.000000    6.000000   6.000000   \n",
       "mean             21.833333   79.333333   137.000000  138.000000  21.166667   \n",
       "std               4.535049   13.063945    91.605677   30.744105   5.382069   \n",
       "min              17.000000   68.000000    53.000000   91.000000  15.000000   \n",
       "25%              18.250000   70.250000    74.750000  123.000000  19.000000   \n",
       "50%              21.000000   74.000000    96.500000  142.000000  20.000000   \n",
       "75%              25.250000   86.000000   202.250000  152.750000  21.750000   \n",
       "max              28.000000  101.000000   271.000000  180.000000  31.000000   \n",
       "\n",
       "País__ESTANDAR   Paraguay        Perú  República Dominicana  \\\n",
       "count            6.000000    6.000000              6.000000   \n",
       "mean            42.666667  142.333333            147.166667   \n",
       "std             10.519823    7.366591             17.702166   \n",
       "min             35.000000  131.000000            119.000000   \n",
       "25%             36.000000  138.000000            138.000000   \n",
       "50%             36.500000  144.000000            151.000000   \n",
       "75%             49.000000  147.750000            160.250000   \n",
       "max             59.000000  150.000000            165.000000   \n",
       "\n",
       "País__ESTANDAR  Trinidad y Tabago    Uruguay    Honduras       México  \\\n",
       "count                    6.000000   6.000000    6.000000     6.000000   \n",
       "mean                    25.500000  26.000000  253.000000   919.833333   \n",
       "std                      8.689074   3.847077   38.693669    95.898731   \n",
       "min                     20.000000  19.000000  218.000000   742.000000   \n",
       "25%                     21.250000  25.250000  228.750000   906.000000   \n",
       "50%                     22.500000  27.000000  234.500000   946.500000   \n",
       "75%                     23.750000  28.000000  280.000000   969.000000   \n",
       "max                     43.000000  30.000000  309.000000  1015.000000   \n",
       "\n",
       "País__ESTANDAR    Colombia  \n",
       "count             6.000000  \n",
       "mean            204.166667  \n",
       "std              18.798050  \n",
       "min             177.000000  \n",
       "25%             192.250000  \n",
       "50%             209.000000  \n",
       "75%             213.750000  \n",
       "max             228.000000  "
      ]
     },
     "execution_count": 85,
     "metadata": {},
     "output_type": "execute_result"
    }
   ],
   "source": [
    "transposed_feminicidio_2017_2022 = feminicidio_2017_2022.T\n",
    "datos_estadisticos =transposed_feminicidio_2017_2022.describe(include='all')\n",
    "datos_estadisticos"
   ]
  },
  {
   "cell_type": "markdown",
   "metadata": {},
   "source": [
    "**grafico n**  del codigo de __r__ se obtuvo"
   ]
  },
  {
   "cell_type": "markdown",
   "metadata": {},
   "source": [
    "<img src=\"cepal_2017_2022.png\">"
   ]
  },
  {
   "cell_type": "markdown",
   "metadata": {},
   "source": [
    "## conclusiones de la pregunta:\"¿Cuáles son las tasas de feminicidios comparadas con otros paises de la region?\"\n",
    "\n",
    "La Base de datos de la Cepal, es una base de datos que cuenta con los datos de los actos de feminicidios de 16 países incluido Colombia, la Cepal tomo los datos de los datos públicos de cada país, y advierte que está sujeta a verificaciones. En principio por diferencias en la definición que existen entre feminicidio en los diferentes países de la región no es posible comparar los datos uno con otros, si embargo si se pueden hacer algunas observaciones. En el periodo propuesto ( 2017 al 2022), Argentina y Colombia son los países que menos variaciones han tendió; Brasil es el país con más variación de los datos ha tenido; El salvador es el país que más ha reducido las tasas de feminicidio; Uruguay y Trinidad y Tobago quienes tiene las tasas más bajas."
   ]
  },
  {
   "cell_type": "markdown",
   "metadata": {
    "vscode": {
     "languageId": "plaintext"
    }
   },
   "source": [
    "# Bibliografia:\n",
    "\n",
    "> Cepal(2024) _*indicadores:feminicidio*_. Repositorio estadistico de la cepal. Referido de:https://oig.cepal.org/es/indicadores/feminicidio\n",
    ">senado(2015)_ *ley 1761 del 2015*_. secretaria del senado. Referido de: \"http://www.secretariasenado.gov.co/senado/basedoc/ley_1761_2015.html\"\n",
    "> unwoman(2022)_*\"Guia para la investigación del feminicidio\"*_ . ONU mujer, referido de:https://colombia.unwomen.org/es/digital-library/publications/2022/09/serie-guias-practicas-investigacion-feminicidio\n",
    "\n",
    "> who(2012) _*Comprender y abordar la violencia contra las mujeres: violencia sexual*_ referido de: https://www.who.int/es/publications/i/item/WHO-RHR-12.37\n",
    "* \n"
   ]
  }
 ],
 "metadata": {
  "kernelspec": {
   "display_name": "Python 3 (ipykernel)",
   "language": "python",
   "name": "python3"
  },
  "language_info": {
   "codemirror_mode": {
    "name": "ipython",
    "version": 3
   },
   "file_extension": ".py",
   "mimetype": "text/x-python",
   "name": "python",
   "nbconvert_exporter": "python",
   "pygments_lexer": "ipython3",
   "version": "3.11.7"
  }
 },
 "nbformat": 4,
 "nbformat_minor": 4
}
